{
  "nbformat": 4,
  "nbformat_minor": 0,
  "metadata": {
    "colab": {
      "provenance": []
    },
    "kernelspec": {
      "name": "python3",
      "display_name": "Python 3"
    },
    "language_info": {
      "name": "python"
    }
  },
  "cells": [
    {
      "cell_type": "markdown",
      "source": [
        "# Text Classification Using the Stanford SST Sentiment Dataset\n",
        "### Alexander Leung\n"
      ],
      "metadata": {
        "id": "lqpUZMGxgWS0"
      }
    },
    {
      "cell_type": "markdown",
      "source": [
        "## Introduction\n",
        "\n",
        "In this notebook, I explore the use of tensorflow keras LSTM and Conv1D models for sentiment analysis using the Stanford SST Sentiment Dataset. The dataset consists of sentences from movie reviews that are labeled as either bearing a positive or a negative overall sentiment.\n",
        "\n",
        "Machine Learning models that are able to accurately identify the prevailing sentiment of a given piece of text have clear utility in both commercial and policymaking realms. In the private sector, companies can use sentiment analysis as a means of better understanding how consumers view their products and services. Governments can also use sentiment analysis to determine public reception of newly instituted policies and laws. Predictive models generated from working on data like the SST dataset can hence help create value across a wide range of possible applications.\n",
        "\n",
        "I began my model experimentation by importing the dataset (from AI Model Share) and other necessary libraries."
      ],
      "metadata": {
        "id": "KA6rA-UvgltK"
      }
    },
    {
      "cell_type": "code",
      "execution_count": 51,
      "metadata": {
        "id": "AfT2DDJ3gQdS"
      },
      "outputs": [],
      "source": [
        "# import necessary libraries\n",
        "import numpy as np\n",
        "from tensorflow import keras\n",
        "from tensorflow.keras.preprocessing.text import Tokenizer\n",
        "from tensorflow.keras.utils import pad_sequences\n",
        "from tensorflow.keras.layers import Dense, Embedding, Flatten, LSTM, Bidirectional\n",
        "from tensorflow.keras.models import Sequential\n",
        "from tensorflow.keras import layers\n",
        "import aimodelshare as ai\n",
        "from aimodelshare.aimsonnx import model_to_onnx\n",
        "from aimodelshare.aws import set_credentials\n",
        "import os"
      ]
    },
    {
      "cell_type": "code",
      "source": [
        "# install aimodelshare library\n",
        "! pip install aimodelshare==0.0.189"
      ],
      "metadata": {
        "id": "AqOkZstwjWH4"
      },
      "execution_count": null,
      "outputs": []
    },
    {
      "cell_type": "code",
      "source": [
        "# download competition data\n",
        "from aimodelshare import download_data\n",
        "download_data('public.ecr.aws/y2e2a1d6/sst2_competition_data-repository:latest') "
      ],
      "metadata": {
        "colab": {
          "base_uri": "https://localhost:8080/"
        },
        "id": "ZjzeNTbBjYOM",
        "outputId": "e6574e61-b000-4796-8667-cf443210d205"
      },
      "execution_count": 2,
      "outputs": [
        {
          "output_type": "stream",
          "name": "stdout",
          "text": [
            "Downloading [=============================================>   ]\n",
            "\n",
            "Data downloaded successfully.\n"
          ]
        }
      ]
    },
    {
      "cell_type": "code",
      "source": [
        "# Set up X_train, X_test, and y_train_labels objects\n",
        "import pandas as pd\n",
        "import warnings\n",
        "warnings.simplefilter(action='ignore', category=Warning)\n",
        "\n",
        "X_train=pd.read_csv(\"sst2_competition_data/X_train.csv\", squeeze=True)\n",
        "X_test=pd.read_csv(\"sst2_competition_data/X_test.csv\", squeeze=True)\n",
        "\n",
        "y_train_labels=pd.read_csv(\"sst2_competition_data/y_train_labels.csv\", squeeze=True)\n",
        "\n",
        "# ohe encode Y data\n",
        "y_train = pd.get_dummies(y_train_labels)\n",
        "\n",
        "# view example of X_train data\n",
        "X_train.head()"
      ],
      "metadata": {
        "colab": {
          "base_uri": "https://localhost:8080/"
        },
        "id": "LmpsuZ18joRc",
        "outputId": "bbfd8b57-8a30-4870-94f5-027be878cfde"
      },
      "execution_count": 3,
      "outputs": [
        {
          "output_type": "execute_result",
          "data": {
            "text/plain": [
              "0    The Rock is destined to be the 21st Century 's...\n",
              "1    The gorgeously elaborate continuation of `` Th...\n",
              "2    Singer/composer Bryan Adams contributes a slew...\n",
              "3                 Yet the act is still charming here .\n",
              "4    Whether or not you 're enlightened by any of D...\n",
              "Name: text, dtype: object"
            ]
          },
          "metadata": {},
          "execution_count": 3
        }
      ]
    },
    {
      "cell_type": "markdown",
      "source": [
        "## Data Preprocessing\n",
        "\n",
        "I next preprocessed the data using keras' tokenizer function."
      ],
      "metadata": {
        "id": "uvvqONS-kGyt"
      }
    },
    {
      "cell_type": "code",
      "source": [
        "# build vocabulary from training text data\n",
        "tokenizer = Tokenizer(num_words=10000)\n",
        "tokenizer.fit_on_texts(X_train)\n",
        "word_index = tokenizer.word_index\n",
        "\n",
        "# define preprocessor function that ensures all documents have the same length\n",
        "def preprocessor(data, maxlen=40, max_words=10000):\n",
        "\n",
        "    sequences = tokenizer.texts_to_sequences(data)\n",
        "\n",
        "    word_index = tokenizer.word_index\n",
        "    X = pad_sequences(sequences, maxlen=maxlen)\n",
        "\n",
        "    return X\n",
        "\n",
        "# check shape of preprocessed objects\n",
        "print(preprocessor(X_train).shape)\n",
        "print(preprocessor(X_test).shape)"
      ],
      "metadata": {
        "colab": {
          "base_uri": "https://localhost:8080/"
        },
        "id": "xO2Ek_4ukSsr",
        "outputId": "a4eac056-ed00-4225-a5cc-05afcf80c877"
      },
      "execution_count": 32,
      "outputs": [
        {
          "output_type": "stream",
          "name": "stdout",
          "text": [
            "(6920, 40)\n",
            "(1821, 40)\n"
          ]
        }
      ]
    },
    {
      "cell_type": "code",
      "source": [
        "# save preprocessor\n",
        "ai.export_preprocessor(preprocessor,\"\") "
      ],
      "metadata": {
        "colab": {
          "base_uri": "https://localhost:8080/"
        },
        "id": "XQ4IuFSNssmI",
        "outputId": "2307eb3b-20ce-4d5e-e8c5-7c31f176bc8e"
      },
      "execution_count": 15,
      "outputs": [
        {
          "output_type": "stream",
          "name": "stdout",
          "text": [
            "Your preprocessor is now saved to 'preprocessor.zip'\n"
          ]
        }
      ]
    },
    {
      "cell_type": "markdown",
      "source": [
        "## Model 1: Simple LSTM\n",
        "\n",
        "For my first model, I used a simple LSTM model with an embedding layer."
      ],
      "metadata": {
        "id": "msCMIzBtklqa"
      }
    },
    {
      "cell_type": "code",
      "source": [
        "# build simple LSTM model with embedding layer\n",
        "model1 = Sequential()\n",
        "model1.add(Embedding(10000, 16, input_length = 40))\n",
        "model1.add(LSTM(32))\n",
        "model1.add(Flatten())\n",
        "model1.add(Dense(2, activation = 'softmax'))\n",
        "\n",
        "model1.compile(optimizer='rmsprop', loss='categorical_crossentropy', metrics=['acc'])\n",
        "\n",
        "history1 = model1.fit(preprocessor(X_train), y_train,\n",
        "                    epochs=30,\n",
        "                    batch_size=32,\n",
        "                    validation_split=0.2)"
      ],
      "metadata": {
        "colab": {
          "base_uri": "https://localhost:8080/"
        },
        "id": "wyR6LN2XklTx",
        "outputId": "5d9aa84e-869b-42ce-8311-0c45d48b15cc"
      },
      "execution_count": 13,
      "outputs": [
        {
          "output_type": "stream",
          "name": "stdout",
          "text": [
            "Epoch 1/30\n",
            "173/173 [==============================] - 35s 25ms/step - loss: 0.6475 - acc: 0.6248 - val_loss: 0.7241 - val_acc: 0.4863\n",
            "Epoch 2/30\n",
            "173/173 [==============================] - 4s 24ms/step - loss: 0.4865 - acc: 0.7713 - val_loss: 0.9159 - val_acc: 0.5643\n",
            "Epoch 3/30\n",
            "173/173 [==============================] - 3s 19ms/step - loss: 0.3558 - acc: 0.8483 - val_loss: 0.5859 - val_acc: 0.7319\n",
            "Epoch 4/30\n",
            "173/173 [==============================] - 3s 16ms/step - loss: 0.2763 - acc: 0.8869 - val_loss: 0.4739 - val_acc: 0.7970\n",
            "Epoch 5/30\n",
            "173/173 [==============================] - 3s 16ms/step - loss: 0.2257 - acc: 0.9108 - val_loss: 0.6011 - val_acc: 0.7551\n",
            "Epoch 6/30\n",
            "173/173 [==============================] - 3s 16ms/step - loss: 0.1891 - acc: 0.9225 - val_loss: 0.6763 - val_acc: 0.7457\n",
            "Epoch 7/30\n",
            "173/173 [==============================] - 4s 24ms/step - loss: 0.1639 - acc: 0.9352 - val_loss: 0.6721 - val_acc: 0.7522\n",
            "Epoch 8/30\n",
            "173/173 [==============================] - 4s 24ms/step - loss: 0.1432 - acc: 0.9435 - val_loss: 0.7959 - val_acc: 0.7139\n",
            "Epoch 9/30\n",
            "173/173 [==============================] - 3s 17ms/step - loss: 0.1238 - acc: 0.9487 - val_loss: 0.7954 - val_acc: 0.7211\n",
            "Epoch 10/30\n",
            "173/173 [==============================] - 3s 16ms/step - loss: 0.1097 - acc: 0.9586 - val_loss: 0.8988 - val_acc: 0.7413\n",
            "Epoch 11/30\n",
            "173/173 [==============================] - 3s 16ms/step - loss: 0.0978 - acc: 0.9601 - val_loss: 0.6088 - val_acc: 0.7775\n",
            "Epoch 12/30\n",
            "173/173 [==============================] - 3s 18ms/step - loss: 0.0869 - acc: 0.9668 - val_loss: 0.7115 - val_acc: 0.7818\n",
            "Epoch 13/30\n",
            "173/173 [==============================] - 4s 24ms/step - loss: 0.0779 - acc: 0.9698 - val_loss: 0.7574 - val_acc: 0.7897\n",
            "Epoch 14/30\n",
            "173/173 [==============================] - 4s 22ms/step - loss: 0.0713 - acc: 0.9743 - val_loss: 1.0396 - val_acc: 0.7399\n",
            "Epoch 15/30\n",
            "173/173 [==============================] - 3s 16ms/step - loss: 0.0623 - acc: 0.9762 - val_loss: 0.9715 - val_acc: 0.7421\n",
            "Epoch 16/30\n",
            "173/173 [==============================] - 3s 16ms/step - loss: 0.0584 - acc: 0.9796 - val_loss: 0.9153 - val_acc: 0.7652\n",
            "Epoch 17/30\n",
            "173/173 [==============================] - 3s 16ms/step - loss: 0.0534 - acc: 0.9807 - val_loss: 1.2194 - val_acc: 0.7240\n",
            "Epoch 18/30\n",
            "173/173 [==============================] - 4s 21ms/step - loss: 0.0490 - acc: 0.9825 - val_loss: 1.1491 - val_acc: 0.7384\n",
            "Epoch 19/30\n",
            "173/173 [==============================] - 4s 24ms/step - loss: 0.0435 - acc: 0.9827 - val_loss: 1.1501 - val_acc: 0.7637\n",
            "Epoch 20/30\n",
            "173/173 [==============================] - 3s 20ms/step - loss: 0.0397 - acc: 0.9854 - val_loss: 1.3899 - val_acc: 0.7233\n",
            "Epoch 21/30\n",
            "173/173 [==============================] - 3s 16ms/step - loss: 0.0375 - acc: 0.9861 - val_loss: 1.1064 - val_acc: 0.7652\n",
            "Epoch 22/30\n",
            "173/173 [==============================] - 3s 16ms/step - loss: 0.0355 - acc: 0.9872 - val_loss: 1.2692 - val_acc: 0.7493\n",
            "Epoch 23/30\n",
            "173/173 [==============================] - 3s 16ms/step - loss: 0.0316 - acc: 0.9884 - val_loss: 1.7739 - val_acc: 0.7254\n",
            "Epoch 24/30\n",
            "173/173 [==============================] - 4s 24ms/step - loss: 0.0304 - acc: 0.9892 - val_loss: 1.1709 - val_acc: 0.7601\n",
            "Epoch 25/30\n",
            "173/173 [==============================] - 4s 24ms/step - loss: 0.0287 - acc: 0.9892 - val_loss: 1.4243 - val_acc: 0.7587\n",
            "Epoch 26/30\n",
            "173/173 [==============================] - 3s 17ms/step - loss: 0.0264 - acc: 0.9899 - val_loss: 1.3056 - val_acc: 0.7883\n",
            "Epoch 27/30\n",
            "173/173 [==============================] - 3s 16ms/step - loss: 0.0248 - acc: 0.9904 - val_loss: 1.2659 - val_acc: 0.7760\n",
            "Epoch 28/30\n",
            "173/173 [==============================] - 3s 16ms/step - loss: 0.0239 - acc: 0.9910 - val_loss: 1.2554 - val_acc: 0.7818\n",
            "Epoch 29/30\n",
            "173/173 [==============================] - 3s 17ms/step - loss: 0.0220 - acc: 0.9921 - val_loss: 1.5781 - val_acc: 0.7421\n",
            "Epoch 30/30\n",
            "173/173 [==============================] - 4s 24ms/step - loss: 0.0195 - acc: 0.9926 - val_loss: 1.5502 - val_acc: 0.7449\n"
          ]
        }
      ]
    },
    {
      "cell_type": "code",
      "source": [
        "# save model to local onnx file\n",
        "onnx_model1 = model_to_onnx(model1, framework='keras',\n",
        "                          transfer_learning=False,\n",
        "                          deep_learning=True)\n",
        "\n",
        "with open(\"model1.onnx\", \"wb\") as f:\n",
        "    f.write(onnx_model1.SerializeToString())"
      ],
      "metadata": {
        "id": "fgKR-g5Bq8PH"
      },
      "execution_count": 16,
      "outputs": []
    },
    {
      "cell_type": "markdown",
      "source": [
        "I submitted this first model to a competition hosted on the AI Model Share platform."
      ],
      "metadata": {
        "id": "yGYmOzJVrvxN"
      }
    },
    {
      "cell_type": "code",
      "source": [
        "#Set credentials using modelshare.org username/password    \n",
        "apiurl=\"https://rlxjxnoql9.execute-api.us-east-1.amazonaws.com/prod/m\" #This is the unique rest api that powers this specific Playground\n",
        "\n",
        "set_credentials(apiurl=apiurl)"
      ],
      "metadata": {
        "colab": {
          "base_uri": "https://localhost:8080/"
        },
        "id": "L2AfUSf_r0Z3",
        "outputId": "890a1755-ee58-4d00-8b19-3693f9fb15e9"
      },
      "execution_count": 17,
      "outputs": [
        {
          "output_type": "stream",
          "name": "stdout",
          "text": [
            "AI Modelshare Username:··········\n",
            "AI Modelshare Password:··········\n",
            "AI Model Share login credentials set successfully.\n"
          ]
        }
      ]
    },
    {
      "cell_type": "code",
      "source": [
        "#Instantiate Competition\n",
        "mycompetition= ai.Competition(apiurl)"
      ],
      "metadata": {
        "id": "TjX3PC3asSAY"
      },
      "execution_count": 18,
      "outputs": []
    },
    {
      "cell_type": "code",
      "source": [
        "# generate predicted y values from model 1\n",
        "prediction_column_index1 = model1.predict(preprocessor(X_test)).argmax(axis=1)\n",
        "\n",
        "# extract correct prediction labels \n",
        "prediction_labels1 = [y_train.columns[i] for i in prediction_column_index1]\n",
        "\n",
        "# Submit model 1 to leaderboard\n",
        "mycompetition.submit_model(model_filepath = \"model1.onnx\",\n",
        "                                 preprocessor_filepath=\"preprocessor.zip\",\n",
        "                                 prediction_submission=prediction_labels1)"
      ],
      "metadata": {
        "colab": {
          "base_uri": "https://localhost:8080/"
        },
        "id": "ZoOTAs5bsTFz",
        "outputId": "7783ff62-22d6-4c97-b18f-552659822050"
      },
      "execution_count": 19,
      "outputs": [
        {
          "output_type": "stream",
          "name": "stdout",
          "text": [
            "57/57 [==============================] - 1s 7ms/step\n",
            "Insert search tags to help users find your model (optional): \n",
            "Provide any useful notes about your model (optional): \n",
            "\n",
            "Your model has been submitted as model version 282\n",
            "\n",
            "To submit code used to create this model or to view current leaderboard navigate to Model Playground: \n",
            "\n",
            " https://www.modelshare.org/detail/model:2763\n"
          ]
        }
      ]
    },
    {
      "cell_type": "markdown",
      "source": [
        "### Model 1 Performance\n",
        "\n",
        "As can be seen from the image below, this baseline LSTM model performed decently, correctly classifying roughly 77.06% of test observations."
      ],
      "metadata": {
        "id": "zI9g58pnuKu1"
      }
    },
    {
      "cell_type": "markdown",
      "source": [
        "![image.png](data:image/png;base64,iVBORw0KGgoAAAANSUhEUgAABAYAAACtCAYAAAAjzn3nAAAAAXNSR0IArs4c6QAAAARnQU1BAACxjwv8YQUAAAAJcEhZcwAAFiUAABYlAUlSJPAAAFltSURBVHhe7d0HeBRVFwbgA4QeOgm99y5I7yjSEZCmiChgQ/wVQVHsYi+goIAovUgRAekgvfcmEHoJLSQQegn1n+/szmay2d1kwxKB/V6efZjdnZ3Mlrlz75l7z00Sdf3GHSEiikN4RLgEBwXb7xERxQ/LDiJKKJYfRIknqf1/IiIiIiIiIvJDDAwQERERERER+TEGBoiIiIiIiIj8GAMDRERERERERH6MgQEiIiIiIiIiP8bAABEREREREZEfY2CAiIiIiIiIyI8xMEBERERERETkxxgYICIiIiIiIvJjDAwQERERERER+TEGBoiIiIiIiIj82D0LDFy7dk2+/uorKVa0iLzzztsSGRlpf+bu3Lp1SwYOGKDbxW3mzBn2Z1y7c+eOHD0aKt98/bU0atRQX/NYvbrSo8ebsnz5crl+/bp9zZhu374tO3fulA8+eF/Xx+vw+g8//EC2bNmiz5vwXj/55GPHPm3evNn+TDTsp/n84EGD7I+KLpuPO9/at2snQwYPlpMnT9jXdm3//v3SpEljfc1LL3aVs2fP2p9xLb7vDZ/1j/37O/Zn5MiR+nla4T4eN9fB+ngd0d3AMYTfJH6f8+fNsz/qPWzH/G16urk6ZnEcHDhwQH7//Xd5660ecR5XcYkID5cRI0bIcx07Ov4ulseNG+t22yhb5s2dq8d1hfKP6GviUy5cuXJFZs2aGeN1+FsTJvwhly5dsq8VzdPnFN9yz92tRYsn5dChQ/ZXEd1bvqp7xPX7dnfsJuax5G39Bq/FNrDei11j1xW8KaPi2hb2DeWn876h3oH6h/X9g/NnMHnypFj1Ded1XJXbRHcDv6l7XfdwVw5YjylPNxwDOBZM3pYDzuLbhrC+J2s7xhXrsco6wIPlngUGTp48KWvXrdXlGX//LYcPH9blu3XqVJisWbPGfk9k9erVWgl2BQfc7NmzpE3r1kbjdYQcOnhQHz9+/LjMnTNHD4Dvvv1WLl++rI+bcBANHz7cOCE+K1P+/FPXB7z+z8mTpWuXzvp8XAfb3dq6dYv89NOP0rlzZ9mwYYP90dhWrlwpB4wDGzZt2iS7d+/WZVe8eW/JkiWTJk2bSqHChXWdpUuWSPipU7psOnHiuCyYP1+Xi5coIS1btdLXEd2NtcYxjt8kfp+r16yOcRK8lxDUwkkSDW+cKJs0biQ/fP+dXLxw0b5GwuD4fa7Tc/LtN1/L+vXr7I+KLn/et6+88MLzWkmwOhUWJu++21vefPMNPbmb5ZS1XFi3bl2syvORI0fkf6+/Lr169ozxOvytTz/5xCj3XtSKeXxZywY0Ghj4o/vZvap7OPN07Lrjy2MpofUbdxJSRrmD9zV+/Dhp2yb2vqHegfrH0F9/9ViuT/lzioSGhtrvESWOxKh73G/lgDdtCHr43bPAQI4cOaRqlaq6/GSLFpI/f35dvls7d+yUzZs32e/ZfsRHjx6134sJQYOPP/pIzp07JxkzZpSnn3lGer39jnTr9poULVZM1xk7doyMGT3acWCikj19+jRtDOBAypUrl3Tt+qK+Dv/jPh7H8/PmzY1VKb8b//vfGzJm7Di9fWaciGvVqq2P40BHdA7RfGfnz5+XTRujgwbYtzXG+3ZV0CTkvRUuXFgaNWykr1+7do2sWLlCl00I0pjfR5MmTSVv3ry6THQ3qlarJgUKFtTfZPVq1SVVqlT2ZxKuXfv2juPL+VagQAFdZ86c2dK0SWNteJsn2Lt1/Pgx6d+vn24vbdq00rRZM/nll0F6a9S4sa6zOyREfv9tqJw5c0bv46p+/x/7a28BqFixkrz5Zg89VvF6bAfb++qrL+WgZT9xdRTH70r7cVqmTFl93Vs9eznKExyvX3z+ue6XK0888YQMHzFSPxfsY9t27fTvoWwYPOgXo6Gw3r5mtHxG+f6D8R6dP1fcPv74EwkODravSXRv3Yu6h/Pv23p+dj52re7lsZSQ+o07CSmjPEH9AdvD+8T28L6xb507d9F9xeMoYydNit0rwLRt21aZOGHCPb8AQ2R1L+oeCSkHrK9xvj399DOSPHlyXe9uywFv2hDkH+5ZYAAHU5/335c9e/fJ99//IJkzZ7Y/k3CI3K1ctVKXs2TJogfWkcOH9cBwPrngx/7nn5P1R44D/GfjYPzss77y8ssvS4+33pIRxgFXt25dXXfmrJmObi64Aj5t6jRdLlfuEfl92HDp/e67+jr8j/u4Mg5Y73REhC77Qr78+aRKlSp6w4Hfr39/adCggT6Hk+TxE7G7DqOr3qpVq3TZrDCsXbvWZTfjhLw3514Dy5Yu1c8WEKiYPWu2LuN12Ff2Fkgchw8f0tvDqkKFCkblcr4sXrJUGjayBabuVo7sORzHl/MtU6ZM9rVsqhkVApxccZzcrT279ziCZx06PKvl4RPGsYLb119/owELWLRokSNSv844hv9ZsECXOzz7rHFsDpPXunfXY7Vfv/7y6Wef6XOorM+eNctxEl+8eJEssL/umQ4dZPSYMfq6V199VQYPGSI9e72tz2F//pryl8uTf5asWaVixYr6uWAfP//8C/nfG2/qcyhPt2/frstWqVOnltKly8T6XHF79NFHtaym+8fDXH7ci7qH8+8b5+efBgzQHnKAY3fb1q26bHWvjqWE1m/cSUgZ5Q7qBbjab+7b4CG/6vvGvr3Xp4+MG/+Ho1ydNGmi1mHcwXAoDhe4v7Du4b2ElAPW1zjfShj1bdS1fVEOeNOGIP/wQCUfPHbsmKNLPU7MOMBg9aqVGi2zwrqbN9lOdLVq15ayZcvqsikoKEiqVa+hy+hCs3fPHl22niDr1asnBQsW1GUTroibVyPcNdZ9JUOGDEYBUFKXceA7d+NHpX7lihX6HE603V57TSsN2C9XXf4S+t5wNbVFi5a6jEbH+nW2boZbjYrQ6tW2AqVly1Y+6xVCnuGkHHrkiN4e5hP0f6FGjZqycdNmGTV6tLRt21bSp09vfybhPHVFTJMmjbRq9ZQGIXDD8Xvjxg29goDjGvebN39S1zMlSZJEKwwVKjyq93fu3KE9DC5evCgrli/Xx3CCf+qp1jEa5ClSpJCmTZs4KuUbN26UM6dP67In+HvlypWz37NV/HkV78HF8sM3AgMDpVq1avZ7IqFHXfdctPLVsZTQ+o073pZRnvz777+OesHjj9fXhhbetwm9EBs3aaLL2LeNlquVzsKNz2f8uLE+y1FFd4dlh2/cL+WAt20I8g8PVGAAJxD8uFHprWs0bGvWrKmPuxoTc/DgAT2pQIECBV12B3r66adl7br1envs8cf1Met2ihUrFuOEBui+82aPHvqaRYuXSKlSpezP+B4OWusJO6txkFuhUo/KPaCQefyxx/WKArjKvZDQ94bIJHoDmL0JFi5aqF0PZ8z4W++jQHniifqxtke+Z56YTTxB+xauLqZLl85+zzfQnc/scfPHH+Ol3w8/6PFj9nJCxRkRftweeeQRbeSbV9GKFSsu2bNn02Wr7NlzyK9Dh+qx+t33P+g+nz0bKUeP2oYH4HV58uTRZaugoGApVdp2XO/Y8a+cOHlSl+Ny9epV+5LtM0KQgR48LD98y3p+zpgxg33JM18cSwmt37jjbRnlyT6jjmYqW65srPeHekL58uUdAYY9RmMlKipKl03YHww7AFyMWLjwH7dDDihxsOzwrfuhHPC2DUH+4Z4FBnDC9OWsBOgys2qlbRgBTlK4io2TCxqliHY5j4k5Ghodvc+SxXVXQhxE6EKMG5axz6fCo6/KZ3TqXmxCBN18nTnOx9fwXpYvW6Zd6aB69RqSJ3duXTZt27ZN1tmTLOHKRXC2bFK9RnSwxJp74W7fG3oTIIcAoIszEhSa3Y8wHjFXrpj7Rr7nfGI2PYwnaF9lBrYaMOAnR0Zd6y2u7Lp3q1ChQvKaPRKPsmr48GHG+6onnV94QbvSOmcARu+niNO2IUp4TerU0b0FTEmTJtUeRThO8T/uR0aedfwOcuXOpV2SnaVMmVKCstoCjNgX3DxBZRzJDMeMHqX3sT/ljfLXGYY0NGrYINZny2zE9w9/KT98XfdwBQm/0GNu6l9T9T6Oi7x58+myO748lhJSv/HE2zLKHTTww8Kig43u6gUos/LY8xHh7928eVOXTSjPkNvAzG8wfvz4GLlUKHGx7uE78S0HkF+jXNkyscoB64wEd1sOeNOGIP9xzwIDvs4MjAMJJ2KoVr26XiHLli27BgfgYRgT83avXo6Dv2SJ4vLqq68IMosioUj79u0lKDg6gRe6HZkJS6pUqSqlS5fWSHzlypW1R4W73AsJhV4DZjdknMjHjxun/6M7c/36j7O3wD3m7sRsethO0P/VrAT3Ao6Npk2b6VhbJBE0rTHeF5IGoRGADN532z0fjZW4GvrOIiNjJxKzVkiKFysqDZ6oL0uXLtXn2rZt5yhz6cHhT+XHvZiVwLmxXqJ4MWnfrq12uYVWTz0lJUvahv1ZPSjHkq/KKNQ3UA55I/JMpMvtInjw/PMv6NhpfP6YzcC5ZwHde6x73H3d434sBxK7DUEPjnsWGPBlZmBcPdep8sLDtbubeeLCFe3aderoMk7QIbtCdPlhUrVqNRkxclSsJCiYxmeVfRwfxhsjUQngc0bgBDZv2igXLlzQZV9A9N8cG2hCRD9nzlz2e3QvxHViNj1MJ+jEnJXAVwmGPMEJt2rVqjJ23DiZNXuOZgzGewP0EOj72WcyatSoGL2evIWrbLj64I3MmbPYlzxDReHb776TXm+/7fK7cJdJnTMS/Pf8rfy4VzMiuYKg/Vtv9ZRevVwfF67cr8eSL8oobAPlkDcyZ3HfjRrdm5FjBdBzwcxvRImDdQ/f1D1ciasccDcrgXVGgrvxX7Qh6MFwzwID+KH7KjNw5JkzjkQYyDGA6cTMyH2Xzi/o47B4yWLHmJg8eaPH154547orISKB6CKHG5axz9mCo8fznnPTfQ5/w3wdEoX5ijldIaYzMROEnTt/Trv344RrhbnM8VnAoEG/aA8DfB4Vyj8if0+fro+jq/+uXbt02RfvDfuAXALmviFA06hhw1j7Rr4T3xOz6WE5QWO40LxEmpUA3WgTCyrNRYoU0YzB8+Yv0GMdlRAYO2a05gFBY8Pa3f/q1djj/HBVDsOrcJzif9zPnDmTcVK3TbsYeiTUURZa4YqbdZiCq0CCWSEZNXqMtG7TRh9DUBa9htxV4N1lUueMBP8tfyw/fFn3MLlqrE/5a6osWbpMXu3WLUZyUKt7dSwlpH4TX/Epo9zBUCXkPzGFhrr+7aHMOmo0TADvKSAgQJed4XNq176d9kxEWThs2DA5eIBDChID6x6+q3skpBxwNyuBOSMB3E054G0bgvzHPQsM+JI1y60nGC9zwp5JP0+evI6T6KFDB12eGCdOnChVq1TW2+JFi/Qx69UFJMVx7kaDxvKAn37S1zz+WD3ZuXNnvKLk1ih7GjcVZXO6wvpGIYJx+4AudNOnTYvxemv2cU9wIt2wfr3jtQl5b87Spg10ZGpHBSaFURGge8PbE7PpYTlBPwxwrGJMYNcuXaRHjzfl6FFbZRhQIcCx3uLJFnofFQUkE0Ijwzzh79mzW8LCYs5GAhjH++orr+ix2vudt/XvZMqU2Sj3bGN69+/fpxmLnSEguHfPXl1G4yNnjuhKvMmskGDMIaYuM68aYgqyU2Fhukz3P5YfvuOqsV6mTBm3AQHTvTqWElq/cSUhZZQnRexJDGHnjp2xhgmg3hESsssx7AmJkBFQcAc9FTs820GX0ZhZv569Bu41lh2+db+VAwltQ5B/uO8DAziprFmzRpfddbEz5/RG9GulPUEhkhPWqGGbpgMHgPM8oREREbLGHmzA8ARkwQVk0TWviC9ZsiRWwht0vzHHL2K9XDlz6kkNJzcT5iC3HkjIMm6+B0A03hMEGjBu35yO7J+F/xgV/ehMv0hAZM7t66p7NCKTiFAC/u6pU7aCJyHvjf4bCT0xm3iCvj/g6mWqlKmMcmmFzJ0zR3s+WQNyuNJvPZknS5pMyxN0YQScmGfOnBHj6j9ej0zC5tSjpUqV1qnTkHcFUxYBKvCTJ09yVL4BZdLfM2Y4pgezdh90p2jRotKwoe2qydq1a2TZ8mWxAop0/2H5cf/x5bGU0PqNKwkpozxBwATJkmHevLlaVlm3h3rHtKnTdNk6NNSTevUek5atWtnv0b3EsuPeuh/KgYS2Icg/JPvoo48/tS/7FE4k33/3nbzYtYs2OFEJdZUlOy547fARw+X06dNSt25dncIGB0Pu3LkdN2Tj/Hf7v5p0KI3xNzAXORLXpEyRUhN8nDlzRpYsXixnTp+RXSEhegD99NOPmnUT2rdrL40aNdKr/unSpddpRFasWK4HA5KPRIRHaK+FRQsXyo/9+2liEnj5lVekUqXK2pDH63BQ4jVIhHjg4AEJSJZMpwQbOGCALJg/X1+DMfnt2z+tJ2PYsGGDIytog4YNHQEGVPJv37mt+302MlI/OyQFwT5OmzpVFtkjf5hXGFFI6+eBGQTCjQIB85PiM6lknHjRXTqh780K3ytmJUAXwXz58uk0hgn5XsmzjBkzaSDsbm7Yhi9dvmKbVz8x4KTVufMLMmL4cMmePbvOfZ0Q+P3/NWWKLmP8bCXjGIovX/zW0eUPnxkSGiFKj+j7SWTtNuoBSO4zesxo+XPyZO2tgxN3x+ee067PWY0G+9FjRzUgiONz185dOrUgPhdMJzZq5EjHa7q//rrOVwzoxosuupjucNfOnVrG4YrEJuN1I4YP09cCAn//e+MNzVQM1s+ptFGxr1Wrlnbvxf5j2+s3rNdy6Py581KtejXtNYRM4mhM7NixQ9IGBhrlcn4di4ykTdbbqVOntDx212WSfO9+Kz8Ss+zwVd3D+vvGVMGNGjV2HC+eJMaxhPpBQuo32Oa8efO0PmWWafheElJGudoWPmdsK3nyAOP9rNR1lhn7eOz4Mdm3b5+jnoFlePHFl4xGfz3dN0+fN8oO5I7AzFTYR1ObNm31cfId1j18X/eIbzlgPabwu86cJYtux7kcwDGAYxDHm7flAOr0CW1DWN8TejjjO3HeN9xsZUDyeJVp5nuJq9c1JZ579k3gB+SLzMCbNm3U7vRQsmQpl4UDEmgVLVZUlzEmxpwDvK5xwunZq5e+Bj/IkSNHSL8fvpchQwbL3j17dJ0Ozz4rnbt0cYzZwUHTtm1befXVbnofDeVffx2ir8MUPuaPvkePt+TJJ1s4Gs44Mb7Tu7djLN68uXPl9de7S+933tGGOKAHAF6HE3tcsN06teto8kGYP3+e7N27V04bB6uZSRTbw8HmStmyZR2f1cpVK7WylND3RpTYHqZZCZBxuE+f97X7IMohzOjx8ssv6W3CH3/oVX3kFejevbsj3wHKiJ49e0nNmrX0PsoQVKhxrM6eNUtfg7Lmvff66BUIE06wGF+NSjqgdwCmacRr0UsIUG588umnWmbFBypGT9S3XT1AL4WFCxfFusKBBgRmVen0XMdYt759P9MeDESJwVd1j3vBl8dSQuo37iSkjPIEjfqPPv5YX4PtISu7q3pGx44d49w3E8ZWI4M70b2UGHWP+JQD//zzj3Tt0tllOTBx4gQN1IG35cDdtCGsJk+a5HLfcHOeothTmWZ9L3R/uGeBAV9kBkYkCVffAT9Q/FBdwdV3XBUAnMAQ5UK3WRwEzz7bUf6YMFE6dXre0WjHyQ/Z9X8fNlxPhjh5WWHc4Js9esjYceN1GiJzPBBe37ZdO+1m88qrrzqu+psqVapkHJQj9YRXslQpfQz7Xa1adT1JDh4yxDgIbcnB4gNzijZt1lSXUUghIcj2f6PzLSAY4i6rOP4OkhUBeiWY440T+t6IElNiZQZODAiwPWE01CdNmizvGg15lAfmCRflBHpBoYxq0qRpjGAcGu4///KLfPnVV1K7dm3Hax55pLyWMShr8LhzAA+zhHz/Qz8ZMGBgjNdVrlzFUQ6VspdP8YFytEnTpnq1EBCYOH48dv4CovtBYs5K4C1fHksJrd+4ktAyyh3sW8uWrWTKX3/Zenla9q1N27YJqmdgm08ZdRbzYgnRvZAYdY//shwICQm5qzYEPfySRF2/ETNMRUTkQnhEuAQHceo5QEQcibrM3kyuFC9RQn76aYBXwUCihxHLDiJKKJYfRImHgzqIiIiIiIiI/Bh7DBBRvDBqHw1DljCfNxJmuYNEQ8WLF3d0ySXyVyw7iCihWH4QJR4GBogoXnhyJqKEYNlBRAnF8oMo8XAoAREREREREZEfY2CAiIiIiIiIyI8xMEBERERERETkxxgYICIiIiIiIvJjDAwQERERERER+TEGBoiIiIiIiIj8GAMDRERERERERH6MgQEiIiIiIiIiP8bAABEREREREZEfY2CAiIiIiIiIyI8xMEBERERERETkxxgYICIiIiIiIvJjDAwQERERERER+TEGBoiIiIiIiIj8GAMDRERERERERH6MgQEiIiIiIiIiP8bAABEREREREZEfY2CAiIiIiIiIyI8xMEBERERERETkxxgYICIiIiIiIvJjSaKu37hjX/bKzp07ZMIff9jvieTKlUte6NxFUqdObX8k2rVr12TsmNFy5MgR+yMiz3ToIKVKlZZbt27J39OnyZYtW3Qbz3V6XtKmTWtfi+4XR48eldGjRup3CenTZ5AXX3pJMmfOrPet7ty5I39Onizbt2+zPyLy+OP1pd5jj9nv0YMoPCJcgoOC7fcSzrk8SJIkiTzVurWUL19B7ztDWTNxwgT9XUG+fPm0nEiVKpX+LseNGytRxjabNmsulSpV0nXo/jJp4kT599/t9nsitWrXloYNG9nvxeRc1mTIkFFeefUVLXPoweSrsgNY9/AvrHsQ6x6UUKx7eM9nPQYiIiLk1KlT9nsxhYWFycmTJ+33Yrp8+ZIcOHBQD7wTJ04YX0yo/Rm6n128eMEoXA/b78V09uxZOXzY9XNEznDsh+wK0Yq6Mzy2bes2x4nZ2f59++TypUty8+ZNrQxev37d/gzdzw4eOCBXr16134tp166djhMzUVxY9/AvrHuQr7Du4X9Y94ibzwIDOChCQnbZ78W0Z89utwdN2rSBUqRIYUmaNKnkL1BA8uXLb3+G7mcoLHfu2OmyQMVJGydvovg6euyonDt3zn4v2vnz5+XYsWP2e7EVLlJEo7nJkyfXiH2KFCnsz9D9LDw8XMJcNNhwwsaJmyi+WPfwL6x7kC+x7uFfWPeIm09zDOzds0cjaFZXrlyRA/v363KyZMn0fys81rLVU9L38y+kS5euLrsD0v0JV1hOnz5tv2eDkzVO2jh5o8KFrlpEcbl44YKWH84OHTokFy6c198Rfk/O8uTJI73ffVc++fQzKVu2nP1Rut/duHEjRndfE07YOHG7+76JXGHdw7+w7kG+wrqHf2HdI27JPvro40/ty16JiAiXHf/+q8s5c+bUkzAiLnnz5ZOsWYP0cTh29KisWbNaC+tMmTI5unCUKVNGgoODtdvGyBHDZdrUqbJ69SopULCgZMiQQceFTJzwhz6G7a9cuUImTpwgC//5R9auXSO3b9/WA5OVx8RxwSg8t23dqt2msmTJogcPvvMsmbNI3rx57WvZuvItW7ZUrkdF6RhA8/suaHyvBQoU0GV8d7jCM/Wvv2TWzJmycOE/smLFcu0CmD17DgkMDNT1tm7dIkMGD5ZFCxfKgQP7dVxoQECAVgh+HjhQ5s2dI+vWr5MiRYo4XkP3zuUrl30yBle73m3bphH5NGnSSPr06fV3cuv2LSlduoyjEo+K3pLFi/X7DkyXTn9zeG3GjBmlXLlH9LeAMYADB/wkixcv0i7FpUuX1nFiPw8cIAsWzNfHUqVMKWPHjpHZs2bJ0iVLZN++vZLH+M1yPHHi2bljh3HSPaVjM1EuXL58Wa/klipVSlIa348JZTvKAayX0rhhHSxXrFjRWC+VroPK2oIFC2TatKlGGTBXlixZLJs3bdZyJYdxrsDvB78nPa8Y66A8QpmVLVt2PQ/Nnz9PRo0cqb+ZS5cuStFixdiIuMd8VXYA6x7+hXUPYt2DEop1D+/55MyWO3duPfHiYNodEqIfgAmRGURokMTBLJy9gZM3Dqz169frdgAnBRTo69et0/uUuIKCgiV7jhy6vGfvHsf3Aoi8IgKLA6p4iRIxfguA38h044BB8igUoihsAdvAmK0Rw4dJaKhtrCdOxqisAR7bYRzg2N7qVSsd3QWrVqlqnNCz6zI9eJInTyHFihfXZURsrVeBsGyO+y1hrGMWzt7AyXv06FF6ksZvBwU4fksT/hgvly5etK9FiQnlAk6gqMgfP3Hc/qhR+bt0yXHlJl/+/JLZOKc4Q5kxaNAgWbd2reP7w/d67txZmTdvrsz4+28tY3D1t27delqBw/2VK1ZohQBj0ZFsDlBJqF2nLoMCDzDWPfwL6x7kK6x7+B/WPeLHJ4GBdOnSO068iLiYHxoKaXTHgcKFCyU4syMi8zVq1pRWT7WW/MaXBvhCkCjC3fhBuncwpqpE8RK6bC1QcYIN2R2iyzlz5ZIc9hO4FZJBhdgrcKjQde7cRd7p3Vtq1qrluBKwaNFC3Rb+Tr16j+mJHuuvWrlCv/Pt220ZRoOCgpgJ9iFQpHARjaDju7eO8dLkPkaBish+cfvvzVsayTV+hyg7atepo78l0BP/saO6TIkLV/lwYnRuzOH7iIyM1BN32bJlXZ40cVLGSRzPVa1WTXq9/Y689PIrWpYAGoNm9/FChQtLyZKldBkJ6DZv2iTLly1zvL5atep6BYgeXKx7+BfWPciXWPfwL6x7xI9PAgNnzpzRMTYoTLEcao+0ISKDyAw+bERqXH3Y8dG4SVNp3LiJPProo3qQpUufXh9HwhBMFUKJC11gEFXD94ACFQcYoMDDyRqKFS2mvwdnmBbqgw8/ki++/EoPLBxAuKJTvXp1R+Ut0vgNXbN3A8SBjAMVEHmdPGmSXsnBbwpTEKGbFz24rl+PklSpU0uePLYuoWZWWFTOcEUIcIUoS9asuuwtXNF5/oXOWnY0aNBQHq1YUR/HCSEiPEKXKfFERUXpZ48udLB//wHtnofHUI7ghI0Tba5cufV5Z23attWy4/MvvpRmzZrruphCqkKFR/V5vB4NAEAZgQpZ2sBA3f4//yxwTFuEcqV8BddTVNGDg3UP/8K6B/kK6x7+hXWP+PNJYAAfCA4gjNvDh4ApPvCY+WFny5bN+DDyaWKHhEibNo19CRHjAEmaxLbbt2/fEfyjxIVIKKJdeXLn0fu7d4fouBpEXHGyxkkblbHwU66/b7we0bUhgwfJp598LB9+8L589+23cv68LTOs9XtFha5mrdqOqBx+T4BufiVKlNRlenChvIBSpUvpd43oKgpXa0UPY/rw+4qK8r4ijjFkKKRNqSxdAs3fEiUefN84/nHsIoszjvmDBw/qlV5c8QV070yRIrnR+Dqv952h6x66BH/zzddaduCGK30m6/eKc0+VKlV0GX8Xfx9d/OrUqeu4gkMPLnzXrHv4D9Y9yFdY9/AvrHvEn08CA4BxFQULFdJlTPEReuSIRmQAkVl0yaGHB7pYlihpuxKDaDq+b0RcASdtd91kcOAg2ROi78ePH9fXI2qPLqHukjnhxGxG+UwVKlRweVWAHkyYKgy/AXTPxRRjqNijoocrOQkZH0z3N5w00R0XJ0vMI33o8CG94osTtqdKN8ZoDh40SDZu3Kjd8hCRR/nhLqM8yheMF7Yme0L3TiSqo4cD6x7+hXUP8iXWPfwL6x5x81lgADCmApEQJGdB1kVEZPBhFytmS/BBDxdk+8WBgQJ16dIlGnHFwYCTtjVSaoUxOIjYAwrd3u++p+P8ur3WTQtnV3AS/9c+ts9kJvSghwMqYOYYXmQc37x5ky4juRgyhdPDBSdTc+zmkdAjsmzpUj1R44SNE7cr6OKJ6DwqbYi8t23XTvr0eV/Lj+rVa9jXigmNAYwPtpYVaDwimRg9PFj38C+se5CvsO7hX1j3iJtPAwMYU4PEL/iQkfgH/yNCwsytDydEVJHYCZCxEydpnKxx0nYHJ1qzu03BgoUc0Tb8VnBzhnVx4OKAxInfjL6hIrBxwwZdpgcfvtuy5cpqpQ5jg3HDY+UeKee2okcPNnT5xdVcRN+RsVcfM07Y7iLwV69ekdMRtmRjadMGOipzcPvObftSTEcOH3aciNFwxEkd5czKFcsd3Yfpwce6h39h3YN8hXUP/8O6h2c+DQygexUSv1iZkXx6+KDwxAFmLTzjygAdnC1YXweIzCKKj3GC48eN00QgzjDly157Ihgk7ej0/Asa3ccBtnbtWh0PRg+HXDlzOcZzAuZ/zWtPDEQPn6xZszqmHgPNAG2UJ+6kSJFSMma0lS0oK5YvX66VdMwNjKt4zpBIClF+NBpQRj3ZooVmEwaUG2vWrHHZIKAHD+se/oV1D/Il1j38C+senvk0MAD4cM3MvfiwzbF/9HDKmzefo/sNDgB8/+bJ1xVE6s1oGyKzI0eOkHFjx+pB5jzOD11wcNAhcm8m7UBm4cqVK+vz6Da6fNlSx1UAerCh3DDnFQb8Tpj5+eGFxhySO5lwosYJ2x008qpUreqIvK81Tq6DfvlZVhgnaST3cYZovTkvuZkwrGrVajpdEWAKIVxFpIcD6x7+hXUP8hXWPfwL6x6e+TwwYM0Yi4Ib2YLp4YUKGBI8AU7S+M49QVedZzo8GyOBDyK1LVq20gMIrly5rN121q1bKydOnNDHcPXH/DuYPxjjgQAHILrs0MPBzBhrFtyeKnr04MNYX/MqH75vs0xwp0yZstL+6af1ig5+GzhR43XNn2zhuHqIEy6Ski1bukRP4jipY05ybBvnJ8whjNeiizC6CrNy/3Bg3cO/sO5BvsS6h39h3cO9JFHXb7AvJRHFKTwiXIKDWNkmIu+w7CCihGL5QZR4fN5jgIiIiIiIiIgeHAwMEBEREREREfkxBgaIiIiIiIiI/BgDA0RERERERER+jIEBIiIiIiIiIj/GwAARERERERGRH2NggIiIiIiIiMiPMTBARERERERE5McYGCAiIiIiIiLyYwwMEBEREREREfkxBgaIiIiIiIiI/BgDA0RERERERER+jIEBIiIiIiIiIj/GwAARERERERGRH2NggIiIiIiIiMiPMTBARERERERE5McYGCAiIiIiIiLyYwwMEBEREREREfkxBgaIiIiIiIiI/BgDA0RERERERER+jIEBIiIiIiIiIj/GwAARERERERGRH2NggIiIiIiIiMiPJTl6/Pgd+zIRERERERER+Zkkdwz2ZSIit06Fh0u24GD7PSKi+GHZQUQJxfKDKPFwKAERERERERGRH2NggIiIiIiIiMiPMTBARERERERE5McYGCAiIiIiIiLyYwwMEBEREREREfkxBgaIiIiIiIiI/BgDA0RERERERER+LMkdg33ZrerGPyJ/str4RzElZC7h7mH77EtE/mFQ9iL2JTIldB7ymzd/tC8R+ZeAgLfsS5Sg8mPLbvsCkZ8oX9y+cHfYY4CIiIiIiIjIjzEwQEREREREROTHGBggIiIiIiIi8mMMDBARERERERH5MQYGiIiIiIiIiPwYAwNEREREREREfoyBASIiIiIiIiI/xsAAERERERERkR9jYICIiIiIiIjIjzEwQEREREREROTHGBggIiIiIiIi8mMMDBARERERERH5MQYGiIiIiIiIiPwYAwNEREREREREfoyBASIiIiIiIiI/xsAAERERERERkR9LcsdgX3aruvHPG7ejbsvZWWfl1JBTcn7ReQnIHCAZG2aU7P/LLumqpjP+qn1FN06PPy37Ou6z33MP2ywyvoicm3fOq/UDsgTYHrgtcn7ZeQkbGKb7CelqpJMcb+SQDE9kkCQB0Tt659YdOfrRUTn+9XH7I7Hl6ZtHcn+U234v+nMIHxYuF1ddlFsXb0mGxzNIcJdgydwisyRN6yYuY3wj149d19eeW3BO8n6TV1IXS21/UnRbO2rusN9zL225tFJkUhFJnjW57Ht2n5ybf87+jHtFxhWRrM9mtd0x9uPy9ssS9rPx+Sw8L1FHonQ/snbMKkGdgiRl3pS29ezwfi8suSDhI8L187wZeVPSlk8rWdplkeCuwZI8KLl9zfvfauMfxXQqPFyyBQfb78VP97C4j0tnF48el+3DxsjBOQvk4rHjkrV0SSnWpoWUeKaNpEhvlB8eXDt7Tha+1ktCl66wP+Je/UE/SNGnnrTfszOKw7P7D8q+qTPl8MKlcnrHLmk1Y6LkqFTBvkI03c/hY+SIsd65A4ckW4VyUqxdKynWtpUkTxN9vJqc189YqIDkq19XSj33tC4783b7pkvHT8i+6bPlyKJlcmLNepfv887t23Jq8zYJmTBFji1frZ+zuT9lu3aSdHly2deMduPKVdnz5zTZ//cc3W7ywLSSu2Y1KdXpaclVo6okS5HCvmZMeN3hBYv1+zy2YrUUbt5YavR9XwJSpbKvEZO3699vBmUvYl8iU0LKDrh580f7UvxERd2U2bN3ydChq2Tx4n2SOXMaadCguHTvXlOqVMknSZJ4rnz88ccmef758fZ77mGbY8Y8K/Pn7/Zq/SxZ0tofscH+rlhxUCZM2CTLlu2XYsWyuV0P72vEiLWyevUhSZ48mTRvXlreeKO2lCmTI9b7cl4fqlcvIB07VpQWLcpI6tS2czGeq1PnZ132pGzZnMY+dpKiRWN+h6g+Hjt2XubM2SX//LNHvvqqaax1APuzdOl+GTVqnX4vkZFX5JFHcknbto9I585VJCgo0L6mzcKFe6Vx41/t92IzP0/o1Gm8LFiwW5c9GT36WenQ4VH7vftfQMBb9iVKUPmxJe7fhLPDJ47LwAljZerif+TIyRNSvngJ6djkSenasrVkCPRc9zhz/pw8+/47Mn/NSvsj7o374jtpVKOWV+s/26S5/Z5IxNlIGT79Lxk1c5rsOXxIiuUvIK0fbyDd23WQnEHuP6fQsJMycf4cmbNymSzbtCHWdp15uz6EnTktL/b9UGavWKb3V44YLzUeiV1/goRs/+atW/LNyN/ko8ED9X7fbm/IRy9102XT5atXZcys6TJpwVzdbuYMGeTxytX0e8T/AcmS2deMLT7bv2+VL25fuDs+7zFw+/JtOdLziOxts9fR2EYD8fSE0xLSMET/R4PTF7Th7sU7sK5/5+YdOf79cdn12C6JnB6pjXbcEGQIaRIiJ/qd0HVMd67f0fcRX9bPAdvEtgGfCRrpR3of0XUcjEU0vE8OOCn/VvtXNuXdJAdfOyhRh6LsKyRAgPGek3muCDlzBEOMt47vametnRI+PFz3Da7uuaoBkr3t9srVkKv6GOC9hL4bKiGNQ+TMn2ccn9XlLZcltE+o7G6+O8b6RK6gwTn9qY6y7beR2lgFNM5Xffq1LHrzXbkSYZQfPpI0mT1AaHfj0mVZ9+2PMqVJG9n402D9u+449nPoSG20Axray9/7VBb3eC/mfhqVZzTUJzdoGWN9/I/7M5/uotuz8mr7dreuX5cdI8fLpPotZM0X38fapun2zVuy9dcRMvOZLhLyx5+Oz9ncH/xd59fi7y3s3kv/vvkcPq9D8xbKrA4vyvbfRul2YzDed9iGzfJ3647yT7e35MDMuRJ1znZOcMnb9YksLl++Lm+//be0bz9KG5+ABujEiZulSZOhxv9btCHrCwEBSSVp0vhXPlytv2dPuO4rGsBjxmyQI0fO2p+Jyfq+EIi4eDFK39fo0evliScGy+TJW2O8r1OnLsoLL4yPsT5uWH7uuXHSu/cM3aY3sP/Jktn2//btO7qvP/+8XGrWHCgFC/aV11+fIocOndHnneFv9ekzS5o1+02mTNmm+w5btx6XDz6YLS1bDpfdu0/pY6bw8Iv2Jd8JCHDfGCBCA7LuS53kx/GjNSgAW3aHSK/+38rzH/eRU2dc/74TIiAgZt0jLtb1Qw4dkOZvdpM+P/fXoADg/6+GD5Wnev1Pn3cWZdQNBk3+Q8o/00reHfCDvldPvF3fhEb1sGl/OoIC7iR0+7B88wYZPHmC/V5s+Cwadn9RXvu6r2O7kefPy5//zJNG3V+SfmNH6n66E9f2/UESX/cYiJwaKXta79HlTM0ySbaXssmNMzckbECYXN522XEV23oF3Bkaoe4axNcOXJPQ90PlRvgNyd8vv+R4K4dEhXq3PnosXFp/Sfa03CPXT16XwEqBkrNXThHjvBE2KEwuLL0gKXKkkCITi0j62ul1OzfP3HRcdcd7ytrBflXdInm25JK6hO19nZ19VvY9s08DAq62D9ar8+56Abj6vG6evilXdthOrs5uRNyQY58fkyv/XtGeD3m/y6uPo4F+51rsrxo9IdDwRxAgsEqgFJ1QVFIWSKmf6f5O++XCsgva4yPnOzkl8NFAOTPtjPYEgWyvZJP8P+aXpKmTxvjezfeL11nXD3ohSAr+UtB9T4n7CHsMxHavewxEGYX3krfel4Nz/5GUGTNI+ddelKCypeWQcX/H6D90nap9ekl5o9BP4ibii8bx6X93yc2o2OXBnVu3JWTCn7Jv2iy9+v7EkB8lfV5bDx9cpV7z+XeyY5Tt6l+63LmkSKtmkqPyo7puqsyZ9HHAlXw0kk8ajVhzP4MfKSuhS5bLzrETtcFc7aPe8sgrnXU/I/fsk/kvvSFn9x3Q7ZY1Kh9ZShTXngAIgEDBxk9IvR+/kpQZMni9fUCjfNuvw2XNlz/ofbwOV9rz1KslQWVK6t81hW/ZLnM6d5MrpyK0l0A5YzsZ8ufTBv+230fp9nPXri71B34vabIF6Wv+HTFOVnzQV5fzP1FPSj7bTntnbB82Wk7v3K29B5r9MTxGzwpsb9Eb7zoCD3hdPuOGzzNL8aKxvkNv179fscdAbInRY2DatO3Srt0oXW7atKR07VrNaIReloEDl8v27SfcXvW2QoP38GHXDYCDB8/Ihx/ONhqtl+T771vIm2/WltDQc16tb17ZR0O4a9eJsn79Eb1fs2ZBadWqrFSsmEcefTSPpExpawigevbLLyukZ8/pet98X1ev3pAff1wqGzeGSuXK+WT06A5SuHCQ3DLKuM8/XyBffrlA12/Tppw891wlDQx8990i/Rxg8uQX9O+dPn1Zdu48qY85i4i4rNvZseOk0fCvJd9801z3y10vA3efr/V7qVgxr7z1Vl3tyTF9+nYZOtR2nu3UqZLxPbWWtGltvY7wdz/9dJ6+tz596ku6dDF7J6ZKlVx7HAACDNeu3dBlq1tG3WbkyHUaGMJ2xo9/TvLnz2x/9v7HHgPR7nWPgbMXLkjXzz6QaUsW6tXldzp1lUdLlNL7Q/60NRK/ev0t6f1CV0mW1PV5CI3dLXtC5JqLuset27dl+PQpMmHebKlSuqxM+LqfXtn3Zv0CuXLr3+htNKTRqyFd2rTySuv20qBqDVmxZaP89McYuXj5sj7249vvSeqUth52aASjMfzewH56H++vbf1G0rB6TalQvKTky2G0TSy8Xd9q8Ya10vGD3nLydIT9kdg9Bu5m+869EcB6RR89BV7/9nMZNWOa3u/W9hlpVa++HDx+VL4e8ZsGfHJkDZLp/X+Rysbn6iyu7d/37sceA7ev3tau74BGZoGBBSTTk5kkuHOw5P7YVgFHcMBsGLuTMl9KSV83fexbnfRy6/wtbeSjAZ6hYQZt5Hu7Pq6GYz8RFEAAoMAvBSRL+yySpU0WyfdtPn0Mz+FKPxrOcOuSrUcBpDQazq7+nhkUgMubLzvWz/tl3ljbhys7rzi2b8LnhiEJCKq4E5A1wOXfxw09BBAUSJYumX72SVMm1RuGcLhaP1XBVHLt4DXdbsYGGSVFXtu+XT96XYMCgAAAAgMYXoH3krmV7eSK3gM3z97U3hQXVtrWTVUklRQcWlDfL9bP93U+R/Dj2t5rcuN07BM4EUTuPSBHV9gqihV7vCYVXn9Z8tSpIVX6vKUNZzi6bKVciXAfuUd39myPPiK5qleJdUufL49cOHJU18tTp6aky5VDl+HQvH8cQYEyXZ+Tp5fMkqrv99Ku9dagAJzZtVsb7WDuZ+5a1aRy7zelaCtbN7jQRcsc+4l9RlAA8F7KvdxZ16/U63VHF//zh4841vd2+xC2cbNsMxrpUKh5Y93/Ot/11c/NGhSAkxs2aVAAavb9QIcyYPsVe74upZ/voI8jmHH5lC2gd/PaNYncvVeXMxTML1Xe6yn5Gz4uxZ9ura8BBBPMdeDq6TOydait1weCDy3+GitNRv+qfytrqRKxGvnerk9khYYyurIDGoE//fSUNG9eSp5/vrLROG+gj6NRvGxZ7KtpVvnyZTIavYVj3WrXLiTnz1/TRn7x4tmkQYNi2sj3dn3AviJYgaAAGshjxnSURYu667AAdPc3gwJw4UKUrFpluypofV/t2j1iNPSbS44c6XU7S5bs13XQrX/xYttxiPUGDGgtTZqUlPbtyxuN7ab6OPz770kNOmTNmtbl/uOWzKhLICiARjmGLVj3C7A/n37aSIMV7ly/fsux/whcDBnSVve9fv2ixv40c3Tt37cvQoMUgNecPWvrXYj9q1GjYKx9w7AQ7A9uWHZ+HreCBbNocAaeeKKY5MmTUZeJnO06uF8Wrl+jyx90fVXefeFFeaJqdfmyew9tWMKCtas89hpIadQ9qpYpJ3UrVo51K2g06g8es9U9GlSrIXlz5PB6fcBQB/MqeOcnn5IvXntT9xP7jPuAxvm+UFvAEVZv2yID/hijy22faCTbJ/0tv37wqb4vV41wb9c34bMZOGFcjKCAKwndPgIKo2dO99gbYffhgzJ/tW1oBgIk/Xr21s/n5afa6XcK2L/d9p4WVvHZvr/waWAAjUQ0FiFNmTR6Bd2UulRqvfoNWAeNSW9dP2Ebdw8Zn8goqQp7HnPqbn008tFIBewXGvqmVIVSSZqyaXT52r5rcvuSrbs/gh6OwEDemNFrV6z5CZKmif6Yk6YyGuqBsT/2NKXTSKXTlaTMmjKS8+2ckiKX6/G6nty6cEsi/47U5Qz1M0jaCjHHKcaCAMnCc3Jp3SUNViAY4Rh6YNTDEVwA9AgwH8f7ShYYs5KeJEUSyd8/v1S7U03K7y2veQVMSZIn0dcTxQUNSzQwIahcaePHY/vN4Sp61jK2yufZAwflSni4LnvFqARjvDq64+MqOK5Gm43Na5FnZe+UGbqMBi8a47gC7s5po+FuCq5QzrGfGAOf3X7FPHz7Dh3rjx4M1y9c0kBEoWaNJFt5Y3075EvIWNiWW+CqsQ83r9h6AXmzfUDDHTkR0NjPWqq4VHm3h6TNnk2fcwWBiddO7tVb3sdq2x81jvNkSV2O40eDxvyskqdOJclSRpdNydO6/pyOLl8lh+cv0uWKPbtrYMZ8H654uz6RFRqSe/faKqSlS+eQ4ODoMeulSmXXq9mA7vtoeHrrxIkLMnv2Tl1Go7ZQodg9Bq08rb9lyzG9ig09e9bThnLSpK5/66dOXdBGM5Qrl1OyZYse54yAQ8mS2XUZQY9r124an8MVSZ8+lTaE69YtIkFB0ccnGsrm53DhwjW5ccMylNEJnp8509aD8fHHi0r58tG5k0qVyiFhYZ/LypVv6P7nzJnB/kxsKVIkkx9+aGH8rf4SEtLHcZUfkidPqlf+nd28eUt7OECuXBmMdbzrdg0IeixatFeDJgieIHhhDoUgcrbjwD692g4VS5bWcx5kSp9eyhe31T3QRT2uRq8r+C0uXLdG1u3Yrlerm9Wq67bXAXhaH2Pyt+211Q/QowHBBcD/lUuV0WUEBRBAgKtR1+SPubN0v8sVLS6fd3tDcgW7rxt4u74JjWrkO/h76SJpWquOPN+8pf2ZmBK6fVi1dbP23sBn0qfLy/ZHYwo7fVrKFCmqwRQEBMxeE/g+yxYppsuAfBDO4rN9f+HTkhIN51tnbSddbUhaznVoZCbLZPtx375yO9aV8vjAFfzzS87HuBruibv1EZRALwLAfiaxnJTRyE0ebDtZ4f2YeQYwlABX4uHi2ouyq/4uWZNkjWwtvlWOfnxUu/BbBVYOdDSsz/x1RsfgI7iAQAUCDngOvQPMBneyDMlsSREtn5m3Lm24JJHTbIGBTE0zSUAmzyfU62HX5cxkWwQUvSnSlLIFRAC9MLB/cP6f87ZAilGPQBDhwnJb7wAMLXAkcnQBnx1yKuD1gB4KCQl4kH/AVWOT8xXi1Fmz6P9o/N6M8m58LFwJPy37Z8zR5bx1a0mmYtHdvc8fOqJX0SFnlYpyYPZ8+atpWxmco6jMaPe8JsGzjp839wWijAa9VRJ75RMBjovHTmgPhkpv/0+aTxwhDX8fKBkK5NPnAUMnMOwBMhUqKGnsXSW92T5cPnlKwrfZKvE5jQZ1hLFN7Df2H+9j55gJGjzwxExGiOEKkKd2DWNf8+tyspQpdTgCYNhA6OLlGvDA/mOYB6BXAoZ9wK2oKAnbsEWXcxifZ0qjcrX4rT4yvEQlGVupnqz65Gu5dCK6+7K36xM5u3TpmjaKAVe6zYo9BAamkkyZbOe2K1eua3d7byG5HZLnubt67szT+kg2iIYvrqAXLx4s774701j+3Gj0fygvvjhRr9KbrPuOsfnWoAaCCWZjNzT0rPZEQMN71qyXZc6cV7QHgvVz2LkzzDGUoFixYG20u7Nx41GZPv1fXUaPg0yZontDZsiQSpMjWrftrZs3b2seiEWLbL08cIUfQQDA+zh2zFZxR48L5C/AZ4MbciQgsILGkydhYRflzz+36jKCJGYAhciV8EhbvRmSOeUCCc5s6yGLxqyrbv9xQff0yf/M1WV0ly9VyPNQM0/rh0dG15Fi72d0vcEMchwPD5eNu2x1A/REwNCF+q92liQVSkjVTu3l1ykTtbFu8nZ907p/tzka1T07viCFctuGMDtL6PaRbBG9DDAU4LV2z0jDajXtz8SEoMT8QcP0hmSMJpQXCLSYSjt9B/Hdvr+I+cu6h8wu7QmFhnzkDNvBi67sGMfuibfrm3BF3HqF34TAgCnsl+hZDND7AWP697TaI9f2R/+gMYwh71d5NQBw8seTsi5wnaxLs05CPwjVxzB7ARrvvoKgA5L+IZiRoV4Gydgo7m5zFxZf0NkGsD9Zn8kaY+w/ehBgSAN6eVxYcUG2FNsia5KtkV1P7NIcEFnaZtHhBa6+U3weCJqsTb5Wdj+5W9fP/lp2zTtg7UlBFF/J00YHrRLi2Ko1mn0fPQGQO8Ca1f/8kVBHT4XVfb/VBHtoJMOxFWtkXtfXNRfAnVu2SjnG45s9CnaOm2QbnmCceM4fPKz5C0y3b3lIVmqsH7pouWPoBHoUpAmyndi93f6V02ckYrvtZLv999GauA/7DXgfy979RPMnuAoO7J06QwMIQ3IVl7+atdP1MfwAwxZSpIsuMwu3bCaPvvmqLq/8+EsZmq+0DC9eSXM/IJ9B1Q/eluCypfR55Gu4cDhUl0+u2yizn3tZdk/8SxMJYqgAPkvkXMD7AW/XJ/JGypTJ4mzIe4LGqXn1vGXLMpoHwBNP66PRe+SIrV6yf3+EtGkzUgYMWKa5DcyEgi1bDnPMJIBGOIYrAIINU6du0wz/2A4a7mvW2NZDQ/v2bfcBDyQkHDduoy6j10CdOoV02RVse8qUrRq8qFu3sM4A4CvIHZA8eU9JnfptadVquL7vV1+toXkHkOAQLl26bvxtW1n199//amJGfDa4oadFo0a/yl9/RVfyXVmyBEGHvRqYefrpCo7cBUTeCkx9d3WPxevXag8A5AR4pmFTSZs6uu7hirfrm9K46O136sxp2RRi67mEhu8zfXrJImP7gIZyt68+k94//eBojHu7PqBRjZwBZqO6doVK9mdiS8j2b92+pTkDkO8BDf8XW7X1OKuAKxhiMHmBLdjyZJ3HpFzR6N4Dvtj+wybhLfVEdnHlRTk7w3b1DFP9JUvv+Yvzdv24BAQHSNDzQTpEouBvBeXRo49KuW3ldNo+QPLAiDERjp4Q6AmALvUYw+8Mj6Gbv9lbwBfQm8F8vxgSkCKn5xMhhn2gJwNg2IGrwEmqAtHDKqzM3g7x/UzR+yBV0VQcUkD/CVzZPjhrvi7nqVVdgh+xdbkzXToWfYVOG7nv99Ix7vgf9wENVUxjCMhhUKyNrascEgiOq/q4DM5ZTMbXaKD34+PE2g2y9uv+GpAo0Ki+FH+mtaOXhLfbv3wizL4kGlB4pFtXeXLyaM0xYE6DuHvyNMdVeU/wfjMVLSQpAmOWBwGpUupYf+d8BRBcroxkKlLQKPRs5Rka9FctPR0wbKPJqCF6wzIgALFnyt8abPF2faLEtGrVQaOhb6vM4uo/uup74ml9dPc/fjx6pg0k4xs/vpPMnfuqPPdcRX0MjeXhw9dqNn80aJEnAcEBNNRffnmSBAb2Nrb5rtGgnuzocu8JtvPFFwtkxowd2lB+++3HpEgRW73FFfRYmDXLtv9Nm5aSnDltCZjvBbyvokWDHNMnAoI4jz1WVHs/vPlmHdm69R05dOhjTX6InAwIEAwbtkZOnnSdqwrDSpDwEDAMAp8x0X8BSQ3/WmRLBFq/cjWpZO/u746368flWHj0bB8INLzdqYss/HWkjunHFIcwetZ0Wb3N1rvG2/W9bVR7u31Yu32bzmBg9kbInsXzMC5nyH3Q5+cfNfCAHAbYhrV3xd1u/2H0QLTU0Ig9PdE2PZc2Yqt5vvrv7frxgeR9hUcVlnLby+msBClyp9BGc95v8urfgItrLjqm6bu4+qLOYoBkixkbZpSifxaV4n8X10Y7HjvQ9YCjS/7duh11W4cEIGFijCSLHuBvo7cAuBp2gKERmC4xYmyEzoiAHAIlF5bU/Adw5O0jcnLgScdQCyskWSy1pJRjfXwmh3sc1mkOsa9EienEmg2OK/NIJoicBVbWK/t1jcY0kv1hjDv+R74BQPLAiO22yjJ6G1R5t4cmKbTmIijWtqWU6vSM/Z5RZuSJHpdrhav7mE4QV8ORcR8BiDRB0Scjb7dv3X/sb7UP39Fkgkjch20DAhC4Go+eB1aYdQFBEDMQApsG/CpLe3+sARXT/hlzZXHP93Wf0eOi6djfpMGvP2mQBckVlxnrmwkWMSzhjn2fEPR4bMC3mrsBt5pffKTvGcI2bZFr5857vT5RYkEjc/JkW0ANjcyqVW3Da9yJa31c1cfVfUDyvrFjn3Uk4+vXr5X2MIDNm485utPXqlVQBg9uq7kTTMj8//HHDR2PoYGdJk3siwG4+t+//xL59ddVer9PnyekbdtH3A4DQG8EdMFHo9s5aaIvtG5dThYufE3mz++m+QnQyMeMC598Mlf/NmTPnk6TGm7Y0EvzEyCnQe7cGaVHjzrSrZutiy96A6DHhSsrVhzQ58F5GARRYsLUd2ZSw6a16mrOAk+8XT8uN29G1w0+fLGbfPtGL3m8clVNzIdZFgDDDjCrAbrbe7s+pnNEoxoNbszkEFej2tvtI1AyYMJY7Y3wZodOHnsjuIJpCj8aMkBzHyAQgb9Ru4ItAAt3u/2HVaIFBtAgTGijEBn+kS8AMjXOJCmye74a7u36VmjoIgdCfAVkDNCEhXAz4qY2gtGtHw1qdKHHlfWCQwpqYxl5DjBTAx7Dc+GjwjX3wN3CEIazc2xX3OKTlBF/M3J6pA47wL5keCxmQwnOLzjvyFeAIRGY5jHD4xkkzxd5dJYJiBgd4Ug2aYXgBPIJOK+PoR3X9kR3ESKKrxuXXU/PGRd0U8dc+2gYo4GZq2Y1+zOupUHSPrMibPyvyf/s0Cg24cp6LaPR+sLWVdJl13p5cc8mqfvDF47kfVlKFJVUmWIP50HjeXmfz/QKOK6+oxGfqUjsbr0J3X7aHNkkiWXsYeZiRTQhIVwJR36GmFcYsQ/mrA3WQMiBmXMlfKutOzSSM+6ZPE0/QwwzqP31JxpgKdyiidT+6hNN5oj3g2EOzlf0EfAISB1dHqUJzqo9D+DamUjtLWDl7fpEcYmKuuVodHoL49nnz7cl+2rUqIQ2Wj3xZv2MGVM78gcAGrBmcj5ctT9zxja8CQ1zdOdHQzk8/EtN/Ldlyzt6Nd9cJ3v29LGS9CEAgakO+/a19ZZCl/3XXqvp6LLvyoEDp2Xu3BBdjk+SRW8h2IB8Ao89VsTYr8baGwLQw2LvXs9JZZFPAb0LTEePxk4ght4RGH6AnhQIvNSrx6lD6e5cupqwugemzptuNEjR0MWUg49VqmJ/xjVv13d2JY48QrmCgiWppW5QqmBhTQAISNp37XrMukFc60eci9QpEtGoxq3uS500VwBuHw8ZqOtBzS7PSqPuL8VK+Bef/Zm0YI78+c88fQzTGyavVFq3j22a8LfwGJIHWuHzRFDg96l/6n3M3NCuQeMYgc672f7DzP0ZIgHQxdxMMKhd6i0Xp6yJCTGGP77d6K1j5+NzNTw+61sTDGI/79yO3lFrYkK8H4yJv3Pjjib2wzSLSDwYV4ADgYWow7aDDIEDa5d7/N00JW2VgRsnb8jta3cXGMD+YwjB1ZCrur/xScp4adMlOT/fVsG2TlFoZU5hCNbZJbDtNOVs+4+/eeuc8Z0abwG9NJCHAf/jvgnrY3pFQNJFfC9ErliT7jk3MM3EhGiEBliy4scFV+dDl67QZecpCk2YxtDknOwvLsh9gAY6ZhhALoDjq2zR/qylSkqg08wACAos7vGeIyjw+MBvJWc1W8XYnfhs39ozwZrA0aU7d+T6hYty7ew57RFgTaqIQEhqe54DuGqfmgnrmjNB4DtCMkJTYO6ckrloYV3G375144ZO75gmyFaBx2tvX/c8Ram36xM5sybpw/z11uR01sSEuKoe3+z01rH28bl6Hp/18ffNnAEYR4/x9PGFBj2CB0j8h8SD8+aFOLrTY5pD699CUODHH5fK++/bcpIgKICu+J7G2iMpIxrou3efineSxbjcNupW6EWBAAb+x30Tto3pCAFX/81hEZiFYdmy/XozpzCMr82bjzqmreQUhRRfZoJBuOWUq8NMTIiu5qks5764YCy9OXWedcpBd+KzvrULfOz9jD734+o45M8ZPfQv/KztfXjizfoByQK8zr/g7f6kSxPdY9IbCAr0HvC9DJ48Qe9/80Yv6fVc51jDHBK6/YedTwMD6I6ObueAMe83TkVX8K7uvKpd6AHroHFuwvSB7qYvtI6dx1X31MU9dwuLz/qYbg9j3gH7FXUoOlJ27cA1ubLdVonAnPyYWhCN74hREbKz3k7Z32m/XN0VfZX8RtgNubzV9r4wvEADDsanaibZu3nupk4jaELQ4cquhEUgXbkeet0xRWHm1pl1yIMnCGpE/hXpGHaQpX0Wl0Eaa5JA6/eI11/ZFnP/0dg/+PJB2ZB1g4Q0DtHeECasf/O07WoNEhpiukYiVzIXL+roOh+BLPv2yr277P2Ahq0mDrQ0BEzInH9w9nydyQBX5XGF29V8+JkKG9vMZmuYntqyzdFYRnDi5BrbnMGQtaT7JFyXw07J+u8HatZ+vIeCTRvEGAaAxHkrP/rSERSo8+1nkrNq/Lutedp+YI5sjmkMT+8IkesXL+kyhG/7V18DmBoxaUCAbOj3i4woWVkm1GlifK624RHK+AyvRkRXLlLYKxfogZDEqASANv4tvQ4uHTshkXttc6ibUhj7lckeLIjcs0/M2RPg0vGTxmdgGz+IWQ/QQ8Db9YmcocFsXk3G1XYkADR5ysZ/6VKU2+kLrWPt0QUer/UkPutjLL35ONa3XiXHPm/adFSXq1XLL7lyuW7UonGN7v5IWght2pSTRx+NDm4iKPDbb6vl669tM4Z07VpVPvusscegAOAKPPIQQKtWZaVKlegZVBIKjf1u3SZL9uwfSbNmv+nsCSb04jAb/phS0Jy6cMuW41K//mC9/fXXNkeQB+tv2GBLUorAhXNvBjw/dep2xzAIDNHgFIUUH8hSbzamkTXf/M2hq/mW3ba6B8bAIzhgwhR9uLpvDUKaooy6B3IFYCaDEgUKSfsGTRxTDroS3/XzZs/huKqOQAJeB/h//U7bLCJF8uZzNMBzZ8su1cuV1+Wte0LkwuXochHv05z6EO8NU/t5s36GwEB5tc3TsuS30bFuLz3VVteDwX0+lk9ffV2DCN7uT83yj7rcPrZpwt/CY2aOAgQFvhox1BEU+PSV1+WNZzq6zH2QkO37g2SfGuzLbg03/sUH5qxHI/rc7HMSdTBKG9lohGO8/YnvTmgDE1nukc0+eVbjJGAcT+EjwiWkQYhO45ehToYY09+hURn2c5icW3BOG5W5P84tKfO4j9jFe32jzYteC+guf/3YdW3oBqQPkKu7r8rxr47LlR1X9PW53sulCfi018BN2/vCVX4MVcD6eI/HvjwmF5bYovbZu2fX94Cgx/Wj13XmguvHr+t20SCO2h9z/awdsursAdbpEkH/1vxzcnnTZR0GgRkA9PNyZnx+SHgYPtxWucjzUR7H1Xx3EMTArAG3zt+SoA5BtsCAq5kCjG2jVwGCNvh80GsCPSHCfwuX8GHhGshBboXgLsGSPEty/RzxueP9IgCE7/3G8Rv6fSCogvUzNs6oyRofhCSEXY1/FNNl4yQYaD95xtecS3FHhU0pAtPI2X0H5azR0AzfapzkjBPuzWtRsmPkeE08B6U6Pi1569bUxiqmsFvYvZdObReQJo1kr1AuRjd6NJI39h+kV8iLPtVcCrdoKkldnBxSZkhvm/Jvy3ajEW00rI3KQBLjpLz/79my+ZehegU7d+3qUqZzzDH/6GJ/aO5C2Tl6gqz9sp+EbbR1NSvZoZ3mAkiW3HbMolG/8uOv5MgiW+JA5ArIUqKYDk24eDT6hv1MnSWz4z3Ed/towEedvyDHlq+SM7t2699Lbnwex1aslo39ftHtIjBS4X+vSJrgILlpnDgxdSOGZ4Rv3a5TKl47e172/vW3bBk8TG4Zn3mOShWk9AvP6meDrv2RIXu09wUSMKKxHpAypQZr1n37o5w7YMuMXvr5ZyRbeeM7MD5jfE7HV6yR84eP6OtSpEOPh1ANSoRtsL2PR17pLNkrlvd6/ftd08Doqzpkk5CyA27ftmWsjkvy5Mm0p8Dcubvk0KEzcvDgaaMhnFLWrj0s33+/WLPyIxt/r1719Io7KvOjRq2Xxo1/ldmzd2mW/syZo/cPjUx0w8fVZzRaP/ywgY5zd8eb9XGVfMOGo7qf+B+BClxN/+67RdqwBXSxb968lPYMAFzNR9BgwoRNOjSgf/+l2kMBvQ+++KKp0RC2BRsQNJg4cYu8887f2ijHNH3Y1uXLUTobgvUWGJjSkZcAnwdmLRgxYp3e/+CDBvp5xQVBCMyWgJwI2bKl0yAFPl8TZoRAskV8LvgfARoEKE6cuCCDBq3QGQcQmGnUqLh07FhJAyeBgSl0ukQEKvD9od2F4SDDhq019m+trv/kk6WlU6fKMZIWbtt2XGc9OH/+ms5E0K5deY/DJu53SZN6HvbmTxJUfoTZ8ozFB64cI3P9roP77YEBkatRUTp+fuzsGbrOy0+1k4bVa0jSJEnl6Kkw6fjBO9Llsw901oCqZcvp4yY0ej//fbCcv3RROjRuZjT0G3tMyhff9bGfh08clzXbt8quQwe0YZ3E+Dduzgyd6u/6jRvStn4j3UbygABJl9aoUxn1mX/WrTYa3XvkRES4NtAXGvc/+22Q/j0EIvp0fll7TXizfrYsWSV71qwahHC+bd2zW5ZstJUlfbq8rMEAvB9v9yejUQ9wtX28zxF/T9Xtt6xbX55v3lLSpEqtARIMb/h06C/6XL1KVXTawojISP3czNux8DDJlM5ov2TO4tX273s5fHPhJIlxQjAOAc+qG//iC+PXMSXfyQGx551GV/eCvxbUqfHQOEe3/8NvHZZTQ22ZKotOLKoNVdOVnVdkb9u92mU96IUgKfhLwRhT6jnzZn00vjGNoDaSXXRvR1JB6/R6WP9EvxMS+p4tYu0MMxbk75ffEdhAEOTgKwcdV/OdoQt/gSEFXM5aYP1cEEgpMqmIoyeGFa76owcDkgiikV54TGENaLiDoM2xz47pe8Z3UWxaMc0D4Epc7xczDeT/Kb9kbmnrgoVkhUd6GZX6sa4TAmmuhUEFJe2j3lcO/wurjX8U06nwcMlmuVofH93D9tmX4gfZ+pe+/aGjsWmFxHTItG9eNT5pNBinPfm0LmPMe/1fvjcasrbfM672o1G58cdB2uhsPGKwJuRzB410jP13lfXfXbd/698H/J2yXZ+TCq+/EiOAgCkBF3Z/237PPSQLrNH3fUcegfhuHzD2HgkNd42fbH8kGtat+21fTRooSZJo3oXNA4dokkFXzB4NeevV0vXBOgzClWLtWkmNT/s48h6g18WeyVNl5Sdf2Xp0OEHQodpHvR3TRnq7/v1sUHaOa3aWkLIDbt780b4UN4wv/+ijOfLzz8vtj0TDFeZBg9oaDcbyxk86iTaqe/WaLr//bhuag5kBcIXZtGtXmLRvP1q71XfqVEkGDmzt8Yq7N+ujyoU8BJifHzMQOEOjF8kG0dA2Oe8vINt+//4tpWrVfPqeAF32O3Uar431uCxb9j8dggC4yt658x+atA9JE0eO7KABjrhY9wuBhAkTOmliRKuIiEvSu/cMx3SJzpAL4OefW0uFCtFDopYvPyBduvzh8vPB3xk6tF2M2QYQOPn88wUaGMB3PWVKF81j8CALCLAlY6MElh9b4j4GrJZv3igvf/Gx7Dkcu+7Rou7jMvSDz4zGsK19gvHm5jh0ZOMf+/l3jkSBt27fks+GDjIa+kO0F8I0ox6CBHvueLs+9q9r3w9djnlHboKRn32ljWsTEvC993M/x1h7K/y9X9//VJ5p1NRRhni7vit4L2aegZUjxkuNR2w9GsEX27d+/n27vSEfvdRNl/HZtH+vp6PngTvodTHpm/5uewG42/59r7z7Xq3e8Hk4FQ3xvN/mlaJTijoanQGZAzQYUGJ+CUdQAHDlOFOTTNroxVVxJKwzWcfOQ+bmmT0GBbxdHw1+NPyL/V1MG7eaH8G44Qp+iTklYs25j+Vc7+SSkotL6r7iPQHeY5E/imiCQWtvB4zLLzK+iBQaVki3iW1D+jrppcDPBaTo5KIugwLeuLDYMrNAPJIsapJC+zALBBIwZaI75vsttbSUBj0QCAB8Vzl65tDv0gwKQPKg5FLw94L6vTu/33w/5JPiM4s/MEEB+u+ge33zCSOk3MudtYEKWUuX1Ebn4wO+jdGVHEMASnRoq4n6irZuISktGXzPHw6VwwsW6TKmKAwqW1KX3cHfajB0gNT+5lNHFnxM9Vfulc7Scuo4j7kAML0gkva1mTNFqrz7VqxG+92Kz/Y1WeFXH0vDYT87AiB4T/h8Wk2f4AgKABrXlXv3kBZTxkih5o31tYDPGX8H7zfvY7Ud6wN6HDQZM1Sqf/Ke47PAfuStV1ueGNxfAwnWZIhJA5JJiWfa6N8u/nRr/Rvm+tjHGp/1idHI93Z9ImdoiH/9dTOZNOkFR6MQ09vh6vGcOa84ggKAK82NG5fURiyuclvn9beOtYdmzUp5DAp4uz72AYkJFy3qrtPxmTkHatcuJL/80kbGjOkYIyhghXUxq8C4cc9pdn8MOfBUgY4vc95/iE+SRW8EBQXKr7+20++lYcPi2nAHvN/vvntSpk/vGiMoAHgOnw9mIjADDfgfQyJmznw51hSESJo4c6ZtGAQCG+XLu54RhsgdZKuf98vv8tazz2uWfShfvIT06/mujO77tSMoAMULFJSuLVtL5gwZpGOTJ/XKtml/aKjMWLZElzHlYIXinuse3q6Pxuy0fj/L1//r6WjY4v/3u74iU43HrUEBwD7+3PtDmfL9AEfAAe8P+79i+LhYjXBv1/fWvd4+3T2f9xggehiwx0BsidFjgOhBxx4DsSVGjwGihwl7DERLjB4DRA+8+7XHABERERERERE9OBgYICIiIiIiIvJjDAwQERERERER+TEGBoiIiIiIiIj8GAMDRERERERERH6MgQEiIiIiIiIiP8bAABEREREREZEfY2CAiIiIiIiIyI8xMEBERERERETkxxgYICIiIiIiIvJjDAwQERERERER+TEGBoiIiIiIiIj8GAMDRERERERERH6MgQEiIiIiIiIiP8bAABEREREREZEfY2CAiIiIiIiIyI8xMEBERERERETkxxgYICIiIiIiIvJjDAwQERERERER+TEGBoiIiIiIiIj8GAMDRERERERERH6MgQEiIiIiIiIiP8bAABEREREREZEfY2CAiIiIiIiIyI8xMEBERERERETkxxgYICIiIiIiIvJjDAwQERERERER+TEGBoiIiIiIiIj8GAMDRERERERERH6MgQEiIiIiIiIiP8bAABEREREREZEfY2CAiIiIiIiIyI8xMEBERERERETkxxgYICIiIiIiIvJjDAwQERERERER+TEGBoiIiIiIiIj8GAMDRERERERERH6MgQEiIiIiIiIiP8bAABEREREREZEfS3LHYF8mInLrVHi4ZAsOtt8jIooflh1ElFAsP4gSD3sMEBEREREREfktkf8DtzByOCPVEdcAAAAASUVORK5CYII=)"
      ],
      "metadata": {
        "id": "Xmc08ySYuC07"
      }
    },
    {
      "cell_type": "markdown",
      "source": [
        "## Model 2: Conv1D\n",
        "\n",
        "For my second model, I decided to experiment with a model that used 3 Conv1D layers. I increased the number of training epochs (from 30 to 50), and also added a callback that would reduce the model's learning rate if val_loss increased."
      ],
      "metadata": {
        "id": "4rjvuGOWudsN"
      }
    },
    {
      "cell_type": "code",
      "source": [
        "model2 = Sequential()\n",
        "model2.add(layers.Embedding(10000, 16, input_length = 40))\n",
        "model2.add(layers.Conv1D(32, 6, activation='relu')) \n",
        "model2.add(layers.MaxPooling1D(5))\n",
        "model2.add(layers.Conv1D(32, 6, activation='relu'))\n",
        "model2.add(layers.GlobalMaxPooling1D())\n",
        "model2.add(layers.Dense(2, activation='softmax'))\n",
        "\n",
        "from tensorflow.python.keras.callbacks import ReduceLROnPlateau\n",
        "red_lr= ReduceLROnPlateau(monitor='val_loss',patience=3,verbose=1,factor=0.1)\n",
        "\n",
        "model2.compile(optimizer='rmsprop', loss='categorical_crossentropy', metrics=['acc'])\n",
        "\n",
        "history2 = model2.fit(preprocessor(X_train), y_train,\n",
        "                    epochs=50,\n",
        "                    batch_size=32,\n",
        "                    validation_split=0.2,\n",
        "                    callbacks = red_lr)"
      ],
      "metadata": {
        "colab": {
          "base_uri": "https://localhost:8080/"
        },
        "id": "F6YANMzluGky",
        "outputId": "8b60247b-aa34-40e5-b27a-fdb101c7ad4e"
      },
      "execution_count": 26,
      "outputs": [
        {
          "output_type": "stream",
          "name": "stdout",
          "text": [
            "Epoch 1/50\n",
            "173/173 [==============================] - 2s 7ms/step - loss: 0.6592 - acc: 0.6149 - val_loss: 0.8567 - val_acc: 0.1488 - lr: 0.0010\n",
            "Epoch 2/50\n",
            "173/173 [==============================] - 1s 8ms/step - loss: 0.5265 - acc: 0.7249 - val_loss: 0.6351 - val_acc: 0.7038 - lr: 0.0010\n",
            "Epoch 3/50\n",
            "173/173 [==============================] - 2s 9ms/step - loss: 0.3572 - acc: 0.8457 - val_loss: 0.6532 - val_acc: 0.6994 - lr: 0.0010\n",
            "Epoch 4/50\n",
            "173/173 [==============================] - 2s 9ms/step - loss: 0.2611 - acc: 0.8907 - val_loss: 0.6611 - val_acc: 0.7124 - lr: 0.0010\n",
            "Epoch 5/50\n",
            "173/173 [==============================] - 2s 9ms/step - loss: 0.1994 - acc: 0.9212 - val_loss: 0.6047 - val_acc: 0.7493 - lr: 0.0010\n",
            "Epoch 6/50\n",
            "173/173 [==============================] - 2s 9ms/step - loss: 0.1499 - acc: 0.9406 - val_loss: 0.6363 - val_acc: 0.7543 - lr: 0.0010\n",
            "Epoch 7/50\n",
            "173/173 [==============================] - 1s 8ms/step - loss: 0.1130 - acc: 0.9581 - val_loss: 0.5949 - val_acc: 0.7746 - lr: 0.0010\n",
            "Epoch 8/50\n",
            "173/173 [==============================] - 1s 5ms/step - loss: 0.0832 - acc: 0.9695 - val_loss: 1.1682 - val_acc: 0.6460 - lr: 0.0010\n",
            "Epoch 9/50\n",
            "173/173 [==============================] - 1s 5ms/step - loss: 0.0602 - acc: 0.9787 - val_loss: 0.9181 - val_acc: 0.7225 - lr: 0.0010\n",
            "Epoch 10/50\n",
            "169/173 [============================>.] - ETA: 0s - loss: 0.0416 - acc: 0.9867\n",
            "Epoch 00010: ReduceLROnPlateau reducing learning rate to 0.00010000000474974513.\n",
            "173/173 [==============================] - 1s 5ms/step - loss: 0.0423 - acc: 0.9868 - val_loss: 0.8485 - val_acc: 0.7478 - lr: 0.0010\n",
            "Epoch 11/50\n",
            "173/173 [==============================] - 1s 5ms/step - loss: 0.0237 - acc: 0.9931 - val_loss: 0.9752 - val_acc: 0.7312 - lr: 1.0000e-04\n",
            "Epoch 12/50\n",
            "173/173 [==============================] - 1s 5ms/step - loss: 0.0223 - acc: 0.9933 - val_loss: 0.9934 - val_acc: 0.7334 - lr: 1.0000e-04\n",
            "Epoch 13/50\n",
            "166/173 [===========================>..] - ETA: 0s - loss: 0.0211 - acc: 0.9945\n",
            "Epoch 00013: ReduceLROnPlateau reducing learning rate to 1.0000000474974514e-05.\n",
            "173/173 [==============================] - 1s 5ms/step - loss: 0.0212 - acc: 0.9944 - val_loss: 0.9743 - val_acc: 0.7399 - lr: 1.0000e-04\n",
            "Epoch 14/50\n",
            "173/173 [==============================] - 1s 5ms/step - loss: 0.0197 - acc: 0.9948 - val_loss: 0.9721 - val_acc: 0.7406 - lr: 1.0000e-05\n",
            "Epoch 15/50\n",
            "173/173 [==============================] - 1s 5ms/step - loss: 0.0196 - acc: 0.9948 - val_loss: 0.9686 - val_acc: 0.7421 - lr: 1.0000e-05\n",
            "Epoch 16/50\n",
            "170/173 [============================>.] - ETA: 0s - loss: 0.0197 - acc: 0.9947\n",
            "Epoch 00016: ReduceLROnPlateau reducing learning rate to 1.0000000656873453e-06.\n",
            "173/173 [==============================] - 1s 6ms/step - loss: 0.0195 - acc: 0.9948 - val_loss: 0.9746 - val_acc: 0.7406 - lr: 1.0000e-05\n",
            "Epoch 17/50\n",
            "173/173 [==============================] - 1s 6ms/step - loss: 0.0193 - acc: 0.9948 - val_loss: 0.9747 - val_acc: 0.7406 - lr: 1.0000e-06\n",
            "Epoch 18/50\n",
            "173/173 [==============================] - 1s 8ms/step - loss: 0.0193 - acc: 0.9948 - val_loss: 0.9748 - val_acc: 0.7406 - lr: 1.0000e-06\n",
            "Epoch 19/50\n",
            "170/173 [============================>.] - ETA: 0s - loss: 0.0191 - acc: 0.9949\n",
            "Epoch 00019: ReduceLROnPlateau reducing learning rate to 1.0000001111620805e-07.\n",
            "173/173 [==============================] - 1s 8ms/step - loss: 0.0193 - acc: 0.9948 - val_loss: 0.9749 - val_acc: 0.7406 - lr: 1.0000e-06\n",
            "Epoch 20/50\n",
            "173/173 [==============================] - 2s 9ms/step - loss: 0.0193 - acc: 0.9948 - val_loss: 0.9748 - val_acc: 0.7406 - lr: 1.0000e-07\n",
            "Epoch 21/50\n",
            "173/173 [==============================] - 2s 9ms/step - loss: 0.0193 - acc: 0.9948 - val_loss: 0.9749 - val_acc: 0.7406 - lr: 1.0000e-07\n",
            "Epoch 22/50\n",
            "167/173 [===========================>..] - ETA: 0s - loss: 0.0192 - acc: 0.9948\n",
            "Epoch 00022: ReduceLROnPlateau reducing learning rate to 1.000000082740371e-08.\n",
            "173/173 [==============================] - 1s 8ms/step - loss: 0.0193 - acc: 0.9948 - val_loss: 0.9749 - val_acc: 0.7406 - lr: 1.0000e-07\n",
            "Epoch 23/50\n",
            "173/173 [==============================] - 1s 8ms/step - loss: 0.0193 - acc: 0.9948 - val_loss: 0.9749 - val_acc: 0.7406 - lr: 1.0000e-08\n",
            "Epoch 24/50\n",
            "173/173 [==============================] - 1s 7ms/step - loss: 0.0193 - acc: 0.9948 - val_loss: 0.9749 - val_acc: 0.7406 - lr: 1.0000e-08\n",
            "Epoch 25/50\n",
            "172/173 [============================>.] - ETA: 0s - loss: 0.0191 - acc: 0.9949\n",
            "Epoch 00025: ReduceLROnPlateau reducing learning rate to 1.000000082740371e-09.\n",
            "173/173 [==============================] - 1s 5ms/step - loss: 0.0193 - acc: 0.9948 - val_loss: 0.9749 - val_acc: 0.7406 - lr: 1.0000e-08\n",
            "Epoch 26/50\n",
            "173/173 [==============================] - 1s 5ms/step - loss: 0.0193 - acc: 0.9948 - val_loss: 0.9749 - val_acc: 0.7406 - lr: 1.0000e-09\n",
            "Epoch 27/50\n",
            "173/173 [==============================] - 1s 5ms/step - loss: 0.0193 - acc: 0.9948 - val_loss: 0.9749 - val_acc: 0.7406 - lr: 1.0000e-09\n",
            "Epoch 28/50\n",
            "165/173 [===========================>..] - ETA: 0s - loss: 0.0193 - acc: 0.9947\n",
            "Epoch 00028: ReduceLROnPlateau reducing learning rate to 1.000000082740371e-10.\n",
            "173/173 [==============================] - 1s 5ms/step - loss: 0.0193 - acc: 0.9948 - val_loss: 0.9749 - val_acc: 0.7406 - lr: 1.0000e-09\n",
            "Epoch 29/50\n",
            "173/173 [==============================] - 1s 6ms/step - loss: 0.0193 - acc: 0.9948 - val_loss: 0.9749 - val_acc: 0.7406 - lr: 1.0000e-10\n",
            "Epoch 30/50\n",
            "173/173 [==============================] - 1s 6ms/step - loss: 0.0193 - acc: 0.9948 - val_loss: 0.9749 - val_acc: 0.7406 - lr: 1.0000e-10\n",
            "Epoch 31/50\n",
            "168/173 [============================>.] - ETA: 0s - loss: 0.0194 - acc: 0.9948\n",
            "Epoch 00031: ReduceLROnPlateau reducing learning rate to 1.000000082740371e-11.\n",
            "173/173 [==============================] - 1s 6ms/step - loss: 0.0193 - acc: 0.9948 - val_loss: 0.9749 - val_acc: 0.7406 - lr: 1.0000e-10\n",
            "Epoch 32/50\n",
            "173/173 [==============================] - 1s 5ms/step - loss: 0.0193 - acc: 0.9948 - val_loss: 0.9749 - val_acc: 0.7406 - lr: 1.0000e-11\n",
            "Epoch 33/50\n",
            "173/173 [==============================] - 1s 5ms/step - loss: 0.0193 - acc: 0.9948 - val_loss: 0.9749 - val_acc: 0.7406 - lr: 1.0000e-11\n",
            "Epoch 34/50\n",
            "170/173 [============================>.] - ETA: 0s - loss: 0.0193 - acc: 0.9949\n",
            "Epoch 00034: ReduceLROnPlateau reducing learning rate to 1.000000082740371e-12.\n",
            "173/173 [==============================] - 1s 6ms/step - loss: 0.0193 - acc: 0.9948 - val_loss: 0.9749 - val_acc: 0.7406 - lr: 1.0000e-11\n",
            "Epoch 35/50\n",
            "173/173 [==============================] - 1s 8ms/step - loss: 0.0193 - acc: 0.9948 - val_loss: 0.9749 - val_acc: 0.7406 - lr: 1.0000e-12\n",
            "Epoch 36/50\n",
            "173/173 [==============================] - 1s 8ms/step - loss: 0.0193 - acc: 0.9948 - val_loss: 0.9749 - val_acc: 0.7406 - lr: 1.0000e-12\n",
            "Epoch 37/50\n",
            "168/173 [============================>.] - ETA: 0s - loss: 0.0185 - acc: 0.9950\n",
            "Epoch 00037: ReduceLROnPlateau reducing learning rate to 1.0000001044244145e-13.\n",
            "173/173 [==============================] - 2s 9ms/step - loss: 0.0193 - acc: 0.9948 - val_loss: 0.9749 - val_acc: 0.7406 - lr: 1.0000e-12\n",
            "Epoch 38/50\n",
            "173/173 [==============================] - 2s 9ms/step - loss: 0.0193 - acc: 0.9948 - val_loss: 0.9749 - val_acc: 0.7406 - lr: 1.0000e-13\n",
            "Epoch 39/50\n",
            "173/173 [==============================] - 1s 9ms/step - loss: 0.0193 - acc: 0.9948 - val_loss: 0.9749 - val_acc: 0.7406 - lr: 1.0000e-13\n",
            "Epoch 40/50\n",
            "171/173 [============================>.] - ETA: 0s - loss: 0.0193 - acc: 0.9947\n",
            "Epoch 00040: ReduceLROnPlateau reducing learning rate to 1.0000001179769417e-14.\n",
            "173/173 [==============================] - 2s 9ms/step - loss: 0.0193 - acc: 0.9948 - val_loss: 0.9749 - val_acc: 0.7406 - lr: 1.0000e-13\n",
            "Epoch 41/50\n",
            "173/173 [==============================] - 1s 6ms/step - loss: 0.0193 - acc: 0.9948 - val_loss: 0.9749 - val_acc: 0.7406 - lr: 1.0000e-14\n",
            "Epoch 42/50\n",
            "173/173 [==============================] - 1s 6ms/step - loss: 0.0193 - acc: 0.9948 - val_loss: 0.9749 - val_acc: 0.7406 - lr: 1.0000e-14\n",
            "Epoch 43/50\n",
            "173/173 [==============================] - ETA: 0s - loss: 0.0193 - acc: 0.9948\n",
            "Epoch 00043: ReduceLROnPlateau reducing learning rate to 1.0000001518582595e-15.\n",
            "173/173 [==============================] - 1s 6ms/step - loss: 0.0193 - acc: 0.9948 - val_loss: 0.9749 - val_acc: 0.7406 - lr: 1.0000e-14\n",
            "Epoch 44/50\n",
            "173/173 [==============================] - 1s 6ms/step - loss: 0.0193 - acc: 0.9948 - val_loss: 0.9749 - val_acc: 0.7406 - lr: 1.0000e-15\n",
            "Epoch 45/50\n",
            "173/173 [==============================] - 1s 5ms/step - loss: 0.0193 - acc: 0.9948 - val_loss: 0.9749 - val_acc: 0.7406 - lr: 1.0000e-15\n",
            "Epoch 46/50\n",
            "162/173 [===========================>..] - ETA: 0s - loss: 0.0199 - acc: 0.9946\n",
            "Epoch 00046: ReduceLROnPlateau reducing learning rate to 1.0000001095066122e-16.\n",
            "173/173 [==============================] - 1s 5ms/step - loss: 0.0193 - acc: 0.9948 - val_loss: 0.9749 - val_acc: 0.7406 - lr: 1.0000e-15\n",
            "Epoch 47/50\n",
            "173/173 [==============================] - 1s 6ms/step - loss: 0.0193 - acc: 0.9948 - val_loss: 0.9749 - val_acc: 0.7406 - lr: 1.0000e-16\n",
            "Epoch 48/50\n",
            "173/173 [==============================] - 1s 5ms/step - loss: 0.0193 - acc: 0.9948 - val_loss: 0.9749 - val_acc: 0.7406 - lr: 1.0000e-16\n",
            "Epoch 49/50\n",
            "170/173 [============================>.] - ETA: 0s - loss: 0.0193 - acc: 0.9949\n",
            "Epoch 00049: ReduceLROnPlateau reducing learning rate to 1.0000000830368326e-17.\n",
            "173/173 [==============================] - 1s 6ms/step - loss: 0.0193 - acc: 0.9948 - val_loss: 0.9749 - val_acc: 0.7406 - lr: 1.0000e-16\n",
            "Epoch 50/50\n",
            "173/173 [==============================] - 1s 6ms/step - loss: 0.0193 - acc: 0.9948 - val_loss: 0.9749 - val_acc: 0.7406 - lr: 1.0000e-17\n"
          ]
        }
      ]
    },
    {
      "cell_type": "code",
      "source": [
        "# save model to local onnx file\n",
        "onnx_model2 = model_to_onnx(model2, framework='keras',\n",
        "                          transfer_learning=False,\n",
        "                          deep_learning=True)\n",
        "\n",
        "with open(\"model2.onnx\", \"wb\") as f:\n",
        "    f.write(onnx_model2.SerializeToString())"
      ],
      "metadata": {
        "id": "lfGWr7Osw3Qu"
      },
      "execution_count": 28,
      "outputs": []
    },
    {
      "cell_type": "code",
      "source": [
        "# generate predicted y values from model2\n",
        "prediction_column_index2 = model2.predict(preprocessor(X_test)).argmax(axis=1)\n",
        "\n",
        "# extract correct prediction labels \n",
        "prediction_labels2 = [y_train.columns[i] for i in prediction_column_index2]\n",
        "\n",
        "# Submit model2 to leaderboard\n",
        "mycompetition.submit_model(model_filepath = \"model2.onnx\",\n",
        "                                 preprocessor_filepath=\"preprocessor.zip\",\n",
        "                                 prediction_submission=prediction_labels2)"
      ],
      "metadata": {
        "colab": {
          "base_uri": "https://localhost:8080/"
        },
        "id": "uS5-ZTZkw_zc",
        "outputId": "03cf8ea7-1a1b-4ff3-ab13-c45b972e78cb"
      },
      "execution_count": 29,
      "outputs": [
        {
          "output_type": "stream",
          "name": "stdout",
          "text": [
            "57/57 [==============================] - 0s 2ms/step\n",
            "Insert search tags to help users find your model (optional): \n",
            "Provide any useful notes about your model (optional): \n",
            "\n",
            "Your model has been submitted as model version 283\n",
            "\n",
            "To submit code used to create this model or to view current leaderboard navigate to Model Playground: \n",
            "\n",
            " https://www.modelshare.org/detail/model:2763\n"
          ]
        }
      ]
    },
    {
      "cell_type": "markdown",
      "source": [
        "### Model 2 Performance\n",
        "\n",
        "The more complex Conv1D model performed slightly better than the baseline LSTM model, attaining higher scores for all four of the test metrics."
      ],
      "metadata": {
        "id": "533RF4QMxmhI"
      }
    },
    {
      "cell_type": "markdown",
      "source": [
        "![image.png](data:image/png;base64,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)"
      ],
      "metadata": {
        "id": "5PAGhEwrxnnB"
      }
    },
    {
      "cell_type": "markdown",
      "source": [
        "## Model 3: LSTM with Glove Embeddings\n",
        "\n",
        "For my third model, I decided to use the same architecture as my first LSTM model, but see if model performance could be increased by using glove embeddings."
      ],
      "metadata": {
        "id": "_lwGQP9XxsOd"
      }
    },
    {
      "cell_type": "code",
      "source": [
        "# Download Glove embedding matrix weights\n",
        "! wget http://nlp.stanford.edu/data/wordvecs/glove.6B.zip"
      ],
      "metadata": {
        "colab": {
          "base_uri": "https://localhost:8080/"
        },
        "id": "_FxXqN1Rxmyg",
        "outputId": "da6cdbce-275a-47a5-e93d-b46e2fd62ab9"
      },
      "execution_count": 30,
      "outputs": [
        {
          "output_type": "stream",
          "name": "stdout",
          "text": [
            "--2023-04-17 05:57:04--  http://nlp.stanford.edu/data/wordvecs/glove.6B.zip\n",
            "Resolving nlp.stanford.edu (nlp.stanford.edu)... 171.64.67.140\n",
            "Connecting to nlp.stanford.edu (nlp.stanford.edu)|171.64.67.140|:80... connected.\n",
            "HTTP request sent, awaiting response... 302 Found\n",
            "Location: https://nlp.stanford.edu/data/wordvecs/glove.6B.zip [following]\n",
            "--2023-04-17 05:57:04--  https://nlp.stanford.edu/data/wordvecs/glove.6B.zip\n",
            "Connecting to nlp.stanford.edu (nlp.stanford.edu)|171.64.67.140|:443... connected.\n",
            "HTTP request sent, awaiting response... 301 Moved Permanently\n",
            "Location: https://downloads.cs.stanford.edu/nlp/data/wordvecs/glove.6B.zip [following]\n",
            "--2023-04-17 05:57:04--  https://downloads.cs.stanford.edu/nlp/data/wordvecs/glove.6B.zip\n",
            "Resolving downloads.cs.stanford.edu (downloads.cs.stanford.edu)... 171.64.64.22\n",
            "Connecting to downloads.cs.stanford.edu (downloads.cs.stanford.edu)|171.64.64.22|:443... connected.\n",
            "HTTP request sent, awaiting response... 200 OK\n",
            "Length: 862182753 (822M) [application/zip]\n",
            "Saving to: ‘glove.6B.zip’\n",
            "\n",
            "glove.6B.zip        100%[===================>] 822.24M  5.01MB/s    in 2m 39s  \n",
            "\n",
            "2023-04-17 05:59:43 (5.17 MB/s) - ‘glove.6B.zip’ saved [862182753/862182753]\n",
            "\n"
          ]
        }
      ]
    },
    {
      "cell_type": "code",
      "source": [
        "! unzip glove.6B.zip "
      ],
      "metadata": {
        "colab": {
          "base_uri": "https://localhost:8080/"
        },
        "id": "2vAN5Io-ycwO",
        "outputId": "b27aca62-0501-426d-e338-54c97e74d89d"
      },
      "execution_count": 34,
      "outputs": [
        {
          "output_type": "stream",
          "name": "stdout",
          "text": [
            "Archive:  glove.6B.zip\n",
            "  inflating: glove.6B.100d.txt       \n",
            "  inflating: glove.6B.200d.txt       \n",
            "  inflating: glove.6B.300d.txt       \n",
            "  inflating: glove.6B.50d.txt        \n"
          ]
        }
      ]
    },
    {
      "cell_type": "code",
      "source": [
        "# Extract embedding data for 100 feature embedding matrix\n",
        "glove_dir = os.getcwd()\n",
        "\n",
        "embeddings_index = {}\n",
        "f = open(os.path.join(glove_dir, 'glove.6B.100d.txt'))\n",
        "for line in f:\n",
        "    values = line.split()\n",
        "    word = values[0]\n",
        "    coefs = np.asarray(values[1:], dtype='float32')\n",
        "    embeddings_index[word] = coefs\n",
        "f.close()\n",
        "\n",
        "print('Found %s word vectors.' % len(embeddings_index))"
      ],
      "metadata": {
        "colab": {
          "base_uri": "https://localhost:8080/"
        },
        "id": "wnfXMFZ3yfM2",
        "outputId": "4db8f63f-060d-4d1a-d673-6e96e112a4ce"
      },
      "execution_count": 35,
      "outputs": [
        {
          "output_type": "stream",
          "name": "stdout",
          "text": [
            "Found 400001 word vectors.\n"
          ]
        }
      ]
    },
    {
      "cell_type": "code",
      "source": [
        "# Build embedding matrix\n",
        "embedding_dim = 100\n",
        "\n",
        "embedding_matrix = np.zeros((10000, embedding_dim))\n",
        "for word, i in word_index.items():\n",
        "    embedding_vector = embeddings_index.get(word)\n",
        "    if i < 10000:\n",
        "        if embedding_vector is not None:\n",
        "            embedding_matrix[i] = embedding_vector"
      ],
      "metadata": {
        "id": "tYRmDlx3yhrH"
      },
      "execution_count": 36,
      "outputs": []
    },
    {
      "cell_type": "code",
      "source": [
        "# reuse model 1 architecture for model 3\n",
        "model3 = Sequential()\n",
        "model3.add(Embedding(10000, embedding_dim, input_length = 40))\n",
        "model3.add(LSTM(32))\n",
        "model3.add(Flatten())\n",
        "model3.add(Dense(2, activation = 'softmax'))\n",
        "\n",
        "# use embedding matrix as weights for embedding layer\n",
        "model3.layers[0].set_weights([embedding_matrix])\n",
        "model3.layers[0].trainable = False\n",
        "\n",
        "model3.compile(optimizer='rmsprop', loss='categorical_crossentropy', metrics=['acc'])\n",
        "\n",
        "history3 = model3.fit(preprocessor(X_train), y_train,\n",
        "                    epochs=50,\n",
        "                    batch_size=32,\n",
        "                    validation_split=0.2)"
      ],
      "metadata": {
        "colab": {
          "base_uri": "https://localhost:8080/"
        },
        "id": "AFSUEzLizi_o",
        "outputId": "1e3d455a-6aa9-482b-fd37-8bd947777f2e"
      },
      "execution_count": 38,
      "outputs": [
        {
          "output_type": "stream",
          "name": "stdout",
          "text": [
            "Epoch 1/50\n",
            "173/173 [==============================] - 7s 19ms/step - loss: 0.5905 - acc: 0.6783 - val_loss: 0.5431 - val_acc: 0.7688\n",
            "Epoch 2/50\n",
            "173/173 [==============================] - 3s 16ms/step - loss: 0.5034 - acc: 0.7464 - val_loss: 0.6103 - val_acc: 0.6857\n",
            "Epoch 3/50\n",
            "173/173 [==============================] - 3s 16ms/step - loss: 0.4731 - acc: 0.7701 - val_loss: 0.6404 - val_acc: 0.6532\n",
            "Epoch 4/50\n",
            "173/173 [==============================] - 4s 23ms/step - loss: 0.4489 - acc: 0.7812 - val_loss: 0.6907 - val_acc: 0.6236\n",
            "Epoch 5/50\n",
            "173/173 [==============================] - 4s 24ms/step - loss: 0.4259 - acc: 0.7980 - val_loss: 0.4895 - val_acc: 0.7796\n",
            "Epoch 6/50\n",
            "173/173 [==============================] - 3s 18ms/step - loss: 0.4023 - acc: 0.8120 - val_loss: 0.5572 - val_acc: 0.7363\n",
            "Epoch 7/50\n",
            "173/173 [==============================] - 3s 16ms/step - loss: 0.3861 - acc: 0.8201 - val_loss: 0.6995 - val_acc: 0.6705\n",
            "Epoch 8/50\n",
            "173/173 [==============================] - 3s 16ms/step - loss: 0.3688 - acc: 0.8335 - val_loss: 0.4325 - val_acc: 0.8136\n",
            "Epoch 9/50\n",
            "173/173 [==============================] - 3s 17ms/step - loss: 0.3500 - acc: 0.8400 - val_loss: 0.4054 - val_acc: 0.8201\n",
            "Epoch 10/50\n",
            "173/173 [==============================] - 4s 24ms/step - loss: 0.3346 - acc: 0.8524 - val_loss: 0.4966 - val_acc: 0.7673\n",
            "Epoch 11/50\n",
            "173/173 [==============================] - 4s 24ms/step - loss: 0.3164 - acc: 0.8640 - val_loss: 0.5029 - val_acc: 0.7731\n",
            "Epoch 12/50\n",
            "173/173 [==============================] - 3s 16ms/step - loss: 0.2969 - acc: 0.8728 - val_loss: 0.4402 - val_acc: 0.8078\n",
            "Epoch 13/50\n",
            "173/173 [==============================] - 3s 16ms/step - loss: 0.2801 - acc: 0.8820 - val_loss: 0.4460 - val_acc: 0.7984\n",
            "Epoch 14/50\n",
            "173/173 [==============================] - 3s 16ms/step - loss: 0.2608 - acc: 0.8927 - val_loss: 0.5181 - val_acc: 0.7775\n",
            "Epoch 15/50\n",
            "173/173 [==============================] - 4s 20ms/step - loss: 0.2469 - acc: 0.8967 - val_loss: 0.5325 - val_acc: 0.7630\n",
            "Epoch 16/50\n",
            "173/173 [==============================] - 5s 30ms/step - loss: 0.2279 - acc: 0.9079 - val_loss: 0.6678 - val_acc: 0.7059\n",
            "Epoch 17/50\n",
            "173/173 [==============================] - 5s 28ms/step - loss: 0.2090 - acc: 0.9151 - val_loss: 0.5702 - val_acc: 0.7630\n",
            "Epoch 18/50\n",
            "173/173 [==============================] - 3s 16ms/step - loss: 0.1899 - acc: 0.9249 - val_loss: 0.7833 - val_acc: 0.7016\n",
            "Epoch 19/50\n",
            "173/173 [==============================] - 3s 16ms/step - loss: 0.1801 - acc: 0.9335 - val_loss: 0.5656 - val_acc: 0.7767\n",
            "Epoch 20/50\n",
            "173/173 [==============================] - 3s 18ms/step - loss: 0.1651 - acc: 0.9362 - val_loss: 0.6199 - val_acc: 0.7681\n",
            "Epoch 21/50\n",
            "173/173 [==============================] - 4s 25ms/step - loss: 0.1482 - acc: 0.9438 - val_loss: 0.5423 - val_acc: 0.7962\n",
            "Epoch 22/50\n",
            "173/173 [==============================] - 4s 23ms/step - loss: 0.1321 - acc: 0.9530 - val_loss: 0.5249 - val_acc: 0.8049\n",
            "Epoch 23/50\n",
            "173/173 [==============================] - 3s 17ms/step - loss: 0.1186 - acc: 0.9574 - val_loss: 0.6805 - val_acc: 0.7601\n",
            "Epoch 24/50\n",
            "173/173 [==============================] - 3s 16ms/step - loss: 0.1081 - acc: 0.9632 - val_loss: 0.6313 - val_acc: 0.7868\n",
            "Epoch 25/50\n",
            "173/173 [==============================] - 3s 16ms/step - loss: 0.0969 - acc: 0.9688 - val_loss: 1.1291 - val_acc: 0.6684\n",
            "Epoch 26/50\n",
            "173/173 [==============================] - 4s 22ms/step - loss: 0.0827 - acc: 0.9740 - val_loss: 0.7311 - val_acc: 0.7688\n",
            "Epoch 27/50\n",
            "173/173 [==============================] - 4s 25ms/step - loss: 0.0741 - acc: 0.9776 - val_loss: 1.0110 - val_acc: 0.7081\n",
            "Epoch 28/50\n",
            "173/173 [==============================] - 3s 18ms/step - loss: 0.0679 - acc: 0.9798 - val_loss: 0.9686 - val_acc: 0.7168\n",
            "Epoch 29/50\n",
            "173/173 [==============================] - 3s 16ms/step - loss: 0.0571 - acc: 0.9854 - val_loss: 0.8168 - val_acc: 0.7789\n",
            "Epoch 30/50\n",
            "173/173 [==============================] - 3s 16ms/step - loss: 0.0524 - acc: 0.9841 - val_loss: 1.1017 - val_acc: 0.7283\n",
            "Epoch 31/50\n",
            "173/173 [==============================] - 3s 18ms/step - loss: 0.0479 - acc: 0.9874 - val_loss: 1.3137 - val_acc: 0.6864\n",
            "Epoch 32/50\n",
            "173/173 [==============================] - 5s 30ms/step - loss: 0.0402 - acc: 0.9901 - val_loss: 1.0547 - val_acc: 0.7500\n",
            "Epoch 33/50\n",
            "173/173 [==============================] - 4s 22ms/step - loss: 0.0367 - acc: 0.9908 - val_loss: 1.2675 - val_acc: 0.7095\n",
            "Epoch 34/50\n",
            "173/173 [==============================] - 3s 16ms/step - loss: 0.0331 - acc: 0.9913 - val_loss: 1.0991 - val_acc: 0.7529\n",
            "Epoch 35/50\n",
            "173/173 [==============================] - 3s 16ms/step - loss: 0.0277 - acc: 0.9940 - val_loss: 1.1690 - val_acc: 0.7565\n",
            "Epoch 36/50\n",
            "173/173 [==============================] - 3s 16ms/step - loss: 0.0232 - acc: 0.9951 - val_loss: 1.2137 - val_acc: 0.7377\n",
            "Epoch 37/50\n",
            "173/173 [==============================] - 4s 23ms/step - loss: 0.0210 - acc: 0.9955 - val_loss: 1.1983 - val_acc: 0.7616\n",
            "Epoch 38/50\n",
            "173/173 [==============================] - 4s 24ms/step - loss: 0.0210 - acc: 0.9939 - val_loss: 1.2764 - val_acc: 0.7370\n",
            "Epoch 39/50\n",
            "173/173 [==============================] - 3s 18ms/step - loss: 0.0177 - acc: 0.9960 - val_loss: 1.2676 - val_acc: 0.7514\n",
            "Epoch 40/50\n",
            "173/173 [==============================] - 3s 16ms/step - loss: 0.0187 - acc: 0.9971 - val_loss: 1.3166 - val_acc: 0.7457\n",
            "Epoch 41/50\n",
            "173/173 [==============================] - 3s 16ms/step - loss: 0.0121 - acc: 0.9975 - val_loss: 1.2828 - val_acc: 0.7536\n",
            "Epoch 42/50\n",
            "173/173 [==============================] - 3s 18ms/step - loss: 0.0170 - acc: 0.9962 - val_loss: 1.2853 - val_acc: 0.7558\n",
            "Epoch 43/50\n",
            "173/173 [==============================] - 4s 25ms/step - loss: 0.0094 - acc: 0.9989 - val_loss: 1.4518 - val_acc: 0.7616\n",
            "Epoch 44/50\n",
            "173/173 [==============================] - 4s 24ms/step - loss: 0.0129 - acc: 0.9971 - val_loss: 1.1820 - val_acc: 0.7775\n",
            "Epoch 45/50\n",
            "173/173 [==============================] - 3s 16ms/step - loss: 0.0120 - acc: 0.9967 - val_loss: 1.3588 - val_acc: 0.7688\n",
            "Epoch 46/50\n",
            "173/173 [==============================] - 3s 17ms/step - loss: 0.0099 - acc: 0.9980 - val_loss: 1.9459 - val_acc: 0.7023\n",
            "Epoch 47/50\n",
            "173/173 [==============================] - 3s 16ms/step - loss: 0.0062 - acc: 0.9993 - val_loss: 1.5859 - val_acc: 0.7449\n",
            "Epoch 48/50\n",
            "173/173 [==============================] - 5s 31ms/step - loss: 0.0108 - acc: 0.9977 - val_loss: 1.5249 - val_acc: 0.7565\n",
            "Epoch 49/50\n",
            "173/173 [==============================] - 5s 26ms/step - loss: 0.0053 - acc: 0.9989 - val_loss: 1.4209 - val_acc: 0.7717\n",
            "Epoch 50/50\n",
            "173/173 [==============================] - 4s 21ms/step - loss: 0.0069 - acc: 0.9982 - val_loss: 1.7733 - val_acc: 0.7428\n"
          ]
        }
      ]
    },
    {
      "cell_type": "code",
      "source": [
        "# save model to local onnx file\n",
        "onnx_model3 = model_to_onnx(model3, framework='keras',\n",
        "                          transfer_learning=True,\n",
        "                          deep_learning=True)\n",
        "\n",
        "with open(\"model3.onnx\", \"wb\") as f:\n",
        "    f.write(onnx_model3.SerializeToString())"
      ],
      "metadata": {
        "id": "7zZUk9Px0FeX"
      },
      "execution_count": 39,
      "outputs": []
    },
    {
      "cell_type": "code",
      "source": [
        "# generate predicted y values from model3\n",
        "prediction_column_index3 = model3.predict(preprocessor(X_test)).argmax(axis=1)\n",
        "\n",
        "# extract correct prediction labels \n",
        "prediction_labels3 = [y_train.columns[i] for i in prediction_column_index3]\n",
        "\n",
        "# Submit model2 to leaderboard\n",
        "mycompetition.submit_model(model_filepath = \"model3.onnx\",\n",
        "                                 preprocessor_filepath=\"preprocessor.zip\",\n",
        "                                 prediction_submission=prediction_labels3)"
      ],
      "metadata": {
        "colab": {
          "base_uri": "https://localhost:8080/"
        },
        "id": "gShyB8Hl0RQ7",
        "outputId": "2821a88c-edcb-46ba-c82b-42364886fd5f"
      },
      "execution_count": 40,
      "outputs": [
        {
          "output_type": "stream",
          "name": "stdout",
          "text": [
            "57/57 [==============================] - 1s 7ms/step\n",
            "Insert search tags to help users find your model (optional): \n",
            "Provide any useful notes about your model (optional): \n",
            "\n",
            "Your model has been submitted as model version 284\n",
            "\n",
            "To submit code used to create this model or to view current leaderboard navigate to Model Playground: \n",
            "\n",
            " https://www.modelshare.org/detail/model:2763\n"
          ]
        }
      ]
    },
    {
      "cell_type": "markdown",
      "source": [
        "### Model 3 Performance\n",
        "\n",
        "The third model performed better than the original LSTM model on all test metrics, and interestingly attained the same scores for all four metrics as the Conv1D model."
      ],
      "metadata": {
        "id": "FUch3ZF81T2Y"
      }
    },
    {
      "cell_type": "markdown",
      "source": [
        "![image.png](data:image/png;base64,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)"
      ],
      "metadata": {
        "id": "wVnO1w671Y8N"
      }
    },
    {
      "cell_type": "markdown",
      "source": [
        "## Model 4: Conv1D with Glove Embeddings\n",
        "\n",
        "Since the use of glove embedding weights improved the performance of my LSTM model, I decided to see if it would do the same for my second model, which used Conv1D layers.\n",
        "\n"
      ],
      "metadata": {
        "id": "Kj9BJlHq1ZZg"
      }
    },
    {
      "cell_type": "code",
      "source": [
        "# reuse model 2 architecture for model 4\n",
        "model4 = Sequential()\n",
        "model4.add(layers.Embedding(10000, embedding_dim, input_length = 40))\n",
        "model4.add(layers.Conv1D(32, 6, activation='relu')) \n",
        "model4.add(layers.MaxPooling1D(5))\n",
        "model4.add(layers.Conv1D(32, 6, activation='relu'))\n",
        "model4.add(layers.GlobalMaxPooling1D())\n",
        "model4.add(layers.Dense(2, activation='softmax'))\n",
        "\n",
        "# use embedding matrix as weights for embedding layer\n",
        "model4.layers[0].set_weights([embedding_matrix])\n",
        "model4.layers[0].trainable = False\n",
        "\n",
        "model4.compile(optimizer='rmsprop', loss='categorical_crossentropy', metrics=['acc'])\n",
        "\n",
        "history4 = model4.fit(preprocessor(X_train), y_train,\n",
        "                    epochs=50,\n",
        "                    batch_size=32,\n",
        "                    validation_split=0.2,\n",
        "                    callbacks = red_lr)"
      ],
      "metadata": {
        "colab": {
          "base_uri": "https://localhost:8080/"
        },
        "id": "jggkuNHI15d3",
        "outputId": "d4fb7a87-ccbc-49b0-e30f-e6dfddda3172"
      },
      "execution_count": 46,
      "outputs": [
        {
          "output_type": "stream",
          "name": "stdout",
          "text": [
            "Epoch 1/50\n",
            "173/173 [==============================] - 10s 22ms/step - loss: 0.6169 - acc: 0.6499 - val_loss: 0.7236 - val_acc: 0.5600 - lr: 0.0010\n",
            "Epoch 2/50\n",
            "173/173 [==============================] - 3s 17ms/step - loss: 0.4995 - acc: 0.7560 - val_loss: 0.7614 - val_acc: 0.6091 - lr: 0.0010\n",
            "Epoch 3/50\n",
            "173/173 [==============================] - 3s 17ms/step - loss: 0.4329 - acc: 0.7982 - val_loss: 0.7520 - val_acc: 0.6207 - lr: 0.0010\n",
            "Epoch 4/50\n",
            "173/173 [==============================] - 3s 20ms/step - loss: 0.3705 - acc: 0.8300 - val_loss: 0.7220 - val_acc: 0.6691 - lr: 0.0010\n",
            "Epoch 5/50\n",
            "173/173 [==============================] - 3s 19ms/step - loss: 0.3147 - acc: 0.8645 - val_loss: 1.0530 - val_acc: 0.5527 - lr: 0.0010\n",
            "Epoch 6/50\n",
            "173/173 [==============================] - 3s 16ms/step - loss: 0.2581 - acc: 0.8936 - val_loss: 0.5814 - val_acc: 0.7529 - lr: 0.0010\n",
            "Epoch 7/50\n",
            "173/173 [==============================] - 3s 15ms/step - loss: 0.2124 - acc: 0.9155 - val_loss: 0.4271 - val_acc: 0.8425 - lr: 0.0010\n",
            "Epoch 8/50\n",
            "173/173 [==============================] - 2s 11ms/step - loss: 0.1719 - acc: 0.9379 - val_loss: 0.4953 - val_acc: 0.8158 - lr: 0.0010\n",
            "Epoch 9/50\n",
            "173/173 [==============================] - 2s 9ms/step - loss: 0.1391 - acc: 0.9500 - val_loss: 0.8688 - val_acc: 0.6850 - lr: 0.0010\n",
            "Epoch 10/50\n",
            "171/173 [============================>.] - ETA: 0s - loss: 0.1070 - acc: 0.9644\n",
            "Epoch 00010: ReduceLROnPlateau reducing learning rate to 0.00010000000474974513.\n",
            "173/173 [==============================] - 2s 11ms/step - loss: 0.1074 - acc: 0.9646 - val_loss: 1.4408 - val_acc: 0.5730 - lr: 0.0010\n",
            "Epoch 11/50\n",
            "173/173 [==============================] - 1s 8ms/step - loss: 0.0477 - acc: 0.9902 - val_loss: 1.0977 - val_acc: 0.6777 - lr: 1.0000e-04\n",
            "Epoch 12/50\n",
            "173/173 [==============================] - 1s 8ms/step - loss: 0.0382 - acc: 0.9935 - val_loss: 0.9779 - val_acc: 0.7160 - lr: 1.0000e-04\n",
            "Epoch 13/50\n",
            "171/173 [============================>.] - ETA: 0s - loss: 0.0322 - acc: 0.9951\n",
            "Epoch 00013: ReduceLROnPlateau reducing learning rate to 1.0000000474974514e-05.\n",
            "173/173 [==============================] - 1s 8ms/step - loss: 0.0325 - acc: 0.9949 - val_loss: 1.2592 - val_acc: 0.6604 - lr: 1.0000e-04\n",
            "Epoch 14/50\n",
            "173/173 [==============================] - 1s 7ms/step - loss: 0.0273 - acc: 0.9966 - val_loss: 1.1242 - val_acc: 0.6893 - lr: 1.0000e-05\n",
            "Epoch 15/50\n",
            "173/173 [==============================] - 2s 11ms/step - loss: 0.0265 - acc: 0.9971 - val_loss: 1.1183 - val_acc: 0.6929 - lr: 1.0000e-05\n",
            "Epoch 16/50\n",
            "171/173 [============================>.] - ETA: 0s - loss: 0.0262 - acc: 0.9973\n",
            "Epoch 00016: ReduceLROnPlateau reducing learning rate to 1.0000000656873453e-06.\n",
            "173/173 [==============================] - 2s 13ms/step - loss: 0.0260 - acc: 0.9973 - val_loss: 1.1118 - val_acc: 0.6980 - lr: 1.0000e-05\n",
            "Epoch 17/50\n",
            "173/173 [==============================] - 3s 18ms/step - loss: 0.0255 - acc: 0.9973 - val_loss: 1.1189 - val_acc: 0.6951 - lr: 1.0000e-06\n",
            "Epoch 18/50\n",
            "173/173 [==============================] - 2s 14ms/step - loss: 0.0254 - acc: 0.9973 - val_loss: 1.1236 - val_acc: 0.6936 - lr: 1.0000e-06\n",
            "Epoch 19/50\n",
            "171/173 [============================>.] - ETA: 0s - loss: 0.0253 - acc: 0.9974\n",
            "Epoch 00019: ReduceLROnPlateau reducing learning rate to 1.0000001111620805e-07.\n",
            "173/173 [==============================] - 1s 8ms/step - loss: 0.0254 - acc: 0.9973 - val_loss: 1.1218 - val_acc: 0.6944 - lr: 1.0000e-06\n",
            "Epoch 20/50\n",
            "173/173 [==============================] - 1s 7ms/step - loss: 0.0253 - acc: 0.9973 - val_loss: 1.1220 - val_acc: 0.6944 - lr: 1.0000e-07\n",
            "Epoch 21/50\n",
            "173/173 [==============================] - 1s 7ms/step - loss: 0.0253 - acc: 0.9973 - val_loss: 1.1223 - val_acc: 0.6944 - lr: 1.0000e-07\n",
            "Epoch 22/50\n",
            "171/173 [============================>.] - ETA: 0s - loss: 0.0253 - acc: 0.9973\n",
            "Epoch 00022: ReduceLROnPlateau reducing learning rate to 1.000000082740371e-08.\n",
            "173/173 [==============================] - 1s 7ms/step - loss: 0.0253 - acc: 0.9973 - val_loss: 1.1225 - val_acc: 0.6944 - lr: 1.0000e-07\n",
            "Epoch 23/50\n",
            "173/173 [==============================] - 1s 7ms/step - loss: 0.0253 - acc: 0.9973 - val_loss: 1.1225 - val_acc: 0.6944 - lr: 1.0000e-08\n",
            "Epoch 24/50\n",
            "173/173 [==============================] - 1s 8ms/step - loss: 0.0253 - acc: 0.9973 - val_loss: 1.1225 - val_acc: 0.6944 - lr: 1.0000e-08\n",
            "Epoch 25/50\n",
            "173/173 [==============================] - ETA: 0s - loss: 0.0253 - acc: 0.9973\n",
            "Epoch 00025: ReduceLROnPlateau reducing learning rate to 1.000000082740371e-09.\n",
            "173/173 [==============================] - 1s 7ms/step - loss: 0.0253 - acc: 0.9973 - val_loss: 1.1226 - val_acc: 0.6944 - lr: 1.0000e-08\n",
            "Epoch 26/50\n",
            "173/173 [==============================] - 2s 9ms/step - loss: 0.0253 - acc: 0.9973 - val_loss: 1.1226 - val_acc: 0.6944 - lr: 1.0000e-09\n",
            "Epoch 27/50\n",
            "173/173 [==============================] - 2s 12ms/step - loss: 0.0253 - acc: 0.9973 - val_loss: 1.1226 - val_acc: 0.6944 - lr: 1.0000e-09\n",
            "Epoch 28/50\n",
            "170/173 [============================>.] - ETA: 0s - loss: 0.0253 - acc: 0.9972\n",
            "Epoch 00028: ReduceLROnPlateau reducing learning rate to 1.000000082740371e-10.\n",
            "173/173 [==============================] - 2s 14ms/step - loss: 0.0253 - acc: 0.9973 - val_loss: 1.1226 - val_acc: 0.6944 - lr: 1.0000e-09\n",
            "Epoch 29/50\n",
            "173/173 [==============================] - 3s 15ms/step - loss: 0.0253 - acc: 0.9973 - val_loss: 1.1226 - val_acc: 0.6944 - lr: 1.0000e-10\n",
            "Epoch 30/50\n",
            "173/173 [==============================] - 2s 13ms/step - loss: 0.0253 - acc: 0.9973 - val_loss: 1.1226 - val_acc: 0.6944 - lr: 1.0000e-10\n",
            "Epoch 31/50\n",
            "172/173 [============================>.] - ETA: 0s - loss: 0.0253 - acc: 0.9973\n",
            "Epoch 00031: ReduceLROnPlateau reducing learning rate to 1.000000082740371e-11.\n",
            "173/173 [==============================] - 2s 9ms/step - loss: 0.0253 - acc: 0.9973 - val_loss: 1.1226 - val_acc: 0.6944 - lr: 1.0000e-10\n",
            "Epoch 32/50\n",
            "173/173 [==============================] - 2s 9ms/step - loss: 0.0253 - acc: 0.9973 - val_loss: 1.1226 - val_acc: 0.6944 - lr: 1.0000e-11\n",
            "Epoch 33/50\n",
            "173/173 [==============================] - 1s 9ms/step - loss: 0.0253 - acc: 0.9973 - val_loss: 1.1226 - val_acc: 0.6944 - lr: 1.0000e-11\n",
            "Epoch 34/50\n",
            "169/173 [============================>.] - ETA: 0s - loss: 0.0256 - acc: 0.9972\n",
            "Epoch 00034: ReduceLROnPlateau reducing learning rate to 1.000000082740371e-12.\n",
            "173/173 [==============================] - 2s 10ms/step - loss: 0.0253 - acc: 0.9973 - val_loss: 1.1226 - val_acc: 0.6944 - lr: 1.0000e-11\n",
            "Epoch 35/50\n",
            "173/173 [==============================] - 2s 13ms/step - loss: 0.0253 - acc: 0.9973 - val_loss: 1.1226 - val_acc: 0.6944 - lr: 1.0000e-12\n",
            "Epoch 36/50\n",
            "173/173 [==============================] - 2s 13ms/step - loss: 0.0253 - acc: 0.9973 - val_loss: 1.1226 - val_acc: 0.6944 - lr: 1.0000e-12\n",
            "Epoch 37/50\n",
            "172/173 [============================>.] - ETA: 0s - loss: 0.0252 - acc: 0.9975\n",
            "Epoch 00037: ReduceLROnPlateau reducing learning rate to 1.0000001044244145e-13.\n",
            "173/173 [==============================] - 3s 19ms/step - loss: 0.0253 - acc: 0.9973 - val_loss: 1.1226 - val_acc: 0.6944 - lr: 1.0000e-12\n",
            "Epoch 38/50\n",
            "173/173 [==============================] - 2s 14ms/step - loss: 0.0253 - acc: 0.9973 - val_loss: 1.1226 - val_acc: 0.6944 - lr: 1.0000e-13\n",
            "Epoch 39/50\n",
            "173/173 [==============================] - 2s 12ms/step - loss: 0.0253 - acc: 0.9973 - val_loss: 1.1226 - val_acc: 0.6944 - lr: 1.0000e-13\n",
            "Epoch 40/50\n",
            "171/173 [============================>.] - ETA: 0s - loss: 0.0254 - acc: 0.9973\n",
            "Epoch 00040: ReduceLROnPlateau reducing learning rate to 1.0000001179769417e-14.\n",
            "173/173 [==============================] - 2s 10ms/step - loss: 0.0253 - acc: 0.9973 - val_loss: 1.1226 - val_acc: 0.6944 - lr: 1.0000e-13\n",
            "Epoch 41/50\n",
            "173/173 [==============================] - 1s 8ms/step - loss: 0.0253 - acc: 0.9973 - val_loss: 1.1226 - val_acc: 0.6944 - lr: 1.0000e-14\n",
            "Epoch 42/50\n",
            "173/173 [==============================] - 1s 7ms/step - loss: 0.0253 - acc: 0.9973 - val_loss: 1.1226 - val_acc: 0.6944 - lr: 1.0000e-14\n",
            "Epoch 43/50\n",
            "171/173 [============================>.] - ETA: 0s - loss: 0.0252 - acc: 0.9973\n",
            "Epoch 00043: ReduceLROnPlateau reducing learning rate to 1.0000001518582595e-15.\n",
            "173/173 [==============================] - 1s 7ms/step - loss: 0.0253 - acc: 0.9973 - val_loss: 1.1226 - val_acc: 0.6944 - lr: 1.0000e-14\n",
            "Epoch 44/50\n",
            "173/173 [==============================] - 1s 8ms/step - loss: 0.0253 - acc: 0.9973 - val_loss: 1.1226 - val_acc: 0.6944 - lr: 1.0000e-15\n",
            "Epoch 45/50\n",
            "173/173 [==============================] - 1s 8ms/step - loss: 0.0253 - acc: 0.9973 - val_loss: 1.1226 - val_acc: 0.6944 - lr: 1.0000e-15\n",
            "Epoch 46/50\n",
            "173/173 [==============================] - ETA: 0s - loss: 0.0253 - acc: 0.9973\n",
            "Epoch 00046: ReduceLROnPlateau reducing learning rate to 1.0000001095066122e-16.\n",
            "173/173 [==============================] - 1s 7ms/step - loss: 0.0253 - acc: 0.9973 - val_loss: 1.1226 - val_acc: 0.6944 - lr: 1.0000e-15\n",
            "Epoch 47/50\n",
            "173/173 [==============================] - 1s 7ms/step - loss: 0.0253 - acc: 0.9973 - val_loss: 1.1226 - val_acc: 0.6944 - lr: 1.0000e-16\n",
            "Epoch 48/50\n",
            "173/173 [==============================] - 2s 13ms/step - loss: 0.0253 - acc: 0.9973 - val_loss: 1.1226 - val_acc: 0.6944 - lr: 1.0000e-16\n",
            "Epoch 49/50\n",
            "173/173 [==============================] - ETA: 0s - loss: 0.0253 - acc: 0.9973\n",
            "Epoch 00049: ReduceLROnPlateau reducing learning rate to 1.0000000830368326e-17.\n",
            "173/173 [==============================] - 6s 33ms/step - loss: 0.0253 - acc: 0.9973 - val_loss: 1.1226 - val_acc: 0.6944 - lr: 1.0000e-16\n",
            "Epoch 50/50\n",
            "173/173 [==============================] - 2s 13ms/step - loss: 0.0253 - acc: 0.9973 - val_loss: 1.1226 - val_acc: 0.6944 - lr: 1.0000e-17\n"
          ]
        }
      ]
    },
    {
      "cell_type": "code",
      "source": [
        "# save model to local onnx file\n",
        "onnx_model4 = model_to_onnx(model4, framework='keras',\n",
        "                          transfer_learning=True,\n",
        "                          deep_learning=True)\n",
        "\n",
        "with open(\"model4.onnx\", \"wb\") as f:\n",
        "    f.write(onnx_model4.SerializeToString())"
      ],
      "metadata": {
        "id": "8sbYtQ6o178t"
      },
      "execution_count": 47,
      "outputs": []
    },
    {
      "cell_type": "code",
      "source": [
        "# generate predicted y values from model4\n",
        "prediction_column_index4 = model4.predict(preprocessor(X_test)).argmax(axis=1)\n",
        "\n",
        "# extract correct prediction labels \n",
        "prediction_labels4 = [y_train.columns[i] for i in prediction_column_index4]\n",
        "\n",
        "# Submit model2 to leaderboard\n",
        "mycompetition.submit_model(model_filepath = \"model4.onnx\",\n",
        "                                 preprocessor_filepath=\"preprocessor.zip\",\n",
        "                                 prediction_submission=prediction_labels4)"
      ],
      "metadata": {
        "colab": {
          "base_uri": "https://localhost:8080/"
        },
        "id": "Dd_bx5372R0F",
        "outputId": "8b28bd1f-3c7b-4e40-bf39-ad142afd9b88"
      },
      "execution_count": 48,
      "outputs": [
        {
          "output_type": "stream",
          "name": "stdout",
          "text": [
            "57/57 [==============================] - 0s 3ms/step\n",
            "Insert search tags to help users find your model (optional): \n",
            "Provide any useful notes about your model (optional): \n",
            "\n",
            "Your model has been submitted as model version 286\n",
            "\n",
            "To submit code used to create this model or to view current leaderboard navigate to Model Playground: \n",
            "\n",
            " https://www.modelshare.org/detail/model:2763\n"
          ]
        }
      ]
    },
    {
      "cell_type": "markdown",
      "source": [
        "### Model 4 Performance\n",
        "\n",
        "Interestingly, the Conv1D model performed worse when glove embeddings were used. This does not necessarily suggest that a glove embeddings will not improve the performance of a Conv1D model on this dataset; it may be the case that the model overfit to training data (notice that the learning rate was reduced repeatedly by the callback function during model training), hence, starting with a lower base training rate might have improved performance."
      ],
      "metadata": {
        "id": "edFwdg-B3QZh"
      }
    },
    {
      "cell_type": "markdown",
      "source": [
        "![image.png](data:image/png;base64,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)"
      ],
      "metadata": {
        "id": "3D4GJcEC3TDU"
      }
    },
    {
      "cell_type": "markdown",
      "source": [
        "## Model 5: Stacked LSTM with Glove Embeddings\n",
        "\n",
        "I next decided to try to improve on the performance of my LSTM model with glove embeddings by stacking 3 LSTM layers instead of only using 1."
      ],
      "metadata": {
        "id": "t-8oH9on3TbH"
      }
    },
    {
      "cell_type": "code",
      "source": [
        "# instantiate model\n",
        "model5 = Sequential()\n",
        "model5.add(Embedding(10000, embedding_dim, input_length = 40))\n",
        "model5.add(LSTM(32, return_sequences=True))\n",
        "model5.add(LSTM(32, return_sequences=True))\n",
        "model5.add(LSTM(32, return_sequences=True))\n",
        "model5.add(LSTM(32))\n",
        "model5.add(Flatten())\n",
        "model5.add(Dense(2, activation = 'softmax'))\n",
        "\n",
        "# use embedding matrix as weights for embedding layer\n",
        "model5.layers[0].set_weights([embedding_matrix])\n",
        "model5.layers[0].trainable = False\n",
        "\n",
        "model5.compile(optimizer='rmsprop', loss='categorical_crossentropy', metrics=['acc'])\n",
        "\n",
        "history5 = model5.fit(preprocessor(X_train), y_train,\n",
        "                    epochs=50,\n",
        "                    batch_size=32,\n",
        "                    validation_split=0.2,\n",
        "                    callbacks = red_lr)"
      ],
      "metadata": {
        "colab": {
          "base_uri": "https://localhost:8080/"
        },
        "id": "Yhps1yTZ3sck",
        "outputId": "496cf612-d876-4e83-d9a1-cdf5ba4bc221"
      },
      "execution_count": 50,
      "outputs": [
        {
          "output_type": "stream",
          "name": "stdout",
          "text": [
            "Epoch 1/50\n",
            "173/173 [==============================] - 28s 105ms/step - loss: 0.6199 - acc: 0.6584 - val_loss: 0.9413 - val_acc: 0.3931 - lr: 0.0010\n",
            "Epoch 2/50\n",
            "173/173 [==============================] - 12s 68ms/step - loss: 0.5501 - acc: 0.7189 - val_loss: 0.5825 - val_acc: 0.7074 - lr: 0.0010\n",
            "Epoch 3/50\n",
            "173/173 [==============================] - 12s 71ms/step - loss: 0.5041 - acc: 0.7448 - val_loss: 0.6995 - val_acc: 0.6727 - lr: 0.0010\n",
            "Epoch 4/50\n",
            "173/173 [==============================] - 15s 87ms/step - loss: 0.4734 - acc: 0.7738 - val_loss: 0.6154 - val_acc: 0.7233 - lr: 0.0010\n",
            "Epoch 5/50\n",
            "173/173 [==============================] - 11s 64ms/step - loss: 0.4389 - acc: 0.7908 - val_loss: 0.5402 - val_acc: 0.7233 - lr: 0.0010\n",
            "Epoch 6/50\n",
            "173/173 [==============================] - 12s 69ms/step - loss: 0.4167 - acc: 0.8009 - val_loss: 0.5761 - val_acc: 0.7579 - lr: 0.0010\n",
            "Epoch 7/50\n",
            "173/173 [==============================] - 14s 79ms/step - loss: 0.3951 - acc: 0.8100 - val_loss: 0.4273 - val_acc: 0.8071 - lr: 0.0010\n",
            "Epoch 8/50\n",
            "173/173 [==============================] - 11s 62ms/step - loss: 0.3744 - acc: 0.8280 - val_loss: 0.4134 - val_acc: 0.8201 - lr: 0.0010\n",
            "Epoch 9/50\n",
            "173/173 [==============================] - 12s 71ms/step - loss: 0.3490 - acc: 0.8380 - val_loss: 0.5910 - val_acc: 0.7312 - lr: 0.0010\n",
            "Epoch 10/50\n",
            "173/173 [==============================] - 13s 75ms/step - loss: 0.3302 - acc: 0.8535 - val_loss: 0.5979 - val_acc: 0.7421 - lr: 0.0010\n",
            "Epoch 11/50\n",
            "173/173 [==============================] - ETA: 0s - loss: 0.3088 - acc: 0.8629\n",
            "Epoch 00011: ReduceLROnPlateau reducing learning rate to 0.00010000000474974513.\n",
            "173/173 [==============================] - 10s 59ms/step - loss: 0.3088 - acc: 0.8629 - val_loss: 0.5721 - val_acc: 0.7493 - lr: 0.0010\n",
            "Epoch 12/50\n",
            "173/173 [==============================] - 13s 74ms/step - loss: 0.2520 - acc: 0.8932 - val_loss: 0.5787 - val_acc: 0.7688 - lr: 1.0000e-04\n",
            "Epoch 13/50\n",
            "173/173 [==============================] - 13s 72ms/step - loss: 0.2366 - acc: 0.8987 - val_loss: 0.6240 - val_acc: 0.7572 - lr: 1.0000e-04\n",
            "Epoch 14/50\n",
            "173/173 [==============================] - ETA: 0s - loss: 0.2289 - acc: 0.9037\n",
            "Epoch 00014: ReduceLROnPlateau reducing learning rate to 1.0000000474974514e-05.\n",
            "173/173 [==============================] - 11s 62ms/step - loss: 0.2289 - acc: 0.9037 - val_loss: 0.5990 - val_acc: 0.7666 - lr: 1.0000e-04\n",
            "Epoch 15/50\n",
            "173/173 [==============================] - 19s 109ms/step - loss: 0.2200 - acc: 0.9086 - val_loss: 0.6241 - val_acc: 0.7579 - lr: 1.0000e-05\n",
            "Epoch 16/50\n",
            "173/173 [==============================] - 14s 80ms/step - loss: 0.2188 - acc: 0.9084 - val_loss: 0.6292 - val_acc: 0.7601 - lr: 1.0000e-05\n",
            "Epoch 17/50\n",
            "173/173 [==============================] - ETA: 0s - loss: 0.2180 - acc: 0.9093\n",
            "Epoch 00017: ReduceLROnPlateau reducing learning rate to 1.0000000656873453e-06.\n",
            "173/173 [==============================] - 13s 75ms/step - loss: 0.2180 - acc: 0.9093 - val_loss: 0.6318 - val_acc: 0.7594 - lr: 1.0000e-05\n",
            "Epoch 18/50\n",
            "173/173 [==============================] - 11s 65ms/step - loss: 0.2168 - acc: 0.9090 - val_loss: 0.6329 - val_acc: 0.7594 - lr: 1.0000e-06\n",
            "Epoch 19/50\n",
            "173/173 [==============================] - 22s 130ms/step - loss: 0.2167 - acc: 0.9091 - val_loss: 0.6337 - val_acc: 0.7594 - lr: 1.0000e-06\n",
            "Epoch 20/50\n",
            "173/173 [==============================] - ETA: 0s - loss: 0.2167 - acc: 0.9095\n",
            "Epoch 00020: ReduceLROnPlateau reducing learning rate to 1.0000001111620805e-07.\n",
            "173/173 [==============================] - 14s 80ms/step - loss: 0.2167 - acc: 0.9095 - val_loss: 0.6344 - val_acc: 0.7594 - lr: 1.0000e-06\n",
            "Epoch 21/50\n",
            "173/173 [==============================] - 12s 71ms/step - loss: 0.2165 - acc: 0.9093 - val_loss: 0.6345 - val_acc: 0.7594 - lr: 1.0000e-07\n",
            "Epoch 22/50\n",
            "173/173 [==============================] - 14s 81ms/step - loss: 0.2165 - acc: 0.9093 - val_loss: 0.6346 - val_acc: 0.7594 - lr: 1.0000e-07\n",
            "Epoch 23/50\n",
            "173/173 [==============================] - ETA: 0s - loss: 0.2165 - acc: 0.9093\n",
            "Epoch 00023: ReduceLROnPlateau reducing learning rate to 1.000000082740371e-08.\n",
            "173/173 [==============================] - 17s 96ms/step - loss: 0.2165 - acc: 0.9093 - val_loss: 0.6347 - val_acc: 0.7594 - lr: 1.0000e-07\n",
            "Epoch 24/50\n",
            "173/173 [==============================] - 16s 94ms/step - loss: 0.2165 - acc: 0.9093 - val_loss: 0.6347 - val_acc: 0.7594 - lr: 1.0000e-08\n",
            "Epoch 25/50\n",
            "173/173 [==============================] - 16s 92ms/step - loss: 0.2165 - acc: 0.9093 - val_loss: 0.6347 - val_acc: 0.7594 - lr: 1.0000e-08\n",
            "Epoch 26/50\n",
            "173/173 [==============================] - ETA: 0s - loss: 0.2165 - acc: 0.9093\n",
            "Epoch 00026: ReduceLROnPlateau reducing learning rate to 1.000000082740371e-09.\n",
            "173/173 [==============================] - 17s 100ms/step - loss: 0.2165 - acc: 0.9093 - val_loss: 0.6347 - val_acc: 0.7594 - lr: 1.0000e-08\n",
            "Epoch 27/50\n",
            "173/173 [==============================] - 12s 66ms/step - loss: 0.2165 - acc: 0.9093 - val_loss: 0.6347 - val_acc: 0.7594 - lr: 1.0000e-09\n",
            "Epoch 28/50\n",
            "173/173 [==============================] - 13s 76ms/step - loss: 0.2165 - acc: 0.9093 - val_loss: 0.6347 - val_acc: 0.7594 - lr: 1.0000e-09\n",
            "Epoch 29/50\n",
            "173/173 [==============================] - ETA: 0s - loss: 0.2165 - acc: 0.9093\n",
            "Epoch 00029: ReduceLROnPlateau reducing learning rate to 1.000000082740371e-10.\n",
            "173/173 [==============================] - 11s 65ms/step - loss: 0.2165 - acc: 0.9093 - val_loss: 0.6347 - val_acc: 0.7594 - lr: 1.0000e-09\n",
            "Epoch 30/50\n",
            "173/173 [==============================] - 12s 69ms/step - loss: 0.2165 - acc: 0.9093 - val_loss: 0.6347 - val_acc: 0.7594 - lr: 1.0000e-10\n",
            "Epoch 31/50\n",
            "173/173 [==============================] - 13s 76ms/step - loss: 0.2165 - acc: 0.9093 - val_loss: 0.6347 - val_acc: 0.7594 - lr: 1.0000e-10\n",
            "Epoch 32/50\n",
            "173/173 [==============================] - ETA: 0s - loss: 0.2165 - acc: 0.9093\n",
            "Epoch 00032: ReduceLROnPlateau reducing learning rate to 1.000000082740371e-11.\n",
            "173/173 [==============================] - 11s 62ms/step - loss: 0.2165 - acc: 0.9093 - val_loss: 0.6347 - val_acc: 0.7594 - lr: 1.0000e-10\n",
            "Epoch 33/50\n",
            "173/173 [==============================] - 12s 72ms/step - loss: 0.2165 - acc: 0.9093 - val_loss: 0.6347 - val_acc: 0.7594 - lr: 1.0000e-11\n",
            "Epoch 34/50\n",
            "173/173 [==============================] - 15s 86ms/step - loss: 0.2165 - acc: 0.9093 - val_loss: 0.6347 - val_acc: 0.7594 - lr: 1.0000e-11\n",
            "Epoch 35/50\n",
            "173/173 [==============================] - ETA: 0s - loss: 0.2165 - acc: 0.9093\n",
            "Epoch 00035: ReduceLROnPlateau reducing learning rate to 1.000000082740371e-12.\n",
            "173/173 [==============================] - 11s 63ms/step - loss: 0.2165 - acc: 0.9093 - val_loss: 0.6347 - val_acc: 0.7594 - lr: 1.0000e-11\n",
            "Epoch 36/50\n",
            "173/173 [==============================] - 14s 83ms/step - loss: 0.2165 - acc: 0.9093 - val_loss: 0.6347 - val_acc: 0.7594 - lr: 1.0000e-12\n",
            "Epoch 37/50\n",
            "173/173 [==============================] - 13s 77ms/step - loss: 0.2165 - acc: 0.9093 - val_loss: 0.6347 - val_acc: 0.7594 - lr: 1.0000e-12\n",
            "Epoch 38/50\n",
            "173/173 [==============================] - ETA: 0s - loss: 0.2165 - acc: 0.9093\n",
            "Epoch 00038: ReduceLROnPlateau reducing learning rate to 1.0000001044244145e-13.\n",
            "173/173 [==============================] - 11s 63ms/step - loss: 0.2165 - acc: 0.9093 - val_loss: 0.6347 - val_acc: 0.7594 - lr: 1.0000e-12\n",
            "Epoch 39/50\n",
            "173/173 [==============================] - 13s 73ms/step - loss: 0.2165 - acc: 0.9093 - val_loss: 0.6347 - val_acc: 0.7594 - lr: 1.0000e-13\n",
            "Epoch 40/50\n",
            "173/173 [==============================] - 13s 77ms/step - loss: 0.2165 - acc: 0.9093 - val_loss: 0.6347 - val_acc: 0.7594 - lr: 1.0000e-13\n",
            "Epoch 41/50\n",
            "173/173 [==============================] - ETA: 0s - loss: 0.2165 - acc: 0.9093\n",
            "Epoch 00041: ReduceLROnPlateau reducing learning rate to 1.0000001179769417e-14.\n",
            "173/173 [==============================] - 11s 62ms/step - loss: 0.2165 - acc: 0.9093 - val_loss: 0.6347 - val_acc: 0.7594 - lr: 1.0000e-13\n",
            "Epoch 42/50\n",
            "173/173 [==============================] - 13s 74ms/step - loss: 0.2165 - acc: 0.9093 - val_loss: 0.6347 - val_acc: 0.7594 - lr: 1.0000e-14\n",
            "Epoch 43/50\n",
            "173/173 [==============================] - 15s 86ms/step - loss: 0.2165 - acc: 0.9093 - val_loss: 0.6347 - val_acc: 0.7594 - lr: 1.0000e-14\n",
            "Epoch 44/50\n",
            "173/173 [==============================] - ETA: 0s - loss: 0.2165 - acc: 0.9093\n",
            "Epoch 00044: ReduceLROnPlateau reducing learning rate to 1.0000001518582595e-15.\n",
            "173/173 [==============================] - 11s 66ms/step - loss: 0.2165 - acc: 0.9093 - val_loss: 0.6347 - val_acc: 0.7594 - lr: 1.0000e-14\n",
            "Epoch 45/50\n",
            "173/173 [==============================] - 12s 70ms/step - loss: 0.2165 - acc: 0.9093 - val_loss: 0.6347 - val_acc: 0.7594 - lr: 1.0000e-15\n",
            "Epoch 46/50\n",
            "173/173 [==============================] - 13s 78ms/step - loss: 0.2165 - acc: 0.9093 - val_loss: 0.6347 - val_acc: 0.7594 - lr: 1.0000e-15\n",
            "Epoch 47/50\n",
            "173/173 [==============================] - ETA: 0s - loss: 0.2165 - acc: 0.9093\n",
            "Epoch 00047: ReduceLROnPlateau reducing learning rate to 1.0000001095066122e-16.\n",
            "173/173 [==============================] - 11s 65ms/step - loss: 0.2165 - acc: 0.9093 - val_loss: 0.6347 - val_acc: 0.7594 - lr: 1.0000e-15\n",
            "Epoch 48/50\n",
            "173/173 [==============================] - 12s 70ms/step - loss: 0.2165 - acc: 0.9093 - val_loss: 0.6347 - val_acc: 0.7594 - lr: 1.0000e-16\n",
            "Epoch 49/50\n",
            "173/173 [==============================] - 13s 77ms/step - loss: 0.2165 - acc: 0.9093 - val_loss: 0.6347 - val_acc: 0.7594 - lr: 1.0000e-16\n",
            "Epoch 50/50\n",
            "173/173 [==============================] - ETA: 0s - loss: 0.2165 - acc: 0.9093\n",
            "Epoch 00050: ReduceLROnPlateau reducing learning rate to 1.0000000830368326e-17.\n",
            "173/173 [==============================] - 11s 64ms/step - loss: 0.2165 - acc: 0.9093 - val_loss: 0.6347 - val_acc: 0.7594 - lr: 1.0000e-16\n"
          ]
        }
      ]
    },
    {
      "cell_type": "code",
      "source": [
        "# save model to local onnx file\n",
        "onnx_model5 = model_to_onnx(model5, framework='keras',\n",
        "                          transfer_learning=True,\n",
        "                          deep_learning=True)\n",
        "\n",
        "with open(\"model5.onnx\", \"wb\") as f:\n",
        "    f.write(onnx_model5.SerializeToString())"
      ],
      "metadata": {
        "id": "Rgh9eJL_4obN"
      },
      "execution_count": 52,
      "outputs": []
    },
    {
      "cell_type": "code",
      "source": [
        "# generate predicted y values from model5\n",
        "prediction_column_index5 = model5.predict(preprocessor(X_test)).argmax(axis=1)\n",
        "\n",
        "# extract correct prediction labels \n",
        "prediction_labels5 = [y_train.columns[i] for i in prediction_column_index5]\n",
        "\n",
        "# Submit model2 to leaderboard\n",
        "mycompetition.submit_model(model_filepath = \"model5.onnx\",\n",
        "                                 preprocessor_filepath=\"preprocessor.zip\",\n",
        "                                 prediction_submission=prediction_labels5)"
      ],
      "metadata": {
        "colab": {
          "base_uri": "https://localhost:8080/"
        },
        "id": "k8byT1gE4yET",
        "outputId": "05750722-1b21-4b86-a335-9a3b03ca3a53"
      },
      "execution_count": 53,
      "outputs": [
        {
          "output_type": "stream",
          "name": "stdout",
          "text": [
            "57/57 [==============================] - 3s 22ms/step\n",
            "Insert search tags to help users find your model (optional): \n",
            "Provide any useful notes about your model (optional): \n",
            "\n",
            "Your model has been submitted as model version 287\n",
            "\n",
            "To submit code used to create this model or to view current leaderboard navigate to Model Playground: \n",
            "\n",
            " https://www.modelshare.org/detail/model:2763\n"
          ]
        }
      ]
    },
    {
      "cell_type": "markdown",
      "source": [
        "## Model 5 Performance\n",
        "\n",
        "The model performed better than the baseline LSTM model with glove embeddings, however, this improvement was very slight. Model 5 performed nominally better than the baseline model on accuracy, f1, and recall scores, but did marginally worse than the baseline model on precision."
      ],
      "metadata": {
        "id": "9VkFbpW55AL2"
      }
    },
    {
      "cell_type": "markdown",
      "source": [
        "![image.png](data:image/png;base64,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)"
      ],
      "metadata": {
        "id": "MxrFofX95B7a"
      }
    },
    {
      "cell_type": "markdown",
      "source": [
        "## Model 6: Bidirectional Stacked LSTMS with Glove Embeddings and Dropouts\n",
        "\n",
        "For my 6th and final model, I decided to test if wrapping the stacked LSTM layers in a Bidrectional() call would further improve model performance. I also used dropouts in the LSTM layers."
      ],
      "metadata": {
        "id": "urOOGZOt5CVs"
      }
    },
    {
      "cell_type": "code",
      "source": [
        "# instantiate model\n",
        "model6 = Sequential()\n",
        "model6.add(Embedding(10000, embedding_dim, input_length = 40))\n",
        "model6.add(Bidirectional(LSTM(32, return_sequences=True, dropout=0.2, recurrent_dropout=0.2)))\n",
        "model6.add(Bidirectional(LSTM(32, return_sequences=True, dropout=0.2, recurrent_dropout=0.2)))\n",
        "model6.add(Bidirectional(LSTM(32, return_sequences=True, dropout=0.2, recurrent_dropout=0.2)))\n",
        "model6.add(Bidirectional(LSTM(32, dropout=0.2, recurrent_dropout=0.2)))\n",
        "model6.add(Flatten())\n",
        "model6.add(Dense(2, activation = 'softmax'))\n",
        "\n",
        "# use embedding matrix as weights for embedding layer\n",
        "model6.layers[0].set_weights([embedding_matrix])\n",
        "model6.layers[0].trainable = False\n",
        "\n",
        "model6.compile(optimizer='rmsprop', loss='categorical_crossentropy', metrics=['acc'])\n",
        "\n",
        "history6 = model6.fit(preprocessor(X_train), y_train,\n",
        "                    epochs=50,\n",
        "                    batch_size=32,\n",
        "                    validation_split=0.2,\n",
        "                    callbacks = red_lr)"
      ],
      "metadata": {
        "colab": {
          "base_uri": "https://localhost:8080/"
        },
        "id": "uwFmaS035qs9",
        "outputId": "eeded619-84f0-4ea3-a7dc-98b9ce357b24"
      },
      "execution_count": 54,
      "outputs": [
        {
          "output_type": "stream",
          "name": "stdout",
          "text": [
            "Epoch 1/50\n",
            "173/173 [==============================] - 77s 334ms/step - loss: 0.5939 - acc: 0.6725 - val_loss: 0.9011 - val_acc: 0.4877 - lr: 0.0010\n",
            "Epoch 2/50\n",
            "173/173 [==============================] - 57s 328ms/step - loss: 0.5201 - acc: 0.7330 - val_loss: 0.5559 - val_acc: 0.7305 - lr: 0.0010\n",
            "Epoch 3/50\n",
            "173/173 [==============================] - 57s 329ms/step - loss: 0.4846 - acc: 0.7614 - val_loss: 0.7602 - val_acc: 0.5195 - lr: 0.0010\n",
            "Epoch 4/50\n",
            "173/173 [==============================] - 57s 329ms/step - loss: 0.4676 - acc: 0.7728 - val_loss: 0.7961 - val_acc: 0.6647 - lr: 0.0010\n",
            "Epoch 5/50\n",
            "173/173 [==============================] - 56s 323ms/step - loss: 0.4482 - acc: 0.7820 - val_loss: 0.3809 - val_acc: 0.8613 - lr: 0.0010\n",
            "Epoch 6/50\n",
            "173/173 [==============================] - 57s 329ms/step - loss: 0.4388 - acc: 0.7908 - val_loss: 0.4252 - val_acc: 0.8100 - lr: 0.0010\n",
            "Epoch 7/50\n",
            "173/173 [==============================] - 56s 324ms/step - loss: 0.4199 - acc: 0.8024 - val_loss: 0.7517 - val_acc: 0.5744 - lr: 0.0010\n",
            "Epoch 8/50\n",
            "173/173 [==============================] - ETA: 0s - loss: 0.4060 - acc: 0.8120\n",
            "Epoch 00008: ReduceLROnPlateau reducing learning rate to 0.00010000000474974513.\n",
            "173/173 [==============================] - 56s 324ms/step - loss: 0.4060 - acc: 0.8120 - val_loss: 0.4189 - val_acc: 0.8143 - lr: 0.0010\n",
            "Epoch 9/50\n",
            "173/173 [==============================] - 58s 334ms/step - loss: 0.3698 - acc: 0.8288 - val_loss: 0.5200 - val_acc: 0.7558 - lr: 1.0000e-04\n",
            "Epoch 10/50\n",
            "173/173 [==============================] - 57s 329ms/step - loss: 0.3575 - acc: 0.8338 - val_loss: 0.5499 - val_acc: 0.7471 - lr: 1.0000e-04\n",
            "Epoch 11/50\n",
            "173/173 [==============================] - ETA: 0s - loss: 0.3568 - acc: 0.8360\n",
            "Epoch 00011: ReduceLROnPlateau reducing learning rate to 1.0000000474974514e-05.\n",
            "173/173 [==============================] - 57s 331ms/step - loss: 0.3568 - acc: 0.8360 - val_loss: 0.5064 - val_acc: 0.7630 - lr: 1.0000e-04\n",
            "Epoch 12/50\n",
            "173/173 [==============================] - 58s 332ms/step - loss: 0.3548 - acc: 0.8344 - val_loss: 0.5218 - val_acc: 0.7572 - lr: 1.0000e-05\n",
            "Epoch 13/50\n",
            "173/173 [==============================] - 56s 325ms/step - loss: 0.3508 - acc: 0.8418 - val_loss: 0.5275 - val_acc: 0.7558 - lr: 1.0000e-05\n",
            "Epoch 14/50\n",
            "173/173 [==============================] - ETA: 0s - loss: 0.3503 - acc: 0.8398\n",
            "Epoch 00014: ReduceLROnPlateau reducing learning rate to 1.0000000656873453e-06.\n",
            "173/173 [==============================] - 61s 354ms/step - loss: 0.3503 - acc: 0.8398 - val_loss: 0.5170 - val_acc: 0.7594 - lr: 1.0000e-05\n",
            "Epoch 15/50\n",
            "173/173 [==============================] - 70s 406ms/step - loss: 0.3515 - acc: 0.8403 - val_loss: 0.5185 - val_acc: 0.7601 - lr: 1.0000e-06\n",
            "Epoch 16/50\n",
            "173/173 [==============================] - 64s 370ms/step - loss: 0.3492 - acc: 0.8363 - val_loss: 0.5216 - val_acc: 0.7594 - lr: 1.0000e-06\n",
            "Epoch 17/50\n",
            "173/173 [==============================] - ETA: 0s - loss: 0.3457 - acc: 0.8410\n",
            "Epoch 00017: ReduceLROnPlateau reducing learning rate to 1.0000001111620805e-07.\n",
            "173/173 [==============================] - 74s 427ms/step - loss: 0.3457 - acc: 0.8410 - val_loss: 0.5225 - val_acc: 0.7594 - lr: 1.0000e-06\n",
            "Epoch 18/50\n",
            "173/173 [==============================] - 62s 360ms/step - loss: 0.3502 - acc: 0.8385 - val_loss: 0.5228 - val_acc: 0.7594 - lr: 1.0000e-07\n",
            "Epoch 19/50\n",
            "173/173 [==============================] - 65s 375ms/step - loss: 0.3460 - acc: 0.8410 - val_loss: 0.5230 - val_acc: 0.7594 - lr: 1.0000e-07\n",
            "Epoch 20/50\n",
            "173/173 [==============================] - ETA: 0s - loss: 0.3511 - acc: 0.8409\n",
            "Epoch 00020: ReduceLROnPlateau reducing learning rate to 1.000000082740371e-08.\n",
            "173/173 [==============================] - 70s 405ms/step - loss: 0.3511 - acc: 0.8409 - val_loss: 0.5230 - val_acc: 0.7587 - lr: 1.0000e-07\n",
            "Epoch 21/50\n",
            "173/173 [==============================] - 72s 415ms/step - loss: 0.3456 - acc: 0.8436 - val_loss: 0.5231 - val_acc: 0.7587 - lr: 1.0000e-08\n",
            "Epoch 22/50\n",
            "173/173 [==============================] - 60s 349ms/step - loss: 0.3506 - acc: 0.8382 - val_loss: 0.5231 - val_acc: 0.7587 - lr: 1.0000e-08\n",
            "Epoch 23/50\n",
            "173/173 [==============================] - ETA: 0s - loss: 0.3512 - acc: 0.8389\n",
            "Epoch 00023: ReduceLROnPlateau reducing learning rate to 1.000000082740371e-09.\n",
            "173/173 [==============================] - 69s 402ms/step - loss: 0.3512 - acc: 0.8389 - val_loss: 0.5231 - val_acc: 0.7587 - lr: 1.0000e-08\n",
            "Epoch 24/50\n",
            "173/173 [==============================] - 62s 357ms/step - loss: 0.3487 - acc: 0.8392 - val_loss: 0.5231 - val_acc: 0.7587 - lr: 1.0000e-09\n",
            "Epoch 25/50\n",
            "173/173 [==============================] - 57s 329ms/step - loss: 0.3491 - acc: 0.8389 - val_loss: 0.5231 - val_acc: 0.7587 - lr: 1.0000e-09\n",
            "Epoch 26/50\n",
            "173/173 [==============================] - ETA: 0s - loss: 0.3545 - acc: 0.8407\n",
            "Epoch 00026: ReduceLROnPlateau reducing learning rate to 1.000000082740371e-10.\n",
            "173/173 [==============================] - 57s 330ms/step - loss: 0.3545 - acc: 0.8407 - val_loss: 0.5231 - val_acc: 0.7587 - lr: 1.0000e-09\n",
            "Epoch 27/50\n",
            "173/173 [==============================] - 57s 328ms/step - loss: 0.3528 - acc: 0.8363 - val_loss: 0.5231 - val_acc: 0.7587 - lr: 1.0000e-10\n",
            "Epoch 28/50\n",
            "173/173 [==============================] - 57s 330ms/step - loss: 0.3481 - acc: 0.8389 - val_loss: 0.5231 - val_acc: 0.7587 - lr: 1.0000e-10\n",
            "Epoch 29/50\n",
            "173/173 [==============================] - ETA: 0s - loss: 0.3463 - acc: 0.8409\n",
            "Epoch 00029: ReduceLROnPlateau reducing learning rate to 1.000000082740371e-11.\n",
            "173/173 [==============================] - 57s 327ms/step - loss: 0.3463 - acc: 0.8409 - val_loss: 0.5231 - val_acc: 0.7587 - lr: 1.0000e-10\n",
            "Epoch 30/50\n",
            "173/173 [==============================] - 56s 322ms/step - loss: 0.3449 - acc: 0.8443 - val_loss: 0.5231 - val_acc: 0.7587 - lr: 1.0000e-11\n",
            "Epoch 31/50\n",
            "173/173 [==============================] - 56s 323ms/step - loss: 0.3508 - acc: 0.8369 - val_loss: 0.5231 - val_acc: 0.7587 - lr: 1.0000e-11\n",
            "Epoch 32/50\n",
            "173/173 [==============================] - ETA: 0s - loss: 0.3526 - acc: 0.8414\n",
            "Epoch 00032: ReduceLROnPlateau reducing learning rate to 1.000000082740371e-12.\n",
            "173/173 [==============================] - 56s 324ms/step - loss: 0.3526 - acc: 0.8414 - val_loss: 0.5231 - val_acc: 0.7587 - lr: 1.0000e-11\n",
            "Epoch 33/50\n",
            "173/173 [==============================] - 56s 324ms/step - loss: 0.3514 - acc: 0.8421 - val_loss: 0.5231 - val_acc: 0.7587 - lr: 1.0000e-12\n",
            "Epoch 34/50\n",
            "173/173 [==============================] - 56s 324ms/step - loss: 0.3496 - acc: 0.8421 - val_loss: 0.5231 - val_acc: 0.7587 - lr: 1.0000e-12\n",
            "Epoch 35/50\n",
            "173/173 [==============================] - ETA: 0s - loss: 0.3490 - acc: 0.8363\n",
            "Epoch 00035: ReduceLROnPlateau reducing learning rate to 1.0000001044244145e-13.\n",
            "173/173 [==============================] - 56s 326ms/step - loss: 0.3490 - acc: 0.8363 - val_loss: 0.5231 - val_acc: 0.7587 - lr: 1.0000e-12\n",
            "Epoch 36/50\n",
            "173/173 [==============================] - 60s 347ms/step - loss: 0.3499 - acc: 0.8389 - val_loss: 0.5231 - val_acc: 0.7587 - lr: 1.0000e-13\n",
            "Epoch 37/50\n",
            "173/173 [==============================] - 57s 331ms/step - loss: 0.3499 - acc: 0.8347 - val_loss: 0.5231 - val_acc: 0.7587 - lr: 1.0000e-13\n",
            "Epoch 38/50\n",
            "173/173 [==============================] - ETA: 0s - loss: 0.3468 - acc: 0.8396\n",
            "Epoch 00038: ReduceLROnPlateau reducing learning rate to 1.0000001179769417e-14.\n",
            "173/173 [==============================] - 56s 324ms/step - loss: 0.3468 - acc: 0.8396 - val_loss: 0.5231 - val_acc: 0.7587 - lr: 1.0000e-13\n",
            "Epoch 39/50\n",
            "173/173 [==============================] - 56s 326ms/step - loss: 0.3503 - acc: 0.8405 - val_loss: 0.5231 - val_acc: 0.7587 - lr: 1.0000e-14\n",
            "Epoch 40/50\n",
            "173/173 [==============================] - 56s 325ms/step - loss: 0.3477 - acc: 0.8423 - val_loss: 0.5231 - val_acc: 0.7587 - lr: 1.0000e-14\n",
            "Epoch 41/50\n",
            "173/173 [==============================] - ETA: 0s - loss: 0.3504 - acc: 0.8372\n",
            "Epoch 00041: ReduceLROnPlateau reducing learning rate to 1.0000001518582595e-15.\n",
            "173/173 [==============================] - 56s 324ms/step - loss: 0.3504 - acc: 0.8372 - val_loss: 0.5231 - val_acc: 0.7587 - lr: 1.0000e-14\n",
            "Epoch 42/50\n",
            "173/173 [==============================] - 56s 324ms/step - loss: 0.3478 - acc: 0.8398 - val_loss: 0.5231 - val_acc: 0.7587 - lr: 1.0000e-15\n",
            "Epoch 43/50\n",
            "173/173 [==============================] - 56s 324ms/step - loss: 0.3487 - acc: 0.8396 - val_loss: 0.5231 - val_acc: 0.7587 - lr: 1.0000e-15\n",
            "Epoch 44/50\n",
            "173/173 [==============================] - ETA: 0s - loss: 0.3521 - acc: 0.8380\n",
            "Epoch 00044: ReduceLROnPlateau reducing learning rate to 1.0000001095066122e-16.\n",
            "173/173 [==============================] - 56s 325ms/step - loss: 0.3521 - acc: 0.8380 - val_loss: 0.5231 - val_acc: 0.7587 - lr: 1.0000e-15\n",
            "Epoch 45/50\n",
            "173/173 [==============================] - 57s 329ms/step - loss: 0.3477 - acc: 0.8394 - val_loss: 0.5231 - val_acc: 0.7587 - lr: 1.0000e-16\n",
            "Epoch 46/50\n",
            "173/173 [==============================] - 57s 330ms/step - loss: 0.3506 - acc: 0.8349 - val_loss: 0.5231 - val_acc: 0.7587 - lr: 1.0000e-16\n",
            "Epoch 47/50\n",
            "173/173 [==============================] - ETA: 0s - loss: 0.3461 - acc: 0.8389\n",
            "Epoch 00047: ReduceLROnPlateau reducing learning rate to 1.0000000830368326e-17.\n",
            "173/173 [==============================] - 57s 328ms/step - loss: 0.3461 - acc: 0.8389 - val_loss: 0.5231 - val_acc: 0.7587 - lr: 1.0000e-16\n",
            "Epoch 48/50\n",
            "173/173 [==============================] - 56s 324ms/step - loss: 0.3504 - acc: 0.8378 - val_loss: 0.5231 - val_acc: 0.7587 - lr: 1.0000e-17\n",
            "Epoch 49/50\n",
            "173/173 [==============================] - 56s 326ms/step - loss: 0.3498 - acc: 0.8365 - val_loss: 0.5231 - val_acc: 0.7587 - lr: 1.0000e-17\n",
            "Epoch 50/50\n",
            "173/173 [==============================] - ETA: 0s - loss: 0.3545 - acc: 0.8372\n",
            "Epoch 00050: ReduceLROnPlateau reducing learning rate to 1.0000000664932204e-18.\n",
            "173/173 [==============================] - 56s 325ms/step - loss: 0.3545 - acc: 0.8372 - val_loss: 0.5231 - val_acc: 0.7587 - lr: 1.0000e-17\n"
          ]
        }
      ]
    },
    {
      "cell_type": "code",
      "source": [
        "# save model to local onnx file\n",
        "onnx_model6 = model_to_onnx(model6, framework='keras',\n",
        "                          transfer_learning=True,\n",
        "                          deep_learning=True)\n",
        "\n",
        "with open(\"model6.onnx\", \"wb\") as f:\n",
        "    f.write(onnx_model6.SerializeToString())"
      ],
      "metadata": {
        "id": "XYY3wgpf5_Vv"
      },
      "execution_count": 55,
      "outputs": []
    },
    {
      "cell_type": "code",
      "source": [
        "from google.colab import files\n",
        "files.download('model6.onnx') "
      ],
      "metadata": {
        "colab": {
          "base_uri": "https://localhost:8080/",
          "height": 17
        },
        "id": "6FvrQJv0_hAY",
        "outputId": "86c1cba5-4eb5-4a78-aba1-0b43271abddc"
      },
      "execution_count": 56,
      "outputs": [
        {
          "output_type": "display_data",
          "data": {
            "text/plain": [
              "<IPython.core.display.Javascript object>"
            ],
            "application/javascript": [
              "\n",
              "    async function download(id, filename, size) {\n",
              "      if (!google.colab.kernel.accessAllowed) {\n",
              "        return;\n",
              "      }\n",
              "      const div = document.createElement('div');\n",
              "      const label = document.createElement('label');\n",
              "      label.textContent = `Downloading \"${filename}\": `;\n",
              "      div.appendChild(label);\n",
              "      const progress = document.createElement('progress');\n",
              "      progress.max = size;\n",
              "      div.appendChild(progress);\n",
              "      document.body.appendChild(div);\n",
              "\n",
              "      const buffers = [];\n",
              "      let downloaded = 0;\n",
              "\n",
              "      const channel = await google.colab.kernel.comms.open(id);\n",
              "      // Send a message to notify the kernel that we're ready.\n",
              "      channel.send({})\n",
              "\n",
              "      for await (const message of channel.messages) {\n",
              "        // Send a message to notify the kernel that we're ready.\n",
              "        channel.send({})\n",
              "        if (message.buffers) {\n",
              "          for (const buffer of message.buffers) {\n",
              "            buffers.push(buffer);\n",
              "            downloaded += buffer.byteLength;\n",
              "            progress.value = downloaded;\n",
              "          }\n",
              "        }\n",
              "      }\n",
              "      const blob = new Blob(buffers, {type: 'application/binary'});\n",
              "      const a = document.createElement('a');\n",
              "      a.href = window.URL.createObjectURL(blob);\n",
              "      a.download = filename;\n",
              "      div.appendChild(a);\n",
              "      a.click();\n",
              "      div.remove();\n",
              "    }\n",
              "  "
            ]
          },
          "metadata": {}
        },
        {
          "output_type": "display_data",
          "data": {
            "text/plain": [
              "<IPython.core.display.Javascript object>"
            ],
            "application/javascript": [
              "download(\"download_8cec86aa-9e1f-4165-9d06-18a9a3c570c9\", \"model6.onnx\", 17090049)"
            ]
          },
          "metadata": {}
        }
      ]
    },
    {
      "cell_type": "code",
      "source": [
        "# generate predicted y values from model6\n",
        "prediction_column_index6 = model6.predict(preprocessor(X_test)).argmax(axis=1)\n",
        "\n",
        "# extract correct prediction labels \n",
        "prediction_labels6 = [y_train.columns[i] for i in prediction_column_index6]\n",
        "\n",
        "# Submit model2 to leaderboard\n",
        "mycompetition.submit_model(model_filepath = \"model6.onnx\",\n",
        "                                 preprocessor_filepath=\"preprocessor.zip\",\n",
        "                                 prediction_submission=prediction_labels6)"
      ],
      "metadata": {
        "colab": {
          "base_uri": "https://localhost:8080/"
        },
        "id": "ICWmXwMa6HWV",
        "outputId": "070d3de9-8beb-4f86-d65d-e7b43bbeca63"
      },
      "execution_count": 57,
      "outputs": [
        {
          "output_type": "stream",
          "name": "stdout",
          "text": [
            "57/57 [==============================] - 5s 46ms/step\n",
            "Insert search tags to help users find your model (optional): \n",
            "Provide any useful notes about your model (optional): \n",
            "\n",
            "Your model has been submitted as model version 288\n",
            "\n",
            "To submit code used to create this model or to view current leaderboard navigate to Model Playground: \n",
            "\n",
            " https://www.modelshare.org/detail/model:2763\n"
          ]
        }
      ]
    },
    {
      "cell_type": "markdown",
      "source": [
        "### Model 6 Performance\n",
        "\n",
        "As can be seen from the image below, wrapping the LSTM layers in Bidirectional() calls and implementing dropouts did indeed improve model performance - although only marginally. Considering that this model took substantially more time to train than the stacked LSTM model with glove embeddings, the added value of the bidirectional model and dropouts is debatable."
      ],
      "metadata": {
        "id": "DotJPO0R6R00"
      }
    },
    {
      "cell_type": "markdown",
      "source": [
        "![image.png](data:image/png;base64,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)"
      ],
      "metadata": {
        "id": "D1xIrOKs6UIR"
      }
    },
    {
      "cell_type": "markdown",
      "source": [
        "## Conclusion\n",
        "\n",
        "In this notebook I explored how LSTM and Conv1D models could be used to conduct sentiment analysis on the classic Stanford SST dataset. While my most complex model (bidirectional stacked LSTM with dropout and glove embeddings) performed the best, it provided only a marginal improvement over a simple baseline model with only one LSTM layer, and which did not use pre-trained embedding weights. Interestingly, the use of glove embeddings did not appear to improve the performance of a Conv1D model, though this could potentialy be attributed to model overfitting. To further improve model performance in further experimentation, more granular hyperparameter tuning could be explored."
      ],
      "metadata": {
        "id": "GxX1cevj6Uxc"
      }
    }
  ]
}
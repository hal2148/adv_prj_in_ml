{
  "cells": [
    {
      "cell_type": "markdown",
      "metadata": {
        "id": "ZQyA28VDTs0L"
      },
      "source": [
        "# Predicting COVID using X-Ray Imagery\n",
        "### Alexander Leung"
      ]
    },
    {
      "cell_type": "markdown",
      "metadata": {
        "id": "FhWgvxbra5AC"
      },
      "source": [
        "## Introduction\n",
        "\n",
        "In this notebook, I seek to use explore how deep learning models can be used to help identify positive COVID tests. To do this, I will be using data from a 2020 [paper](https://arxiv.org/abs/2003.13145) by Chowdhury et al.\n",
        "\n",
        "The dataset contains 15,153 labeled X-ray images in total - 3,616 are of patients with COVID-19, 10,192 of patients with 'normal' health, and 1,345 of patients with pneumonia. Since the observations are imbalanced, I will be training models on a subset of the data - 1,345 observations of each category.\n",
        "\n",
        "There is clearly utility in exploring the use of deep learning models for identifying COVID-19 infections. Firstly, if deep learning models can successfuly identify when an individual is infected with COVID-19, then such models can be used as an effective (and perhaps, more reliable) alternative to existing methods of diagnosing the illness. Secondly, if deep learning models can successfully differentiate between COVID-19 and other respiratory diseases (such as pneumonia) using only X-ray images, then this could be useful for medical professionals when diagnosing patients. In short, such models can help to improve healthcare outcomes by speeding up the accurate delivery of treatment to sick individuals.\n",
        "\n",
        "As this exercise is also part of a class activity, I will also be submitting the models produced to a competition hosted on the AI ModelShare platform."
      ]
    },
    {
      "cell_type": "markdown",
      "metadata": {
        "id": "UERqP8ebUIF7"
      },
      "source": [
        "*The data used in this notebooks comes from:*  \n",
        "  \n",
        "M.E.H. Chowdhury, T. Rahman, A. Khandakar, R. Mazhar, M.A. Kadir, Z.B. Mahbub, K.R. Islam, M.S. Khan, A. Iqbal, N. Al-Emadi, M.B.I. Reaz, “Can AI help in screening Viral and COVID-19 pneumonia?” arXiv preprint, 29 March 2020, https://arxiv.org/abs/2003.13145"
      ]
    },
    {
      "cell_type": "markdown",
      "metadata": {
        "id": "UZsoGuhMUbgB"
      },
      "source": [
        "## Set-Up"
      ]
    },
    {
      "cell_type": "markdown",
      "metadata": {
        "id": "1RaKZQSWyzZ9"
      },
      "source": [
        "### AI ModelShare"
      ]
    },
    {
      "cell_type": "code",
      "execution_count": null,
      "metadata": {
        "colab": {
          "base_uri": "https://localhost:8080/",
          "height": 1000
        },
        "id": "9HI40H4Iyyhr",
        "outputId": "c493a52b-1285-4d78-8aa4-ae2b271f466c"
      },
      "outputs": [],
      "source": [
        "! pip install aimodelshare --upgrade"
      ]
    },
    {
      "cell_type": "code",
      "execution_count": null,
      "metadata": {
        "colab": {
          "base_uri": "https://localhost:8080/"
        },
        "id": "G0kTIVJRy9Dz",
        "outputId": "85620dea-5d30-4683-a451-2d00ec12bf3d"
      },
      "outputs": [],
      "source": [
        "apiurl='https://bb4mkgq8sb.execute-api.us-east-2.amazonaws.com/prod/m'\n",
        "\n",
        "import aimodelshare as ai\n",
        "experiment= ai.Experiment(apiurl)\n",
        "\n",
        "from aimodelshare.aws import set_credentials\n",
        "set_credentials(apiurl=apiurl)"
      ]
    },
    {
      "cell_type": "markdown",
      "metadata": {
        "id": "AuOeY979x2CF"
      },
      "source": [
        "### Import and Train-Test-Split Data"
      ]
    },
    {
      "cell_type": "code",
      "execution_count": null,
      "metadata": {
        "colab": {
          "base_uri": "https://localhost:8080/"
        },
        "id": "wLGam2p5TpMS",
        "outputId": "f3919a24-9fa9-4894-a6b2-442985ed5101"
      },
      "outputs": [
        {
          "name": "stdout",
          "output_type": "stream",
          "text": [
            "Mounted at /content/drive\n"
          ]
        }
      ],
      "source": [
        "# connect to google drive\n",
        "import os\n",
        "from google.colab import drive\n",
        "drive.mount('/content/drive')"
      ]
    },
    {
      "cell_type": "code",
      "execution_count": null,
      "metadata": {
        "colab": {
          "base_uri": "https://localhost:8080/"
        },
        "id": "kz9eulPZUpbd",
        "outputId": "94523e77-c238-471f-fa95-449d21b02471"
      },
      "outputs": [],
      "source": [
        "# import and unzip data\n",
        "!unzip /content/drive/MyDrive/Colab\\ Notebooks/COVID-19_Radiography_Dataset.zip"
      ]
    },
    {
      "cell_type": "code",
      "execution_count": null,
      "metadata": {
        "colab": {
          "base_uri": "https://localhost:8080/"
        },
        "id": "lkIioNhwVJ-u",
        "outputId": "eadca309-3591-40ab-9308-d3328b0bd78b"
      },
      "outputs": [],
      "source": [
        "# Extracting all filenames iteratively\n",
        "base_path = 'COVID-19_Radiography_Dataset'\n",
        "categories = ['COVID/images', 'Normal/images', 'Viral Pneumonia/images']\n",
        "\n",
        "# load file names to fnames list object\n",
        "fnames = []\n",
        "for category in categories:\n",
        "    image_folder = os.path.join(base_path, category)\n",
        "    file_names = os.listdir(image_folder)\n",
        "    full_path = [os.path.join(image_folder, file_name) for file_name in file_names]\n",
        "    fnames.append(full_path)\n",
        "\n",
        "print('number of images for each category:', [len(f) for f in fnames])"
      ]
    },
    {
      "cell_type": "code",
      "execution_count": null,
      "metadata": {
        "id": "NBLTRj4jVWey"
      },
      "outputs": [],
      "source": [
        "# Imbalanced data - reduce number of images to first 1345 for each category\n",
        "fnames[0]=fnames[0][0:1344]\n",
        "fnames[1]=fnames[1][0:1344]\n",
        "fnames[2]=fnames[2][0:1344]"
      ]
    },
    {
      "cell_type": "code",
      "execution_count": null,
      "metadata": {
        "id": "tv9sCkieVykH"
      },
      "outputs": [],
      "source": [
        "# Import image, load to array of shape height, width, channels, then min/max transform.\n",
        "# Write preprocessor that will match up with model's expected input shape.\n",
        "from keras.preprocessing import image\n",
        "import numpy as np\n",
        "from PIL import Image\n",
        "\n",
        "def preprocessor(img_path):\n",
        "        img = Image.open(img_path).convert(\"RGB\").resize((192,192)) # import image, make sure it's RGB and resize to height and width you want.\n",
        "        img = (np.float32(img)-1.)/(255-1.) # min max transformation\n",
        "        img=img.reshape((192,192,3)) # Create final shape as array with correct dimensions for Keras\n",
        "        return img"
      ]
    },
    {
      "cell_type": "code",
      "execution_count": null,
      "metadata": {
        "colab": {
          "base_uri": "https://localhost:8080/"
        },
        "id": "Lyr1xQ1m2K5t",
        "outputId": "db28db6c-18b8-4d94-a435-134dfee48d08"
      },
      "outputs": [
        {
          "name": "stdout",
          "output_type": "stream",
          "text": [
            "Your preprocessor is now saved to 'preprocessor.zip'\n"
          ]
        }
      ],
      "source": [
        "# Save preprocessor function\n",
        "import aimodelshare as ai\n",
        "ai.export_preprocessor(preprocessor,\"\")"
      ]
    },
    {
      "cell_type": "code",
      "execution_count": null,
      "metadata": {
        "id": "8jm-4MD0WIib"
      },
      "outputs": [],
      "source": [
        "#Import image files iteratively and preprocess them into array of correctly structured data\n",
        "\n",
        "# Create list of file paths\n",
        "image_filepaths=fnames[0]+fnames[1]+fnames[2]\n",
        "\n",
        "# Iteratively import and preprocess data using map function\n",
        "preprocessed_image_data=list(map(preprocessor,image_filepaths ))\n",
        "\n",
        "# Convert preprocessed image data to an array rather than a list for Keras\n",
        "X = np.array(preprocessed_image_data)"
      ]
    },
    {
      "cell_type": "code",
      "execution_count": null,
      "metadata": {
        "colab": {
          "base_uri": "https://localhost:8080/",
          "height": 458
        },
        "id": "rPKdKc3sW2dY",
        "outputId": "68bff7c0-5afd-4a68-cc31-97013aeff442"
      },
      "outputs": [
        {
          "name": "stdout",
          "output_type": "stream",
          "text": [
            "number of images for each category: [1344, 1344, 1344]\n",
            "4032\n"
          ]
        },
        {
          "data": {
            "text/html": [
              "\n",
              "  <div id=\"df-8ef3baab-84f7-45f2-b775-e2c18ea7decb\">\n",
              "    <div class=\"colab-df-container\">\n",
              "      <div>\n",
              "<style scoped>\n",
              "    .dataframe tbody tr th:only-of-type {\n",
              "        vertical-align: middle;\n",
              "    }\n",
              "\n",
              "    .dataframe tbody tr th {\n",
              "        vertical-align: top;\n",
              "    }\n",
              "\n",
              "    .dataframe thead th {\n",
              "        text-align: right;\n",
              "    }\n",
              "</style>\n",
              "<table border=\"1\" class=\"dataframe\">\n",
              "  <thead>\n",
              "    <tr style=\"text-align: right;\">\n",
              "      <th></th>\n",
              "      <th>COVID</th>\n",
              "      <th>NORMAL</th>\n",
              "      <th>PNEUMONIA</th>\n",
              "    </tr>\n",
              "  </thead>\n",
              "  <tbody>\n",
              "    <tr>\n",
              "      <th>0</th>\n",
              "      <td>1</td>\n",
              "      <td>0</td>\n",
              "      <td>0</td>\n",
              "    </tr>\n",
              "    <tr>\n",
              "      <th>1</th>\n",
              "      <td>1</td>\n",
              "      <td>0</td>\n",
              "      <td>0</td>\n",
              "    </tr>\n",
              "    <tr>\n",
              "      <th>2</th>\n",
              "      <td>1</td>\n",
              "      <td>0</td>\n",
              "      <td>0</td>\n",
              "    </tr>\n",
              "    <tr>\n",
              "      <th>3</th>\n",
              "      <td>1</td>\n",
              "      <td>0</td>\n",
              "      <td>0</td>\n",
              "    </tr>\n",
              "    <tr>\n",
              "      <th>4</th>\n",
              "      <td>1</td>\n",
              "      <td>0</td>\n",
              "      <td>0</td>\n",
              "    </tr>\n",
              "    <tr>\n",
              "      <th>...</th>\n",
              "      <td>...</td>\n",
              "      <td>...</td>\n",
              "      <td>...</td>\n",
              "    </tr>\n",
              "    <tr>\n",
              "      <th>4027</th>\n",
              "      <td>0</td>\n",
              "      <td>0</td>\n",
              "      <td>1</td>\n",
              "    </tr>\n",
              "    <tr>\n",
              "      <th>4028</th>\n",
              "      <td>0</td>\n",
              "      <td>0</td>\n",
              "      <td>1</td>\n",
              "    </tr>\n",
              "    <tr>\n",
              "      <th>4029</th>\n",
              "      <td>0</td>\n",
              "      <td>0</td>\n",
              "      <td>1</td>\n",
              "    </tr>\n",
              "    <tr>\n",
              "      <th>4030</th>\n",
              "      <td>0</td>\n",
              "      <td>0</td>\n",
              "      <td>1</td>\n",
              "    </tr>\n",
              "    <tr>\n",
              "      <th>4031</th>\n",
              "      <td>0</td>\n",
              "      <td>0</td>\n",
              "      <td>1</td>\n",
              "    </tr>\n",
              "  </tbody>\n",
              "</table>\n",
              "<p>4032 rows × 3 columns</p>\n",
              "</div>\n",
              "      <button class=\"colab-df-convert\" onclick=\"convertToInteractive('df-8ef3baab-84f7-45f2-b775-e2c18ea7decb')\"\n",
              "              title=\"Convert this dataframe to an interactive table.\"\n",
              "              style=\"display:none;\">\n",
              "        \n",
              "  <svg xmlns=\"http://www.w3.org/2000/svg\" height=\"24px\"viewBox=\"0 0 24 24\"\n",
              "       width=\"24px\">\n",
              "    <path d=\"M0 0h24v24H0V0z\" fill=\"none\"/>\n",
              "    <path d=\"M18.56 5.44l.94 2.06.94-2.06 2.06-.94-2.06-.94-.94-2.06-.94 2.06-2.06.94zm-11 1L8.5 8.5l.94-2.06 2.06-.94-2.06-.94L8.5 2.5l-.94 2.06-2.06.94zm10 10l.94 2.06.94-2.06 2.06-.94-2.06-.94-.94-2.06-.94 2.06-2.06.94z\"/><path d=\"M17.41 7.96l-1.37-1.37c-.4-.4-.92-.59-1.43-.59-.52 0-1.04.2-1.43.59L10.3 9.45l-7.72 7.72c-.78.78-.78 2.05 0 2.83L4 21.41c.39.39.9.59 1.41.59.51 0 1.02-.2 1.41-.59l7.78-7.78 2.81-2.81c.8-.78.8-2.07 0-2.86zM5.41 20L4 18.59l7.72-7.72 1.47 1.35L5.41 20z\"/>\n",
              "  </svg>\n",
              "      </button>\n",
              "      \n",
              "  <style>\n",
              "    .colab-df-container {\n",
              "      display:flex;\n",
              "      flex-wrap:wrap;\n",
              "      gap: 12px;\n",
              "    }\n",
              "\n",
              "    .colab-df-convert {\n",
              "      background-color: #E8F0FE;\n",
              "      border: none;\n",
              "      border-radius: 50%;\n",
              "      cursor: pointer;\n",
              "      display: none;\n",
              "      fill: #1967D2;\n",
              "      height: 32px;\n",
              "      padding: 0 0 0 0;\n",
              "      width: 32px;\n",
              "    }\n",
              "\n",
              "    .colab-df-convert:hover {\n",
              "      background-color: #E2EBFA;\n",
              "      box-shadow: 0px 1px 2px rgba(60, 64, 67, 0.3), 0px 1px 3px 1px rgba(60, 64, 67, 0.15);\n",
              "      fill: #174EA6;\n",
              "    }\n",
              "\n",
              "    [theme=dark] .colab-df-convert {\n",
              "      background-color: #3B4455;\n",
              "      fill: #D2E3FC;\n",
              "    }\n",
              "\n",
              "    [theme=dark] .colab-df-convert:hover {\n",
              "      background-color: #434B5C;\n",
              "      box-shadow: 0px 1px 3px 1px rgba(0, 0, 0, 0.15);\n",
              "      filter: drop-shadow(0px 1px 2px rgba(0, 0, 0, 0.3));\n",
              "      fill: #FFFFFF;\n",
              "    }\n",
              "  </style>\n",
              "\n",
              "      <script>\n",
              "        const buttonEl =\n",
              "          document.querySelector('#df-8ef3baab-84f7-45f2-b775-e2c18ea7decb button.colab-df-convert');\n",
              "        buttonEl.style.display =\n",
              "          google.colab.kernel.accessAllowed ? 'block' : 'none';\n",
              "\n",
              "        async function convertToInteractive(key) {\n",
              "          const element = document.querySelector('#df-8ef3baab-84f7-45f2-b775-e2c18ea7decb');\n",
              "          const dataTable =\n",
              "            await google.colab.kernel.invokeFunction('convertToInteractive',\n",
              "                                                     [key], {});\n",
              "          if (!dataTable) return;\n",
              "\n",
              "          const docLinkHtml = 'Like what you see? Visit the ' +\n",
              "            '<a target=\"_blank\" href=https://colab.research.google.com/notebooks/data_table.ipynb>data table notebook</a>'\n",
              "            + ' to learn more about interactive tables.';\n",
              "          element.innerHTML = '';\n",
              "          dataTable['output_type'] = 'display_data';\n",
              "          await google.colab.output.renderOutput(dataTable, element);\n",
              "          const docLink = document.createElement('div');\n",
              "          docLink.innerHTML = docLinkHtml;\n",
              "          element.appendChild(docLink);\n",
              "        }\n",
              "      </script>\n",
              "    </div>\n",
              "  </div>\n",
              "  "
            ],
            "text/plain": [
              "      COVID  NORMAL  PNEUMONIA\n",
              "0         1       0          0\n",
              "1         1       0          0\n",
              "2         1       0          0\n",
              "3         1       0          0\n",
              "4         1       0          0\n",
              "...     ...     ...        ...\n",
              "4027      0       0          1\n",
              "4028      0       0          1\n",
              "4029      0       0          1\n",
              "4030      0       0          1\n",
              "4031      0       0          1\n",
              "\n",
              "[4032 rows x 3 columns]"
            ]
          },
          "metadata": {},
          "output_type": "display_data"
        }
      ],
      "source": [
        "# Create y data made up of correctly ordered labels from file folders\n",
        "from itertools import repeat\n",
        "\n",
        "print('number of images for each category:', [len(f) for f in fnames])\n",
        "covid=list(repeat(\"COVID\", 1344))\n",
        "normal=list(repeat(\"NORMAL\", 1344))\n",
        "pneumonia=list(repeat(\"PNEUMONIA\", 1344))\n",
        "\n",
        "#combine into single list of y labels\n",
        "y_labels = covid+normal+pneumonia\n",
        "\n",
        "#check length, same as X above\n",
        "print(len(y_labels) )\n",
        "\n",
        "# Use pandas to ohe for keras\n",
        "import pandas as pd\n",
        "y=pd.get_dummies(y_labels)\n",
        "\n",
        "display(y)"
      ]
    },
    {
      "cell_type": "code",
      "execution_count": null,
      "metadata": {
        "colab": {
          "base_uri": "https://localhost:8080/"
        },
        "id": "ByI4q9d8dXde",
        "outputId": "4276c8db-475c-4c08-abf3-b949eceb21c0"
      },
      "outputs": [
        {
          "data": {
            "text/plain": [
              "((2741, 192, 192, 3), (2741, 3), (1291, 192, 192, 3), (1291, 3))"
            ]
          },
          "execution_count": 8,
          "metadata": {},
          "output_type": "execute_result"
        }
      ],
      "source": [
        "# Train test split resized images\n",
        "\n",
        "from sklearn.model_selection import train_test_split\n",
        "\n",
        "X_train, X_test, y_train, y_test = train_test_split(X, y, stratify = y, test_size = 0.32, random_state = 1987)\n",
        "\n",
        "X_train.shape, y_train.shape, X_test.shape, y_test.shape"
      ]
    },
    {
      "cell_type": "code",
      "execution_count": null,
      "metadata": {
        "id": "dhMN8GI9dqge"
      },
      "outputs": [],
      "source": [
        "#Clear objects from memory\n",
        "del(X)\n",
        "del(y)\n",
        "del(preprocessed_image_data)"
      ]
    },
    {
      "cell_type": "code",
      "execution_count": null,
      "metadata": {
        "id": "YIzly7BDdt5z"
      },
      "outputs": [],
      "source": [
        "#Save data to be able to reload quickly if memory crashes or if runtime restarts\n",
        "import pickle\n",
        "\n",
        "# Open files and use dump()\n",
        "with open('X_train.pkl', 'wb') as file:\n",
        "    pickle.dump(X_train, file)\n",
        "\n",
        "with open('X_test.pkl', 'wb') as file:\n",
        "    pickle.dump(X_test, file)\n",
        "\n",
        "with open('y_train.pkl', 'wb') as file:\n",
        "    pickle.dump(y_train, file)\n",
        "\n",
        "with open('y_test.pkl', 'wb') as file:\n",
        "    pickle.dump(y_test, file)"
      ]
    },
    {
      "cell_type": "markdown",
      "metadata": {
        "id": "pGU_eOLsX4SV"
      },
      "source": [
        "## Visualize Data\n",
        "\n",
        "First, we can look at X-Ray images that correspond to COVID positivity, and images that do not. The first four images correspond to COVID positivity, the second four 'normal' status, and the last four pneumonia. As can be seen below, it is hard to tell the images apart with the naked eye."
      ]
    },
    {
      "cell_type": "code",
      "execution_count": null,
      "metadata": {
        "colab": {
          "base_uri": "https://localhost:8080/",
          "height": 935
        },
        "id": "gW7odi17YNrA",
        "outputId": "eba1209c-51a4-43b8-a664-ef3958a171a9"
      },
      "outputs": [
        {
          "data": {
            "image/png": "[encoded data removed]",
            "text/plain": [
              "<Figure size 360x360 with 8 Axes>"
            ]
          },
          "metadata": {
            "needs_background": "light"
          },
          "output_type": "display_data"
        },
        {
          "data": {
            "image/png": "[encoded data removed]",
            "text/plain": [
              "<Figure size 360x360 with 8 Axes>"
            ]
          },
          "metadata": {
            "needs_background": "light"
          },
          "output_type": "display_data"
        },
        {
          "data": {
            "image/png": "[encoded data removed]",
            "text/plain": [
              "<Figure size 360x360 with 8 Axes>"
            ]
          },
          "metadata": {
            "needs_background": "light"
          },
          "output_type": "display_data"
        }
      ],
      "source": [
        "import matplotlib.pyplot as plt\n",
        "from mpl_toolkits.axes_grid1 import ImageGrid\n",
        "\n",
        "# visualize images corresponding with covid positivity\n",
        "covid_img1 = preprocessor(fnames[0][0])\n",
        "covid_img2 = preprocessor(fnames[0][1])\n",
        "covid_img3 = preprocessor(fnames[0][2])\n",
        "covid_img4 = preprocessor(fnames[0][3])\n",
        "\n",
        "fig = plt.figure(figsize=(5., 5.))\n",
        "grid = ImageGrid(fig, 111, \n",
        "                 nrows_ncols=(2, 2),\n",
        "                 axes_pad=0.25,\n",
        "                 )\n",
        "\n",
        "for ax, im in zip(grid, [covid_img1, covid_img2, covid_img3, covid_img4]):\n",
        "    ax.imshow((im * 255).astype(np.uint8))\n",
        "plt.show()\n",
        "\n",
        "# visualize images corresponding with 'normal' status\n",
        "normal_img1 = preprocessor(fnames[1][0])\n",
        "normal_img2 = preprocessor(fnames[1][1])\n",
        "normal_img3 = preprocessor(fnames[1][2])\n",
        "normal_img4 = preprocessor(fnames[1][3])\n",
        "\n",
        "fig = plt.figure(figsize=(5., 5.))\n",
        "grid = ImageGrid(fig, 111, \n",
        "                 nrows_ncols=(2, 2),\n",
        "                 axes_pad=0.25,\n",
        "                 )\n",
        "\n",
        "for ax, im in zip(grid, [normal_img1, normal_img2, normal_img3, normal_img4]):\n",
        "    ax.imshow((im * 255).astype(np.uint8))\n",
        "plt.show()\n",
        "\n",
        "# visualize images corresponding with pneumonia\n",
        "pneumonia_img1 = preprocessor(fnames[2][0])\n",
        "pneumonia_img2 = preprocessor(fnames[2][1])\n",
        "pneumonia_img3 = preprocessor(fnames[2][2])\n",
        "pneumonia_img4 = preprocessor(fnames[2][3])\n",
        "\n",
        "fig = plt.figure(figsize=(5., 5.))\n",
        "grid = ImageGrid(fig, 111, \n",
        "                 nrows_ncols=(2, 2),\n",
        "                 axes_pad=0.25,\n",
        "                 )\n",
        "\n",
        "for ax, im in zip(grid, [pneumonia_img1, pneumonia_img2, pneumonia_img3, pneumonia_img4]):\n",
        "    ax.imshow((im * 255).astype(np.uint8))\n",
        "plt.show()"
      ]
    },
    {
      "cell_type": "markdown",
      "metadata": {
        "id": "_ArQ5Nxo0d9a"
      },
      "source": [
        "## Model 1 - Fully-Connected Neural Network\n",
        "\n",
        "For my first model, I decided to test how a multi-layer perceptron model would perform on the data. I used a fully-connected neural network with four hidden layers, each with 64 hidden neurons."
      ]
    },
    {
      "cell_type": "code",
      "execution_count": null,
      "metadata": {
        "id": "zFiHsed4xh5O"
      },
      "outputs": [],
      "source": [
        "# code to reload data in case runtime crashes\n",
        "import pickle\n",
        "  \n",
        "# reload X_train and y-train\n",
        "with open('X_train.pkl', 'rb') as file:\n",
        "    X_train = pickle.load(file)\n",
        "\n",
        "with open('y_train.pkl', 'rb') as file:\n",
        "    y_train = pickle.load(file)"
      ]
    },
    {
      "cell_type": "code",
      "execution_count": null,
      "metadata": {
        "colab": {
          "base_uri": "https://localhost:8080/"
        },
        "id": "o2cKZ4mz0zfR",
        "outputId": "5ce80862-6f00-4ec0-af2d-d20610ee6168"
      },
      "outputs": [
        {
          "name": "stdout",
          "output_type": "stream",
          "text": [
            "Epoch 1/15\n",
            "69/69 [==============================] - 17s 170ms/step - loss: 0.8666 - accuracy: 0.6013 - val_loss: 0.6290 - val_accuracy: 0.7231 - lr: 0.0100\n",
            "Epoch 2/15\n",
            "69/69 [==============================] - 11s 157ms/step - loss: 0.5883 - accuracy: 0.7295 - val_loss: 0.5938 - val_accuracy: 0.7122 - lr: 0.0100\n",
            "Epoch 3/15\n",
            "69/69 [==============================] - 11s 158ms/step - loss: 0.5520 - accuracy: 0.7509 - val_loss: 0.6829 - val_accuracy: 0.7177 - lr: 0.0100\n",
            "Epoch 4/15\n",
            "69/69 [==============================] - 11s 159ms/step - loss: 0.4907 - accuracy: 0.7792 - val_loss: 0.4941 - val_accuracy: 0.7887 - lr: 0.0100\n",
            "Epoch 5/15\n",
            "69/69 [==============================] - 11s 157ms/step - loss: 0.4613 - accuracy: 0.7947 - val_loss: 0.6504 - val_accuracy: 0.6995 - lr: 0.0100\n",
            "Epoch 6/15\n",
            "69/69 [==============================] - 11s 158ms/step - loss: 0.4320 - accuracy: 0.8116 - val_loss: 0.4309 - val_accuracy: 0.8270 - lr: 0.0100\n",
            "Epoch 7/15\n",
            "69/69 [==============================] - 11s 157ms/step - loss: 0.3972 - accuracy: 0.8207 - val_loss: 0.5927 - val_accuracy: 0.7541 - lr: 0.0100\n",
            "Epoch 8/15\n",
            "69/69 [==============================] - 11s 157ms/step - loss: 0.3932 - accuracy: 0.8257 - val_loss: 0.5477 - val_accuracy: 0.7705 - lr: 0.0100\n",
            "Epoch 9/15\n",
            "69/69 [==============================] - ETA: 0s - loss: 0.3788 - accuracy: 0.8440\n",
            "Epoch 00009: ReduceLROnPlateau reducing learning rate to 0.0009999999776482583.\n",
            "69/69 [==============================] - 11s 158ms/step - loss: 0.3788 - accuracy: 0.8440 - val_loss: 0.4509 - val_accuracy: 0.8124 - lr: 0.0100\n",
            "Epoch 10/15\n",
            "69/69 [==============================] - 11s 158ms/step - loss: 0.3059 - accuracy: 0.8745 - val_loss: 0.4000 - val_accuracy: 0.8488 - lr: 1.0000e-03\n",
            "Epoch 11/15\n",
            "69/69 [==============================] - 11s 158ms/step - loss: 0.2919 - accuracy: 0.8832 - val_loss: 0.3937 - val_accuracy: 0.8470 - lr: 1.0000e-03\n",
            "Epoch 12/15\n",
            "69/69 [==============================] - 11s 156ms/step - loss: 0.2844 - accuracy: 0.8901 - val_loss: 0.3884 - val_accuracy: 0.8470 - lr: 1.0000e-03\n",
            "Epoch 13/15\n",
            "69/69 [==============================] - 11s 157ms/step - loss: 0.2793 - accuracy: 0.8878 - val_loss: 0.3905 - val_accuracy: 0.8379 - lr: 1.0000e-03\n",
            "Epoch 14/15\n",
            "69/69 [==============================] - 11s 156ms/step - loss: 0.2748 - accuracy: 0.8937 - val_loss: 0.3838 - val_accuracy: 0.8415 - lr: 1.0000e-03\n",
            "Epoch 15/15\n",
            "69/69 [==============================] - 11s 159ms/step - loss: 0.2707 - accuracy: 0.8923 - val_loss: 0.3875 - val_accuracy: 0.8397 - lr: 1.0000e-03\n"
          ]
        }
      ],
      "source": [
        "import tensorflow as tf\n",
        "from tensorflow.keras.models import Sequential\n",
        "from tensorflow.keras.layers import Dense, Activation, Dropout,BatchNormalization,Flatten\n",
        "from tensorflow.keras.optimizers import SGD\n",
        "\n",
        "# set up model 1\n",
        "with tf.device('/device:GPU:0'): #\"/GPU:0\": Short-hand notation for the first GPU of your machine that is visible to TensorFlow.\n",
        "      sgd=SGD(learning_rate=.01)\n",
        "\n",
        "      model1 = Sequential()\n",
        "      model1.add(Dense(64,  input_shape=(192, 192, 3), activation='relu'))\n",
        "      model1.add(Dense(64, activation='relu'))\n",
        "      model1.add(Dense(64, activation='relu'))\n",
        "      model1.add(Dense(64, activation='relu'))\n",
        "      model1.add(Flatten())\n",
        "      model1.add(Dense(3, activation='softmax'))\n",
        "\n",
        "      # instantiate callback function that reduces LR if val_loss does not improve\n",
        "      from tensorflow.python.keras.callbacks import ReduceLROnPlateau\n",
        "      red_lr= ReduceLROnPlateau(monitor='val_loss',patience=3,verbose=1,factor=0.1)\n",
        "                                                  \n",
        "      # Compile model\n",
        "      model1.compile(loss='categorical_crossentropy', optimizer=sgd, metrics=['accuracy'])\n",
        "\n",
        "      # Fitting the NN to the Training set\n",
        "      model1.fit(X_train, y_train, epochs = 15, verbose=1, validation_split=.2, callbacks = red_lr)"
      ]
    },
    {
      "cell_type": "code",
      "execution_count": null,
      "metadata": {
        "id": "L2Gdm0NnxmqG"
      },
      "outputs": [],
      "source": [
        "import pickle\n",
        "\n",
        "# reload X_test and y_test data (if runtime crashes)  \n",
        "with open('X_test.pkl', 'rb') as file:\n",
        "    X_test = pickle.load(file)\n",
        "\n",
        "with open('y_test.pkl', 'rb') as file:\n",
        "    y_test = pickle.load(file)"
      ]
    },
    {
      "cell_type": "code",
      "execution_count": null,
      "metadata": {
        "colab": {
          "base_uri": "https://localhost:8080/"
        },
        "id": "pWGFYdV72mp0",
        "outputId": "5a48eb79-4f7f-4a38-ba24-d9a6f2dc3950"
      },
      "outputs": [
        {
          "name": "stdout",
          "output_type": "stream",
          "text": [
            "11/11 [==============================] - 3s 243ms/step - loss: 0.3339 - accuracy: 0.8575\n",
            "[0.3338662087917328, 0.8574748039245605]\n"
          ]
        }
      ],
      "source": [
        "# evaluate model using test data\n",
        "model1_score = model1.evaluate(X_test, y_test, batch_size = 128)\n",
        "print(model1_score)"
      ]
    },
    {
      "cell_type": "code",
      "execution_count": null,
      "metadata": {
        "id": "QUYuA0JI1bBl"
      },
      "outputs": [],
      "source": [
        "# save model1 as h5 file in case runtime restarts\n",
        "model1.save(\"model1.h5\", save_format=\"h5\")"
      ]
    },
    {
      "cell_type": "code",
      "execution_count": null,
      "metadata": {
        "colab": {
          "base_uri": "https://localhost:8080/"
        },
        "id": "LAEj3zl4OEgU",
        "outputId": "807969be-d815-4edb-f965-44360515b14a"
      },
      "outputs": [],
      "source": [
        "# In case runtime restarts, reload model1\n",
        "import tensorflow as tf\n",
        "\n",
        "from tensorflow.keras.optimizers import SGD\n",
        "sgd=SGD(learning_rate=.01)\n",
        "\n",
        "model1 = tf.keras.models.load_model('model1.h5',compile=False)\n",
        "model1.compile(\n",
        "    optimizer= sgd,\n",
        "    loss= 'categorical_crossentropy',\n",
        "    metrics=['accuracy'])\n",
        "model1.summary()"
      ]
    },
    {
      "cell_type": "code",
      "execution_count": null,
      "metadata": {
        "id": "FDuHS3IW2YMq"
      },
      "outputs": [],
      "source": [
        "# save model1 to local ONNX file\n",
        "from aimodelshare.aimsonnx import model_to_onnx\n",
        "\n",
        "onnx_model1 = model_to_onnx(model1, framework='keras',\n",
        "                          transfer_learning=False,\n",
        "                          deep_learning=True)\n",
        "\n",
        "with open(\"model1.onnx\", \"wb\") as f:\n",
        "    f.write(onnx_model1.SerializeToString())"
      ]
    },
    {
      "cell_type": "code",
      "execution_count": null,
      "metadata": {
        "colab": {
          "base_uri": "https://localhost:8080/"
        },
        "id": "t0zI-22b2vbJ",
        "outputId": "91ce1fc7-5186-4d68-e48e-db85f55cada1"
      },
      "outputs": [
        {
          "name": "stdout",
          "output_type": "stream",
          "text": [
            "41/41 [==============================] - 6s 65ms/step\n"
          ]
        }
      ],
      "source": [
        "#Use X_test data to generate model predictions and make leaderboard submission\n",
        "prediction_column_index1=model1.predict(X_test).argmax(axis=1)\n",
        "\n",
        "# extract correct prediction labels \n",
        "prediction_labels1 = [y_train.columns[i] for i in prediction_column_index1]"
      ]
    },
    {
      "cell_type": "code",
      "execution_count": null,
      "metadata": {
        "colab": {
          "base_uri": "https://localhost:8080/"
        },
        "id": "cptMT2be3NZo",
        "outputId": "a0f3768c-81e8-49a7-b827-b9d14d8c868f"
      },
      "outputs": [
        {
          "name": "stdout",
          "output_type": "stream",
          "text": [
            "Insert search tags to help users find your model (optional): \n",
            "Provide any useful notes about your model (optional): \n",
            "\n",
            "Your model has been submitted as model version 13\n",
            "\n",
            "To submit code used to create this model or to view current leaderboard navigate to Model Playground: \n",
            "\n",
            " https://www.modelshare.org/detail/model:3340\n"
          ]
        }
      ],
      "source": [
        "# Submit model 1 to Competition Leaderboard\n",
        "experiment.submit_model(model_filepath = \"model1.onnx\",\n",
        "                                 preprocessor_filepath=\"preprocessor.zip\",\n",
        "                                 prediction_submission=prediction_labels1)"
      ]
    },
    {
      "cell_type": "markdown",
      "metadata": {
        "id": "eQkGfIYi4MOs"
      },
      "source": [
        "### MLP Performance\n",
        "\n",
        "As can be seen from the test metrics below, the MLP network model performed decently well, correctly classifying 85.75% of test observations. \n",
        "\n",
        "![image.png](data:image/png;base64,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)"
      ]
    },
    {
      "cell_type": "markdown",
      "metadata": {
        "id": "k5-35JC_4Rrw"
      },
      "source": [
        "## Model 2 - Convolutional Neural Network (CNN)\n",
        "\n",
        "Next, I decided to test how a CNN would perform on the data. I used 10 convolutional layers, with filters that gradually increased every two convolutional layers. Max pooling was used every two layers."
      ]
    },
    {
      "cell_type": "code",
      "execution_count": null,
      "metadata": {
        "id": "R3pVJEK99yPQ"
      },
      "outputs": [],
      "source": [
        "# code to reload data in case runtime crashes\n",
        "import pickle\n",
        "  \n",
        "# reload X_train and y-train\n",
        "with open('X_train.pkl', 'rb') as file:\n",
        "    X_train = pickle.load(file)\n",
        "\n",
        "with open('y_train.pkl', 'rb') as file:\n",
        "    y_train = pickle.load(file)"
      ]
    },
    {
      "cell_type": "code",
      "execution_count": null,
      "metadata": {
        "colab": {
          "base_uri": "https://localhost:8080/"
        },
        "id": "Q0JtYcyO4U8D",
        "outputId": "fa1c1818-645f-49ec-f8de-ed8ef5324623"
      },
      "outputs": [
        {
          "name": "stdout",
          "output_type": "stream",
          "text": [
            "Epoch 1/15\n",
            "69/69 [==============================] - 20s 121ms/step - loss: 1.1038 - accuracy: 0.3189 - val_loss: 1.0986 - val_accuracy: 0.3206 - lr: 0.0010\n",
            "Epoch 2/15\n",
            "69/69 [==============================] - 6s 85ms/step - loss: 1.0971 - accuracy: 0.3426 - val_loss: 1.0629 - val_accuracy: 0.6066 - lr: 0.0010\n",
            "Epoch 3/15\n",
            "69/69 [==============================] - 6s 90ms/step - loss: 0.7937 - accuracy: 0.6369 - val_loss: 0.6901 - val_accuracy: 0.7049 - lr: 0.0010\n",
            "Epoch 4/15\n",
            "69/69 [==============================] - 6s 85ms/step - loss: 0.5992 - accuracy: 0.7427 - val_loss: 0.5256 - val_accuracy: 0.7760 - lr: 0.0010\n",
            "Epoch 5/15\n",
            "69/69 [==============================] - 6s 90ms/step - loss: 0.4776 - accuracy: 0.7938 - val_loss: 0.5185 - val_accuracy: 0.7687 - lr: 0.0010\n",
            "Epoch 6/15\n",
            "69/69 [==============================] - 6s 88ms/step - loss: 0.3727 - accuracy: 0.8499 - val_loss: 0.5203 - val_accuracy: 0.8033 - lr: 0.0010\n",
            "Epoch 7/15\n",
            "69/69 [==============================] - 6s 88ms/step - loss: 0.3356 - accuracy: 0.8723 - val_loss: 0.3538 - val_accuracy: 0.8670 - lr: 0.0010\n",
            "Epoch 8/15\n",
            "69/69 [==============================] - 6s 92ms/step - loss: 0.2794 - accuracy: 0.8960 - val_loss: 0.3424 - val_accuracy: 0.8798 - lr: 0.0010\n",
            "Epoch 9/15\n",
            "69/69 [==============================] - 6s 86ms/step - loss: 0.2187 - accuracy: 0.9179 - val_loss: 0.3070 - val_accuracy: 0.8871 - lr: 0.0010\n",
            "Epoch 10/15\n",
            "69/69 [==============================] - 6s 88ms/step - loss: 0.1901 - accuracy: 0.9288 - val_loss: 0.3593 - val_accuracy: 0.8798 - lr: 0.0010\n",
            "Epoch 11/15\n",
            "69/69 [==============================] - 6s 88ms/step - loss: 0.1671 - accuracy: 0.9407 - val_loss: 0.3542 - val_accuracy: 0.8889 - lr: 0.0010\n",
            "Epoch 12/15\n",
            "69/69 [==============================] - ETA: 0s - loss: 0.1201 - accuracy: 0.9599\n",
            "Epoch 00012: ReduceLROnPlateau reducing learning rate to 0.00010000000474974513.\n",
            "69/69 [==============================] - 6s 90ms/step - loss: 0.1201 - accuracy: 0.9599 - val_loss: 0.3241 - val_accuracy: 0.8907 - lr: 0.0010\n",
            "Epoch 13/15\n",
            "69/69 [==============================] - 6s 88ms/step - loss: 0.0616 - accuracy: 0.9808 - val_loss: 0.3105 - val_accuracy: 0.9180 - lr: 1.0000e-04\n",
            "Epoch 14/15\n",
            "69/69 [==============================] - 6s 87ms/step - loss: 0.0377 - accuracy: 0.9913 - val_loss: 0.3322 - val_accuracy: 0.9162 - lr: 1.0000e-04\n",
            "Epoch 15/15\n",
            "68/69 [============================>.] - ETA: 0s - loss: 0.0311 - accuracy: 0.9936\n",
            "Epoch 00015: ReduceLROnPlateau reducing learning rate to 1.0000000474974514e-05.\n",
            "69/69 [==============================] - 6s 89ms/step - loss: 0.0310 - accuracy: 0.9936 - val_loss: 0.3591 - val_accuracy: 0.9144 - lr: 1.0000e-04\n"
          ]
        }
      ],
      "source": [
        "import tensorflow as tf\n",
        "from tensorflow.keras.models import Sequential\n",
        "from tensorflow.keras.layers import Dense, Activation, Dropout,BatchNormalization,Flatten\n",
        "from tensorflow.keras.optimizers import SGD\n",
        "from tensorflow.keras.optimizers import Adam\n",
        "\n",
        "with tf.device('/device:GPU:0'): \n",
        "  \n",
        "  # set learning rate for adam optimizer to 0.01\n",
        "  adam = Adam(learning_rate = 0.001)\n",
        "\n",
        "  model2 = tf.keras.Sequential([ \n",
        "    tf.keras.layers.Conv2D(kernel_size=3, filters=32, padding='same', activation='relu', input_shape=(192, 192, 3)),\n",
        "    tf.keras.layers.Conv2D(kernel_size=1, filters=32, padding='same', activation='relu'),\n",
        "    tf.keras.layers.MaxPooling2D(pool_size=2),\n",
        "    tf.keras.layers.Conv2D(kernel_size=3, filters=64, padding='same', activation='relu'),\n",
        "    tf.keras.layers.Conv2D(kernel_size=1, filters=64, padding='same', activation='relu'),\n",
        "    tf.keras.layers.MaxPooling2D(pool_size=2),\n",
        "    tf.keras.layers.Conv2D(kernel_size=3, filters=128, padding='same', activation='relu'),\n",
        "    tf.keras.layers.Conv2D(kernel_size=1, filters=128, padding='same', activation='relu'),\n",
        "    tf.keras.layers.MaxPooling2D(pool_size=2),\n",
        "    tf.keras.layers.Conv2D(kernel_size=3, filters=512, padding='same', activation='relu'),\n",
        "    tf.keras.layers.Conv2D(kernel_size=1, filters=512, padding='same', activation='relu'),\n",
        "    tf.keras.layers.MaxPooling2D(pool_size=2),\n",
        "    tf.keras.layers.Conv2D(kernel_size=3, filters=512, padding='same', activation='relu'),\n",
        "    tf.keras.layers.Conv2D(kernel_size=1, filters=512, padding='same', activation='relu'),\n",
        "    tf.keras.layers.Flatten(),\n",
        "    tf.keras.layers.Dense(3, activation='softmax')\n",
        "  ])\n",
        "\n",
        "  # set callback to reduce lr when val_loss plateaus\n",
        "  from tensorflow.python.keras.callbacks import ReduceLROnPlateau\n",
        "  red_lr= ReduceLROnPlateau(monitor='val_loss',patience=3,verbose=1,factor=0.1) # dividing lr by 10 when val_accuracy fails to improve after 3 epochs\n",
        "\n",
        "  # compile model2\n",
        "  model2.compile(\n",
        "    optimizer= adam, # to use callback set lr arg such as Adam(lr=0.001) instead\n",
        "    loss= 'categorical_crossentropy',\n",
        "    metrics=['accuracy'])\n",
        "  \n",
        "  # Fitting the CNN to the Training set\n",
        "  model2.fit(X_train, y_train, epochs = 15, verbose= 1, validation_split=.2, callbacks=[red_lr])"
      ]
    },
    {
      "cell_type": "code",
      "execution_count": null,
      "metadata": {
        "id": "zSgmQmMV8BN1"
      },
      "outputs": [],
      "source": [
        "# save model2 as h5 file in case runtime restarts\n",
        "model2.save(\"model2.h5\", save_format=\"h5\")"
      ]
    },
    {
      "cell_type": "code",
      "execution_count": null,
      "metadata": {
        "id": "hhsJsEeo-plx"
      },
      "outputs": [],
      "source": [
        "import pickle\n",
        "\n",
        "# reload X_test and y_test data (if runtime crashes)  \n",
        "with open('X_test.pkl', 'rb') as file:\n",
        "    X_test = pickle.load(file)\n",
        "\n",
        "with open('y_test.pkl', 'rb') as file:\n",
        "    y_test = pickle.load(file)"
      ]
    },
    {
      "cell_type": "code",
      "execution_count": null,
      "metadata": {
        "colab": {
          "base_uri": "https://localhost:8080/"
        },
        "id": "qhsyZfSi5Jdg",
        "outputId": "3dfb5c44-56da-4d30-d66b-b68bd2d29cc6"
      },
      "outputs": [
        {
          "name": "stdout",
          "output_type": "stream",
          "text": [
            "11/11 [==============================] - 4s 135ms/step - loss: 0.2842 - accuracy: 0.9171\n",
            "[0.28423061966896057, 0.917118489742279]\n"
          ]
        }
      ],
      "source": [
        "# evaluate model on test data\n",
        "model2_score = model2.evaluate(X_test, y_test, batch_size = 128)\n",
        "print(model2_score)"
      ]
    },
    {
      "cell_type": "code",
      "execution_count": null,
      "metadata": {
        "colab": {
          "base_uri": "https://localhost:8080/"
        },
        "id": "ALap2rdsOARi",
        "outputId": "60db22f4-147b-4202-b1fb-4cdf2db77d02"
      },
      "outputs": [],
      "source": [
        "# In case runtime restarts, reload model2\n",
        "import tensorflow as tf\n",
        "\n",
        "from tensorflow.keras.optimizers import Adam\n",
        "adam = Adam(learning_rate = 0.001)\n",
        "\n",
        "model2 = tf.keras.models.load_model('model2.h5',compile=False)\n",
        "model2.compile(\n",
        "    optimizer= adam,\n",
        "    loss= 'categorical_crossentropy',\n",
        "    metrics=['accuracy'])\n",
        "model2.summary()"
      ]
    },
    {
      "cell_type": "code",
      "execution_count": null,
      "metadata": {
        "id": "IzEHbtUt8Hha"
      },
      "outputs": [],
      "source": [
        "# save model2 to local ONNX file\n",
        "from aimodelshare.aimsonnx import model_to_onnx\n",
        "onnx_model2 = model_to_onnx(model2, framework='keras',\n",
        "                          transfer_learning=False,\n",
        "                          deep_learning=True)\n",
        "\n",
        "with open(\"model2.onnx\", \"wb\") as f:\n",
        "    f.write(onnx_model2.SerializeToString())"
      ]
    },
    {
      "cell_type": "code",
      "execution_count": null,
      "metadata": {
        "colab": {
          "base_uri": "https://localhost:8080/"
        },
        "id": "fjTvjFpY535b",
        "outputId": "3c7e852d-7123-49d6-8a58-56a8a89c61ca"
      },
      "outputs": [
        {
          "name": "stdout",
          "output_type": "stream",
          "text": [
            "41/41 [==============================] - 7s 43ms/step\n"
          ]
        }
      ],
      "source": [
        "#Use X_test data to generate model predictions and make leaderboard submission\n",
        "prediction_column_index2=model2.predict(X_test).argmax(axis=1)\n",
        "\n",
        "# extract correct prediction labels \n",
        "prediction_labels2 = [y_train.columns[i] for i in prediction_column_index2]"
      ]
    },
    {
      "cell_type": "code",
      "execution_count": null,
      "metadata": {
        "colab": {
          "base_uri": "https://localhost:8080/"
        },
        "id": "aArqt0zL6ULb",
        "outputId": "da3ec3a8-77e9-4f9b-8f92-d8f44a2ddc0c"
      },
      "outputs": [
        {
          "name": "stdout",
          "output_type": "stream",
          "text": [
            "Insert search tags to help users find your model (optional): \n",
            "Provide any useful notes about your model (optional): \n",
            "\n",
            "Your model has been submitted as model version 14\n",
            "\n",
            "To submit code used to create this model or to view current leaderboard navigate to Model Playground: \n",
            "\n",
            " https://www.modelshare.org/detail/model:3340\n"
          ]
        }
      ],
      "source": [
        "# Submit Model 2 to Competition Leaderboard\n",
        "experiment.submit_model(model_filepath = \"model2.onnx\",\n",
        "                                 preprocessor_filepath=\"preprocessor.zip\",\n",
        "                                 prediction_submission=prediction_labels2)"
      ]
    },
    {
      "cell_type": "markdown",
      "metadata": {
        "id": "4vBeNdMP6czQ"
      },
      "source": [
        "### CNN Performance\n",
        "\n",
        "As can be seen from the test metrics above, given the same number of epochs, the CNN model performed better than the MLP network model, correctly classifying 91.71% of test observations.\n",
        "\n",
        "![image.png](data:image/png;base64,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)"
      ]
    },
    {
      "cell_type": "markdown",
      "metadata": {
        "id": "Vts4x1vM6fnn"
      },
      "source": [
        "## Model 3 - Transfer Learning (ResNet)\n",
        "\n",
        "I next decided to experiment with transfer learning methods. I used the ResNet architecture from tensorflow.keras.applications for my next model, freezing the model weights from the imagenet competition, and adding a global average pooling layer prior to classification."
      ]
    },
    {
      "cell_type": "code",
      "execution_count": null,
      "metadata": {
        "id": "TYIUMSaQ_2Fr"
      },
      "outputs": [],
      "source": [
        "# code to reload data in case runtime crashes\n",
        "import pickle\n",
        "  \n",
        "# reload X_train and y-train\n",
        "with open('X_train.pkl', 'rb') as file:\n",
        "    X_train = pickle.load(file)\n",
        "\n",
        "with open('y_train.pkl', 'rb') as file:\n",
        "    y_train = pickle.load(file)"
      ]
    },
    {
      "cell_type": "code",
      "execution_count": null,
      "metadata": {
        "colab": {
          "base_uri": "https://localhost:8080/"
        },
        "id": "C66VjIIzB8O6",
        "outputId": "34337d5a-aa7b-413d-bef8-af4d4b4a79b3"
      },
      "outputs": [
        {
          "name": "stdout",
          "output_type": "stream",
          "text": [
            "Downloading data from https://storage.googleapis.com/tensorflow/keras-applications/resnet/resnet50_weights_tf_dim_ordering_tf_kernels_notop.h5\n",
            "94765736/94765736 [==============================] - 1s 0us/step\n"
          ]
        }
      ],
      "source": [
        "import tensorflow as tf\n",
        "from tensorflow.keras.applications import ResNet50\n",
        "from tensorflow.keras.models import Sequential,Model\n",
        "from tensorflow.keras.preprocessing import image\n",
        "from tensorflow.keras.models import Model\n",
        "from tensorflow.keras.layers import Dense, GlobalAveragePooling2D, Flatten\n",
        "from tensorflow.keras import backend as K\n",
        "\n",
        "# Create the base model from pre-trained resnet model\n",
        "base_model1 = ResNet50(input_shape= (192, 192, 3), include_top=False, weights='imagenet')\n",
        "\n",
        "# freeze weights\n",
        "base_model1.trainable = False"
      ]
    },
    {
      "cell_type": "code",
      "execution_count": null,
      "metadata": {
        "id": "bFFFpoBNCwqR"
      },
      "outputs": [],
      "source": [
        "# Create new classifier layer\n",
        "gap1 = GlobalAveragePooling2D()(base_model1.layers[-1].output)\n",
        "output = Dense(3, activation='softmax')(gap1)\n",
        "\n",
        "# define new model\n",
        "model3 = Model(inputs=base_model1.inputs, outputs=output)"
      ]
    },
    {
      "cell_type": "code",
      "execution_count": null,
      "metadata": {
        "colab": {
          "base_uri": "https://localhost:8080/"
        },
        "id": "U3toWITEDH_i",
        "outputId": "22273ba6-1dd1-4170-94f2-11027f39fe03"
      },
      "outputs": [
        {
          "name": "stdout",
          "output_type": "stream",
          "text": [
            "Epoch 1/15\n",
            "69/69 [==============================] - 13s 120ms/step - loss: 1.1012 - accuracy: 0.3440 - val_loss: 1.0888 - val_accuracy: 0.3479 - lr: 0.0010\n",
            "Epoch 2/15\n",
            "69/69 [==============================] - 6s 87ms/step - loss: 1.0785 - accuracy: 0.4453 - val_loss: 1.0790 - val_accuracy: 0.4499 - lr: 0.0010\n",
            "Epoch 3/15\n",
            "69/69 [==============================] - 6s 93ms/step - loss: 1.0699 - accuracy: 0.4288 - val_loss: 1.0573 - val_accuracy: 0.5301 - lr: 0.0010\n",
            "Epoch 4/15\n",
            "69/69 [==============================] - 6s 89ms/step - loss: 1.0502 - accuracy: 0.4599 - val_loss: 1.0644 - val_accuracy: 0.4117 - lr: 0.0010\n",
            "Epoch 5/15\n",
            "69/69 [==============================] - 6s 92ms/step - loss: 1.0368 - accuracy: 0.5078 - val_loss: 1.0367 - val_accuracy: 0.5647 - lr: 0.0010\n",
            "Epoch 6/15\n",
            "69/69 [==============================] - 6s 89ms/step - loss: 1.0252 - accuracy: 0.5347 - val_loss: 1.0310 - val_accuracy: 0.4791 - lr: 0.0010\n",
            "Epoch 7/15\n",
            "69/69 [==============================] - 6s 90ms/step - loss: 1.0217 - accuracy: 0.4982 - val_loss: 1.0108 - val_accuracy: 0.6193 - lr: 0.0010\n",
            "Epoch 8/15\n",
            "69/69 [==============================] - 6s 89ms/step - loss: 1.0021 - accuracy: 0.5858 - val_loss: 1.0029 - val_accuracy: 0.6175 - lr: 0.0010\n",
            "Epoch 9/15\n",
            "69/69 [==============================] - 6s 89ms/step - loss: 0.9962 - accuracy: 0.5766 - val_loss: 0.9948 - val_accuracy: 0.6230 - lr: 0.0010\n",
            "Epoch 10/15\n",
            "69/69 [==============================] - 6s 90ms/step - loss: 0.9846 - accuracy: 0.6063 - val_loss: 0.9838 - val_accuracy: 0.6393 - lr: 0.0010\n",
            "Epoch 11/15\n",
            "69/69 [==============================] - 6s 90ms/step - loss: 0.9749 - accuracy: 0.5899 - val_loss: 0.9815 - val_accuracy: 0.5519 - lr: 0.0010\n",
            "Epoch 12/15\n",
            "69/69 [==============================] - 6s 91ms/step - loss: 0.9644 - accuracy: 0.6063 - val_loss: 0.9681 - val_accuracy: 0.6485 - lr: 0.0010\n",
            "Epoch 13/15\n",
            "69/69 [==============================] - 6s 90ms/step - loss: 0.9580 - accuracy: 0.6214 - val_loss: 0.9602 - val_accuracy: 0.6321 - lr: 0.0010\n",
            "Epoch 14/15\n",
            "69/69 [==============================] - 6s 92ms/step - loss: 0.9536 - accuracy: 0.6428 - val_loss: 0.9565 - val_accuracy: 0.6047 - lr: 0.0010\n",
            "Epoch 15/15\n",
            "69/69 [==============================] - 6s 90ms/step - loss: 0.9428 - accuracy: 0.6109 - val_loss: 0.9498 - val_accuracy: 0.6084 - lr: 0.0010\n"
          ]
        }
      ],
      "source": [
        "# Fit Resnet model with frozen imagenet weights and new output layer\n",
        "\n",
        "with tf.device('/device:GPU:0'):\n",
        "  \n",
        "  # set lr = 0.001 for adam optimizer\n",
        "  from tensorflow.keras.optimizers import Adam\n",
        "  adam = Adam(learning_rate = 0.001)\n",
        "\n",
        "  # set callback to reduce lr when val_loss plateaus\n",
        "  from tensorflow.python.keras.callbacks import ReduceLROnPlateau\n",
        "  red_lr= ReduceLROnPlateau(monitor='val_loss',patience=3,verbose=1,factor=0.1) # dividing lr by 10 when val_accuracy fails to improve after 3 epochs\n",
        "\n",
        "  # compile model\n",
        "  model3.compile(loss='categorical_crossentropy', optimizer= adam, metrics=['accuracy']) \n",
        "\n",
        "  # fit model\n",
        "  model3.fit(X_train, y_train, epochs = 15, verbose=1,validation_split=.2, callbacks = [red_lr])"
      ]
    },
    {
      "cell_type": "code",
      "execution_count": null,
      "metadata": {
        "id": "iyEjYeQyFGeB"
      },
      "outputs": [],
      "source": [
        "# save model3 as h5 file in case runtime restarts\n",
        "model3.save(\"model3.h5\", save_format=\"h5\")"
      ]
    },
    {
      "cell_type": "code",
      "execution_count": null,
      "metadata": {
        "id": "RmqDF77bEZJS"
      },
      "outputs": [],
      "source": [
        "import pickle\n",
        "\n",
        "# reload X_test and y_test data (if runtime crashes)  \n",
        "with open('X_test.pkl', 'rb') as file:\n",
        "    X_test = pickle.load(file)\n",
        "\n",
        "with open('y_test.pkl', 'rb') as file:\n",
        "    y_test = pickle.load(file)"
      ]
    },
    {
      "cell_type": "code",
      "execution_count": null,
      "metadata": {
        "colab": {
          "base_uri": "https://localhost:8080/"
        },
        "id": "U-3VSBYaEfNW",
        "outputId": "ee3e9b1e-c2c0-4e5b-de5b-4dd55f200da8"
      },
      "outputs": [
        {
          "name": "stdout",
          "output_type": "stream",
          "text": [
            "11/11 [==============================] - 5s 273ms/step - loss: 0.9373 - accuracy: 0.6150\n",
            "[0.9372659921646118, 0.615027129650116]\n"
          ]
        }
      ],
      "source": [
        "# evaluate model on test data\n",
        "model3_score = model3.evaluate(X_test, y_test, batch_size = 128)\n",
        "print(model3_score)"
      ]
    },
    {
      "cell_type": "code",
      "execution_count": null,
      "metadata": {
        "colab": {
          "base_uri": "https://localhost:8080/"
        },
        "id": "9fzsZEAiN7tb",
        "outputId": "20607ea7-d4e0-4106-e5dc-4ba36b1596ca"
      },
      "outputs": [],
      "source": [
        "# In case runtime restarts, reload model3\n",
        "import tensorflow as tf\n",
        "\n",
        "from tensorflow.keras.optimizers import Adam\n",
        "adam = Adam(learning_rate = 0.001)\n",
        "\n",
        "model3 = tf.keras.models.load_model('model3.h5',compile=False)\n",
        "model3.compile(\n",
        "    optimizer= adam,\n",
        "    loss= 'categorical_crossentropy',\n",
        "    metrics=['accuracy'])\n",
        "model3.summary()"
      ]
    },
    {
      "cell_type": "code",
      "execution_count": null,
      "metadata": {
        "id": "epMGUvHrEj7s"
      },
      "outputs": [],
      "source": [
        "# save model3 to local ONNX file\n",
        "from aimodelshare.aimsonnx import model_to_onnx\n",
        "onnx_model3 = model_to_onnx(model3, framework='keras',\n",
        "                          transfer_learning=True,\n",
        "                          deep_learning=True)\n",
        "\n",
        "with open(\"model3.onnx\", \"wb\") as f:\n",
        "    f.write(onnx_model3.SerializeToString())"
      ]
    },
    {
      "cell_type": "code",
      "execution_count": null,
      "metadata": {
        "colab": {
          "base_uri": "https://localhost:8080/"
        },
        "id": "Xzro5lLGE1eA",
        "outputId": "b0271b33-47d6-4d67-81a5-44b628225d68"
      },
      "outputs": [
        {
          "name": "stdout",
          "output_type": "stream",
          "text": [
            "41/41 [==============================] - 5s 83ms/step\n"
          ]
        }
      ],
      "source": [
        "#Use X_test data to generate model predictions and make leaderboard submission\n",
        "prediction_column_index3=model3.predict(X_test).argmax(axis=1)\n",
        "\n",
        "# extract correct prediction labels \n",
        "prediction_labels3 = [y_train.columns[i] for i in prediction_column_index3]"
      ]
    },
    {
      "cell_type": "code",
      "execution_count": null,
      "metadata": {
        "colab": {
          "base_uri": "https://localhost:8080/"
        },
        "id": "X0c5crz0LkpK",
        "outputId": "830f889c-cf15-435a-d9ce-728bc1355b59"
      },
      "outputs": [
        {
          "name": "stdout",
          "output_type": "stream",
          "text": [
            "Insert search tags to help users find your model (optional): \n",
            "Provide any useful notes about your model (optional): \n",
            "\n",
            "Your model has been submitted as model version 15\n",
            "\n",
            "To submit code used to create this model or to view current leaderboard navigate to Model Playground: \n",
            "\n",
            " https://www.modelshare.org/detail/model:3340\n"
          ]
        }
      ],
      "source": [
        "# Submit model3 to Competition Leaderboard\n",
        "experiment.submit_model(model_filepath = \"model3.onnx\",\n",
        "                                 preprocessor_filepath=\"preprocessor.zip\",\n",
        "                                 prediction_submission=prediction_labels3)"
      ]
    },
    {
      "cell_type": "markdown",
      "metadata": {
        "id": "KLQkhpCjGK5G"
      },
      "source": [
        "### ResNet Performance\n",
        "\n",
        "Interestingly, despite its complexity, the ResNet model performed worse than both the MLP and the CNN models. The model correctly classified only 61.50% of test observations. It is possible that this is because the model was not trained over sufficient iterations - val_loss was still decreasing as of the 15th epoch. The model may perform better if it were trained over more epochs.\n",
        "\n",
        "![image.png](data:image/png;base64,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)"
      ]
    },
    {
      "cell_type": "markdown",
      "metadata": {
        "id": "ZOvoR4JVGOf9"
      },
      "source": [
        "## Model 4 - Transfer Learning (VGG16)\n",
        "\n",
        "After discussion with my groupmates, I decided next to continue exploring transfer learning methods by using other established architectures. I first used A VGG16 model, employing the same approach as the ResNet model built earlier."
      ]
    },
    {
      "cell_type": "code",
      "execution_count": null,
      "metadata": {
        "id": "GwKftgNrGV5t"
      },
      "outputs": [],
      "source": [
        "# code to reload data in case runtime crashes\n",
        "import pickle\n",
        "  \n",
        "# reload X_train and y-train\n",
        "with open('X_train.pkl', 'rb') as file:\n",
        "    X_train = pickle.load(file)\n",
        "\n",
        "with open('y_train.pkl', 'rb') as file:\n",
        "    y_train = pickle.load(file)"
      ]
    },
    {
      "cell_type": "code",
      "execution_count": null,
      "metadata": {
        "colab": {
          "base_uri": "https://localhost:8080/"
        },
        "id": "9ibNRIqdGXi2",
        "outputId": "89db88b2-dad1-4800-9a15-c4ef98b3a9cf"
      },
      "outputs": [
        {
          "name": "stdout",
          "output_type": "stream",
          "text": [
            "Downloading data from https://storage.googleapis.com/tensorflow/keras-applications/vgg16/vgg16_weights_tf_dim_ordering_tf_kernels_notop.h5\n",
            "58889256/58889256 [==============================] - 0s 0us/step\n"
          ]
        }
      ],
      "source": [
        "import tensorflow as tf\n",
        "from tensorflow.keras.applications import VGG16\n",
        "from tensorflow.keras.models import Sequential,Model\n",
        "from tensorflow.keras.preprocessing import image\n",
        "from tensorflow.keras.models import Model\n",
        "from tensorflow.keras.layers import Dense, GlobalAveragePooling2D, Flatten\n",
        "from tensorflow.keras import backend as K\n",
        "\n",
        "# create base model from pre-trained VGG16 model\n",
        "base_model2 = VGG16(input_shape = (192,192,3), include_top = False, weights = 'imagenet')\n",
        "\n",
        "base_model2.trainable = False"
      ]
    },
    {
      "cell_type": "code",
      "execution_count": null,
      "metadata": {
        "id": "0KYMZftVG8Xp"
      },
      "outputs": [],
      "source": [
        "# Create new classifier layer\n",
        "gap2 = GlobalAveragePooling2D()(base_model2.layers[-1].output)\n",
        "output = Dense(3, activation='softmax')(gap2)\n",
        "\n",
        "# define new model\n",
        "model4 = Model(inputs=base_model2.inputs, outputs=output)"
      ]
    },
    {
      "cell_type": "code",
      "execution_count": null,
      "metadata": {
        "colab": {
          "base_uri": "https://localhost:8080/"
        },
        "id": "kWmrgupzHrdQ",
        "outputId": "2d0d189d-5f4d-4ada-fa1a-8664aedfce68"
      },
      "outputs": [
        {
          "name": "stdout",
          "output_type": "stream",
          "text": [
            "Epoch 1/15\n",
            "69/69 [==============================] - 13s 150ms/step - loss: 1.0605 - accuracy: 0.5128 - val_loss: 0.9469 - val_accuracy: 0.7559 - lr: 0.0010\n",
            "Epoch 2/15\n",
            "69/69 [==============================] - 9s 124ms/step - loss: 0.8848 - accuracy: 0.7628 - val_loss: 0.8308 - val_accuracy: 0.7869 - lr: 0.0010\n",
            "Epoch 3/15\n",
            "69/69 [==============================] - 9s 124ms/step - loss: 0.7827 - accuracy: 0.7856 - val_loss: 0.7542 - val_accuracy: 0.7614 - lr: 0.0010\n",
            "Epoch 4/15\n",
            "69/69 [==============================] - 9s 125ms/step - loss: 0.7144 - accuracy: 0.7838 - val_loss: 0.6920 - val_accuracy: 0.7996 - lr: 0.0010\n",
            "Epoch 5/15\n",
            "69/69 [==============================] - 9s 125ms/step - loss: 0.6640 - accuracy: 0.7920 - val_loss: 0.6524 - val_accuracy: 0.7923 - lr: 0.0010\n",
            "Epoch 6/15\n",
            "69/69 [==============================] - 7s 108ms/step - loss: 0.6258 - accuracy: 0.8038 - val_loss: 0.6183 - val_accuracy: 0.8015 - lr: 0.0010\n",
            "Epoch 7/15\n",
            "69/69 [==============================] - 8s 109ms/step - loss: 0.5968 - accuracy: 0.8029 - val_loss: 0.5904 - val_accuracy: 0.8179 - lr: 0.0010\n",
            "Epoch 8/15\n",
            "69/69 [==============================] - 9s 125ms/step - loss: 0.5716 - accuracy: 0.8171 - val_loss: 0.5675 - val_accuracy: 0.8160 - lr: 0.0010\n",
            "Epoch 9/15\n",
            "69/69 [==============================] - 9s 126ms/step - loss: 0.5525 - accuracy: 0.8184 - val_loss: 0.5490 - val_accuracy: 0.8233 - lr: 0.0010\n",
            "Epoch 10/15\n",
            "69/69 [==============================] - 9s 126ms/step - loss: 0.5356 - accuracy: 0.8171 - val_loss: 0.5350 - val_accuracy: 0.8306 - lr: 0.0010\n",
            "Epoch 11/15\n",
            "69/69 [==============================] - 8s 110ms/step - loss: 0.5213 - accuracy: 0.8166 - val_loss: 0.5200 - val_accuracy: 0.8306 - lr: 0.0010\n",
            "Epoch 12/15\n",
            "69/69 [==============================] - 8s 111ms/step - loss: 0.5048 - accuracy: 0.8289 - val_loss: 0.5047 - val_accuracy: 0.8270 - lr: 0.0010\n",
            "Epoch 13/15\n",
            "69/69 [==============================] - 8s 111ms/step - loss: 0.4918 - accuracy: 0.8317 - val_loss: 0.4945 - val_accuracy: 0.8434 - lr: 0.0010\n",
            "Epoch 14/15\n",
            "69/69 [==============================] - 8s 112ms/step - loss: 0.4809 - accuracy: 0.8339 - val_loss: 0.4840 - val_accuracy: 0.8434 - lr: 0.0010\n",
            "Epoch 15/15\n",
            "69/69 [==============================] - 8s 113ms/step - loss: 0.4709 - accuracy: 0.8417 - val_loss: 0.4854 - val_accuracy: 0.8324 - lr: 0.0010\n"
          ]
        }
      ],
      "source": [
        "# Fit VGG16 model with frozen imagenet weights and new output layer\n",
        "\n",
        "with tf.device('/device:GPU:0'):\n",
        "  \n",
        "  # set lr = 0.001 for adam optimizer\n",
        "  from tensorflow.keras.optimizers import Adam\n",
        "  adam = Adam(learning_rate = 0.001)\n",
        "\n",
        "  # set callback to reduce lr when val_loss plateaus\n",
        "  from tensorflow.python.keras.callbacks import ReduceLROnPlateau\n",
        "  red_lr= ReduceLROnPlateau(monitor='val_loss',patience=3,verbose=1,factor=0.1) # dividing lr by 10 when val_accuracy fails to improve after 3 epochs\n",
        "\n",
        "  # compile model\n",
        "  model4.compile(loss='categorical_crossentropy', optimizer= adam, metrics=['accuracy']) \n",
        "\n",
        "  # fit model\n",
        "  model4.fit(X_train, y_train, epochs = 15, verbose=1,validation_split=.2, callbacks = [red_lr])"
      ]
    },
    {
      "cell_type": "code",
      "execution_count": null,
      "metadata": {
        "id": "Vd2Xrb14H7mu"
      },
      "outputs": [],
      "source": [
        "# save model4 as h5 file in case runtime restarts\n",
        "model4.save(\"model4.h5\", save_format=\"h5\")"
      ]
    },
    {
      "cell_type": "code",
      "execution_count": null,
      "metadata": {
        "id": "1uBMg_l2H_Jz"
      },
      "outputs": [],
      "source": [
        "import pickle\n",
        "\n",
        "# reload X_test and y_test data (if runtime crashes)  \n",
        "with open('X_test.pkl', 'rb') as file:\n",
        "    X_test = pickle.load(file)\n",
        "\n",
        "with open('y_test.pkl', 'rb') as file:\n",
        "    y_test = pickle.load(file)"
      ]
    },
    {
      "cell_type": "code",
      "execution_count": null,
      "metadata": {
        "colab": {
          "base_uri": "https://localhost:8080/"
        },
        "id": "izK957rZIBQI",
        "outputId": "bd05f45c-90f6-416e-ed27-c2495d5b86a9"
      },
      "outputs": [
        {
          "name": "stdout",
          "output_type": "stream",
          "text": [
            "11/11 [==============================] - 10s 409ms/step - loss: 0.4759 - accuracy: 0.8319\n",
            "[0.4758608639240265, 0.8319132328033447]\n"
          ]
        }
      ],
      "source": [
        "# evaluate model on test data\n",
        "model4_score = model4.evaluate(X_test, y_test, batch_size = 128)\n",
        "print(model4_score)"
      ]
    },
    {
      "cell_type": "code",
      "execution_count": null,
      "metadata": {
        "colab": {
          "base_uri": "https://localhost:8080/"
        },
        "id": "INVVmtpdN3MZ",
        "outputId": "b881f4f2-fa2f-41e1-e5d2-7982e528652c"
      },
      "outputs": [],
      "source": [
        "# In case runtime restarts, reload model4\n",
        "import tensorflow as tf\n",
        "\n",
        "from tensorflow.keras.optimizers import Adam\n",
        "adam = Adam(learning_rate = 0.001)\n",
        "\n",
        "model4 = tf.keras.models.load_model('model4.h5',compile=False)\n",
        "model4.compile(\n",
        "    optimizer= adam,\n",
        "    loss= 'categorical_crossentropy',\n",
        "    metrics=['accuracy'])\n",
        "model4.summary()"
      ]
    },
    {
      "cell_type": "code",
      "execution_count": null,
      "metadata": {
        "id": "FFp4gOxsIHoT"
      },
      "outputs": [],
      "source": [
        "# save model4 to local ONNX file\n",
        "from aimodelshare.aimsonnx import model_to_onnx\n",
        "onnx_model4 = model_to_onnx(model4, framework='keras',\n",
        "                          transfer_learning=True,\n",
        "                          deep_learning=True)\n",
        "\n",
        "with open(\"model4.onnx\", \"wb\") as f:\n",
        "    f.write(onnx_model4.SerializeToString())"
      ]
    },
    {
      "cell_type": "code",
      "execution_count": null,
      "metadata": {
        "colab": {
          "base_uri": "https://localhost:8080/"
        },
        "id": "hKdGLJm8IM0_",
        "outputId": "b5ab6725-8af9-450a-9c1c-ee414b29e105"
      },
      "outputs": [
        {
          "name": "stdout",
          "output_type": "stream",
          "text": [
            "41/41 [==============================] - 9s 144ms/step\n"
          ]
        }
      ],
      "source": [
        "#Use X_test data to generate model predictions and make leaderboard submission\n",
        "prediction_column_index4=model4.predict(X_test).argmax(axis=1)\n",
        "\n",
        "# extract correct prediction labels \n",
        "prediction_labels4 = [y_train.columns[i] for i in prediction_column_index4]"
      ]
    },
    {
      "cell_type": "code",
      "execution_count": null,
      "metadata": {
        "colab": {
          "base_uri": "https://localhost:8080/"
        },
        "id": "41Z4nxw5LrG7",
        "outputId": "48f27d33-a07b-4e28-fe30-b616e52d4e66"
      },
      "outputs": [
        {
          "name": "stdout",
          "output_type": "stream",
          "text": [
            "Insert search tags to help users find your model (optional): \n",
            "Provide any useful notes about your model (optional): \n",
            "\n",
            "Your model has been submitted as model version 16\n",
            "\n",
            "To submit code used to create this model or to view current leaderboard navigate to Model Playground: \n",
            "\n",
            " https://www.modelshare.org/detail/model:3340\n"
          ]
        }
      ],
      "source": [
        "# Submit model4 to Competition Leaderboard\n",
        "experiment.submit_model(model_filepath = \"model4.onnx\",\n",
        "                                 preprocessor_filepath=\"preprocessor.zip\",\n",
        "                                 prediction_submission=prediction_labels4)"
      ]
    },
    {
      "cell_type": "markdown",
      "metadata": {
        "id": "x7_Z5jpeIhPT"
      },
      "source": [
        "### VGG16 Performance\n",
        "\n",
        "Although the VGG16 model performed better than the ResNet model, it still performed worse than both the MLP and CNN models - it correctly classified only 83.19% of test observations. Again, this could be because the model was trained over an insufficient number of iterations - val_loss was only just beginnning to plateau at the 15th epoch (for comparison, the learning rate was decreased twice when training the CNN model).\n",
        "\n",
        "![image.png](data:image/png;base64,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)"
      ]
    },
    {
      "cell_type": "markdown",
      "metadata": {
        "id": "vk3b8uGDIjxv"
      },
      "source": [
        "## Model 5 - Transfer Learning (Inception)\n",
        "\n",
        "The next transfer learning approach I explored was an Inception model. I used the same approach as the previous two transfer learning models."
      ]
    },
    {
      "cell_type": "code",
      "execution_count": null,
      "metadata": {
        "id": "q5th2VKHIudo"
      },
      "outputs": [],
      "source": [
        "# code to reload data in case runtime crashes\n",
        "import pickle\n",
        "  \n",
        "# reload X_train and y-train\n",
        "with open('X_train.pkl', 'rb') as file:\n",
        "    X_train = pickle.load(file)\n",
        "\n",
        "with open('y_train.pkl', 'rb') as file:\n",
        "    y_train = pickle.load(file)"
      ]
    },
    {
      "cell_type": "code",
      "execution_count": null,
      "metadata": {
        "colab": {
          "base_uri": "https://localhost:8080/"
        },
        "id": "3EgRAy4oIvmz",
        "outputId": "cf672797-6ee3-4cff-e0b0-bfe8a6e4a370"
      },
      "outputs": [
        {
          "name": "stdout",
          "output_type": "stream",
          "text": [
            "Downloading data from https://storage.googleapis.com/tensorflow/keras-applications/inception_v3/inception_v3_weights_tf_dim_ordering_tf_kernels_notop.h5\n",
            "87910968/87910968 [==============================] - 1s 0us/step\n"
          ]
        }
      ],
      "source": [
        "import tensorflow as tf\n",
        "from tensorflow.keras.applications import InceptionV3\n",
        "from tensorflow.keras.models import Sequential,Model\n",
        "from tensorflow.keras.preprocessing import image\n",
        "from tensorflow.keras.models import Model\n",
        "from tensorflow.keras.layers import Dense, GlobalAveragePooling2D, Flatten\n",
        "from tensorflow.keras import backend as K\n",
        "\n",
        "# Create new base model from the pre-trained Inception model\n",
        "base_model3 = InceptionV3(input_shape= (192, 192, 3), include_top=False, weights='imagenet')\n",
        "\n",
        "# freeze model weights\n",
        "base_model3.trainable = False\n",
        "\n",
        "# create new classifier layer\n",
        "gap3 = GlobalAveragePooling2D()(base_model3.layers[-1].output)\n",
        "output = Dense(3, activation='softmax')(gap3)\n",
        "\n",
        "# define new model\n",
        "model5 = Model(inputs=base_model3.inputs, outputs=output)"
      ]
    },
    {
      "cell_type": "code",
      "execution_count": null,
      "metadata": {
        "colab": {
          "base_uri": "https://localhost:8080/"
        },
        "id": "Rh7o2VDwKAEZ",
        "outputId": "c7fc4b15-ac65-493b-e0cc-f83181e0a825"
      },
      "outputs": [
        {
          "name": "stdout",
          "output_type": "stream",
          "text": [
            "Epoch 1/15\n",
            "69/69 [==============================] - 16s 128ms/step - loss: 0.5859 - accuracy: 0.7432 - val_loss: 0.4231 - val_accuracy: 0.8197 - lr: 0.0010\n",
            "Epoch 2/15\n",
            "69/69 [==============================] - 5s 74ms/step - loss: 0.3903 - accuracy: 0.8367 - val_loss: 0.5020 - val_accuracy: 0.7814 - lr: 0.0010\n",
            "Epoch 3/15\n",
            "69/69 [==============================] - 5s 67ms/step - loss: 0.3466 - accuracy: 0.8431 - val_loss: 0.3393 - val_accuracy: 0.8561 - lr: 0.0010\n",
            "Epoch 4/15\n",
            "69/69 [==============================] - 5s 71ms/step - loss: 0.2919 - accuracy: 0.8773 - val_loss: 0.3349 - val_accuracy: 0.8597 - lr: 0.0010\n",
            "Epoch 5/15\n",
            "69/69 [==============================] - 5s 67ms/step - loss: 0.2851 - accuracy: 0.8859 - val_loss: 0.4468 - val_accuracy: 0.8160 - lr: 0.0010\n",
            "Epoch 6/15\n",
            "69/69 [==============================] - 5s 70ms/step - loss: 0.2752 - accuracy: 0.8823 - val_loss: 0.3298 - val_accuracy: 0.8561 - lr: 0.0010\n",
            "Epoch 7/15\n",
            "69/69 [==============================] - 5s 72ms/step - loss: 0.2594 - accuracy: 0.8919 - val_loss: 0.3604 - val_accuracy: 0.8342 - lr: 0.0010\n",
            "Epoch 8/15\n",
            "69/69 [==============================] - 5s 68ms/step - loss: 0.2361 - accuracy: 0.9005 - val_loss: 0.3188 - val_accuracy: 0.8707 - lr: 0.0010\n",
            "Epoch 9/15\n",
            "69/69 [==============================] - 5s 69ms/step - loss: 0.2086 - accuracy: 0.9161 - val_loss: 0.3105 - val_accuracy: 0.8670 - lr: 0.0010\n",
            "Epoch 10/15\n",
            "69/69 [==============================] - 6s 89ms/step - loss: 0.2282 - accuracy: 0.9065 - val_loss: 0.3526 - val_accuracy: 0.8543 - lr: 0.0010\n",
            "Epoch 11/15\n",
            "69/69 [==============================] - 5s 68ms/step - loss: 0.2028 - accuracy: 0.9142 - val_loss: 0.2998 - val_accuracy: 0.8871 - lr: 0.0010\n",
            "Epoch 12/15\n",
            "69/69 [==============================] - 5s 70ms/step - loss: 0.1859 - accuracy: 0.9270 - val_loss: 0.3413 - val_accuracy: 0.8561 - lr: 0.0010\n",
            "Epoch 13/15\n",
            "69/69 [==============================] - 5s 76ms/step - loss: 0.1863 - accuracy: 0.9247 - val_loss: 0.2903 - val_accuracy: 0.8834 - lr: 0.0010\n",
            "Epoch 14/15\n",
            "69/69 [==============================] - 5s 73ms/step - loss: 0.1712 - accuracy: 0.9375 - val_loss: 0.3225 - val_accuracy: 0.8707 - lr: 0.0010\n",
            "Epoch 15/15\n",
            "69/69 [==============================] - 5s 72ms/step - loss: 0.1807 - accuracy: 0.9288 - val_loss: 0.3102 - val_accuracy: 0.8634 - lr: 0.0010\n"
          ]
        }
      ],
      "source": [
        "# Fit inception model with frozen imagenet weights and new output layer\n",
        "\n",
        "with tf.device('/device:GPU:0'):\n",
        "  \n",
        "  # set lr = 0.001 for adam optimizer\n",
        "  from tensorflow.keras.optimizers import Adam\n",
        "  adam = Adam(learning_rate = 0.001)\n",
        "\n",
        "  # set callback to reduce lr when val_loss plateaus\n",
        "  from tensorflow.python.keras.callbacks import ReduceLROnPlateau\n",
        "  red_lr= ReduceLROnPlateau(monitor='val_loss',patience=3,verbose=1,factor=0.1) # dividing lr by 10 when val_accuracy fails to improve after 3 epochs\n",
        "\n",
        "  # compile model\n",
        "  model5.compile(loss='categorical_crossentropy', optimizer= adam, metrics=['accuracy']) \n",
        "\n",
        "  # fit model\n",
        "  model5.fit(X_train, y_train, epochs = 15, verbose=1,validation_split=.2, callbacks = [red_lr])"
      ]
    },
    {
      "cell_type": "code",
      "execution_count": null,
      "metadata": {
        "id": "dQU-20QZKkfQ"
      },
      "outputs": [],
      "source": [
        "# save model5 as h5 file in case runtime restarts\n",
        "model5.save(\"model5.h5\", save_format=\"h5\")"
      ]
    },
    {
      "cell_type": "code",
      "execution_count": null,
      "metadata": {
        "id": "63A7GP6eKq2K"
      },
      "outputs": [],
      "source": [
        "import pickle\n",
        "\n",
        "# reload X_test and y_test data (if runtime crashes)  \n",
        "with open('X_test.pkl', 'rb') as file:\n",
        "    X_test = pickle.load(file)\n",
        "\n",
        "with open('y_test.pkl', 'rb') as file:\n",
        "    y_test = pickle.load(file)"
      ]
    },
    {
      "cell_type": "code",
      "execution_count": null,
      "metadata": {
        "colab": {
          "base_uri": "https://localhost:8080/"
        },
        "id": "ZEoTU9QUKs3x",
        "outputId": "b10ec432-64f3-4394-b17a-f5d6d3fbe3e4"
      },
      "outputs": [
        {
          "name": "stdout",
          "output_type": "stream",
          "text": [
            "11/11 [==============================] - 5s 243ms/step - loss: 0.3214 - accuracy: 0.8768\n",
            "[0.32142969965934753, 0.8768396377563477]\n"
          ]
        }
      ],
      "source": [
        "# evaluate model on test data\n",
        "model5_score = model5.evaluate(X_test, y_test, batch_size = 128)\n",
        "print(model5_score)"
      ]
    },
    {
      "cell_type": "code",
      "execution_count": null,
      "metadata": {
        "colab": {
          "base_uri": "https://localhost:8080/"
        },
        "id": "o-x7FeVBNgdS",
        "outputId": "223c791b-622b-4cbf-c769-6654d77cb7fa"
      },
      "outputs": [],
      "source": [
        "# In case runtime restarts, reload model5\n",
        "import tensorflow as tf\n",
        "\n",
        "from tensorflow.keras.optimizers import Adam\n",
        "adam = Adam(learning_rate = 0.001)\n",
        "\n",
        "model5 = tf.keras.models.load_model('model5.h5',compile=False)\n",
        "model5.compile(\n",
        "    optimizer= adam,\n",
        "    loss= 'categorical_crossentropy',\n",
        "    metrics=['accuracy'])\n",
        "model5.summary()"
      ]
    },
    {
      "cell_type": "code",
      "execution_count": null,
      "metadata": {
        "id": "7VaoVLnsKuk9"
      },
      "outputs": [],
      "source": [
        "# save model5 to local ONNX file\n",
        "from aimodelshare.aimsonnx import model_to_onnx\n",
        "onnx_model5 = model_to_onnx(model5, framework='keras',\n",
        "                          transfer_learning=True,\n",
        "                          deep_learning=True)\n",
        "\n",
        "with open(\"model5.onnx\", \"wb\") as f:\n",
        "    f.write(onnx_model5.SerializeToString())"
      ]
    },
    {
      "cell_type": "code",
      "execution_count": null,
      "metadata": {
        "colab": {
          "base_uri": "https://localhost:8080/"
        },
        "id": "5F7SxnqELd_3",
        "outputId": "e6764350-7f6f-4dde-c423-ae9aac816afe"
      },
      "outputs": [
        {
          "name": "stdout",
          "output_type": "stream",
          "text": [
            "41/41 [==============================] - 6s 71ms/step\n"
          ]
        }
      ],
      "source": [
        "#Use X_test data to generate model predictions and make leaderboard submission\n",
        "prediction_column_index5=model5.predict(X_test).argmax(axis=1)\n",
        "\n",
        "# extract correct prediction labels \n",
        "prediction_labels5 = [y_train.columns[i] for i in prediction_column_index5]"
      ]
    },
    {
      "cell_type": "code",
      "execution_count": null,
      "metadata": {
        "colab": {
          "base_uri": "https://localhost:8080/"
        },
        "id": "93CMzi4fLyj_",
        "outputId": "e6012b54-f3e0-4a20-bfab-50d538bca57b"
      },
      "outputs": [
        {
          "name": "stdout",
          "output_type": "stream",
          "text": [
            "Insert search tags to help users find your model (optional): \n",
            "Provide any useful notes about your model (optional): \n",
            "\n",
            "Your model has been submitted as model version 17\n",
            "\n",
            "To submit code used to create this model or to view current leaderboard navigate to Model Playground: \n",
            "\n",
            " https://www.modelshare.org/detail/model:3340\n"
          ]
        }
      ],
      "source": [
        "# Submit model5 to Competition Leaderboard\n",
        "experiment.submit_model(model_filepath = \"model5.onnx\",\n",
        "                                 preprocessor_filepath=\"preprocessor.zip\",\n",
        "                                 prediction_submission=prediction_labels5)"
      ]
    },
    {
      "cell_type": "markdown",
      "metadata": {
        "id": "nmsWTNoMNTL0"
      },
      "source": [
        "### Inception Performance\n",
        "\n",
        "The Inception model performed better than the VGG16, ResNet, and MLP models, correctly classifying 87.68% of test observations. However, the CNN model still outperformed the Inception model. Again, the model might improve if trained over more iterations; val_loss was beginning to plateau toward the last few epochs, but the callback to slow the learning rate had not been triggered.\n",
        "\n",
        "![image.png](data:image/png;base64,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)"
      ]
    },
    {
      "cell_type": "markdown",
      "metadata": {
        "id": "iiMFvYruNV73"
      },
      "source": [
        "## Model 6 - Inception with Unfrozen Layers\n",
        "\n",
        "Since the Inception model performed the best out of the three transfer learning methods tested so far, I decided to see if its performance could be boosted even further if i made the parameters in the first ten layers of the model trainable. Theoretically, this would allow the model to better adapt to the new data being fed to it from epoch to epoch, and thus have a similar effect to increasing the number of epochs over which the model was trained."
      ]
    },
    {
      "cell_type": "code",
      "execution_count": null,
      "metadata": {
        "id": "-hjhbYYUL958"
      },
      "outputs": [],
      "source": [
        "# code to reload data in case runtime crashes\n",
        "import pickle\n",
        "  \n",
        "# reload X_train and y-train\n",
        "with open('X_train.pkl', 'rb') as file:\n",
        "    X_train = pickle.load(file)\n",
        "\n",
        "with open('y_train.pkl', 'rb') as file:\n",
        "    y_train = pickle.load(file)"
      ]
    },
    {
      "cell_type": "code",
      "execution_count": null,
      "metadata": {
        "id": "AoomxgESOVpC"
      },
      "outputs": [],
      "source": [
        "import tensorflow as tf\n",
        "from tensorflow.keras.applications import InceptionV3\n",
        "from tensorflow.keras.models import Sequential,Model\n",
        "from tensorflow.keras.preprocessing import image\n",
        "from tensorflow.keras.models import Model\n",
        "from tensorflow.keras.layers import Dense, GlobalAveragePooling2D, Flatten\n",
        "from tensorflow.keras import backend as K\n",
        "\n",
        "# Create new base model from the pre-trained model VGG16\n",
        "base_model4 = InceptionV3(input_shape= (192, 192, 3), include_top=False, weights='imagenet')\n",
        "\n",
        "# fine tune first 20 layers, freeze all subsequent layers\n",
        "freeze_layers_after = 20\n",
        "for layer in base_model4.layers[freeze_layers_after:]:\n",
        "  layer.trainable =  False\n",
        "\n",
        "# create new classifier layer\n",
        "gap4 = GlobalAveragePooling2D()(base_model4.layers[-1].output)\n",
        "output = Dense(3, activation='softmax')(gap4)\n",
        "\n",
        "# define new model\n",
        "model6 = Model(inputs=base_model4.inputs, outputs=output)"
      ]
    },
    {
      "cell_type": "code",
      "execution_count": null,
      "metadata": {
        "colab": {
          "base_uri": "https://localhost:8080/"
        },
        "id": "YEW24WpQPS2h",
        "outputId": "039a53fc-d96e-4f1f-a728-6beaadf45d30"
      },
      "outputs": [
        {
          "name": "stdout",
          "output_type": "stream",
          "text": [
            "Epoch 1/15\n",
            "69/69 [==============================] - 22s 184ms/step - loss: 0.5787 - accuracy: 0.7614 - val_loss: 0.9913 - val_accuracy: 0.5738 - lr: 0.0010\n",
            "Epoch 2/15\n",
            "69/69 [==============================] - 10s 149ms/step - loss: 0.2996 - accuracy: 0.8755 - val_loss: 0.8850 - val_accuracy: 0.6812 - lr: 0.0010\n",
            "Epoch 3/15\n",
            "69/69 [==============================] - 10s 143ms/step - loss: 0.2035 - accuracy: 0.9234 - val_loss: 1.0560 - val_accuracy: 0.6539 - lr: 0.0010\n",
            "Epoch 4/15\n",
            "69/69 [==============================] - 10s 151ms/step - loss: 0.1352 - accuracy: 0.9443 - val_loss: 0.5453 - val_accuracy: 0.8124 - lr: 0.0010\n",
            "Epoch 5/15\n",
            "69/69 [==============================] - 11s 153ms/step - loss: 0.0940 - accuracy: 0.9672 - val_loss: 0.2917 - val_accuracy: 0.8871 - lr: 0.0010\n",
            "Epoch 6/15\n",
            "69/69 [==============================] - 10s 148ms/step - loss: 0.0481 - accuracy: 0.9845 - val_loss: 0.3009 - val_accuracy: 0.8852 - lr: 0.0010\n",
            "Epoch 7/15\n",
            "69/69 [==============================] - 10s 147ms/step - loss: 0.0413 - accuracy: 0.9872 - val_loss: 0.2781 - val_accuracy: 0.9053 - lr: 0.0010\n",
            "Epoch 8/15\n",
            "69/69 [==============================] - 11s 153ms/step - loss: 0.0538 - accuracy: 0.9808 - val_loss: 0.3524 - val_accuracy: 0.8798 - lr: 0.0010\n",
            "Epoch 9/15\n",
            "69/69 [==============================] - 10s 148ms/step - loss: 0.0937 - accuracy: 0.9599 - val_loss: 0.4009 - val_accuracy: 0.8707 - lr: 0.0010\n",
            "Epoch 10/15\n",
            "69/69 [==============================] - ETA: 0s - loss: 0.0591 - accuracy: 0.9790\n",
            "Epoch 00010: ReduceLROnPlateau reducing learning rate to 0.00010000000474974513.\n",
            "69/69 [==============================] - 11s 154ms/step - loss: 0.0591 - accuracy: 0.9790 - val_loss: 0.5758 - val_accuracy: 0.8342 - lr: 0.0010\n",
            "Epoch 11/15\n",
            "69/69 [==============================] - 10s 147ms/step - loss: 0.0222 - accuracy: 0.9927 - val_loss: 0.2565 - val_accuracy: 0.9035 - lr: 1.0000e-04\n",
            "Epoch 12/15\n",
            "69/69 [==============================] - 10s 149ms/step - loss: 0.0102 - accuracy: 0.9986 - val_loss: 0.1837 - val_accuracy: 0.9271 - lr: 1.0000e-04\n",
            "Epoch 13/15\n",
            "69/69 [==============================] - 10s 149ms/step - loss: 0.0078 - accuracy: 1.0000 - val_loss: 0.1601 - val_accuracy: 0.9381 - lr: 1.0000e-04\n",
            "Epoch 14/15\n",
            "69/69 [==============================] - 11s 153ms/step - loss: 0.0060 - accuracy: 0.9995 - val_loss: 0.1506 - val_accuracy: 0.9399 - lr: 1.0000e-04\n",
            "Epoch 15/15\n",
            "69/69 [==============================] - 10s 152ms/step - loss: 0.0047 - accuracy: 1.0000 - val_loss: 0.1486 - val_accuracy: 0.9399 - lr: 1.0000e-04\n"
          ]
        }
      ],
      "source": [
        "# Fit inception model with partially frozen imagenet weights and new output layer\n",
        "\n",
        "with tf.device('/device:GPU:0'):\n",
        "  \n",
        "  # set lr = 0.001 for adam optimizer\n",
        "  from tensorflow.keras.optimizers import Adam\n",
        "  adam = Adam(learning_rate = 0.001)\n",
        "\n",
        "  # set callback to reduce lr when val_loss plateaus\n",
        "  from tensorflow.python.keras.callbacks import ReduceLROnPlateau\n",
        "  red_lr= ReduceLROnPlateau(monitor='val_loss',patience=3,verbose=1,factor=0.1) # dividing lr by 10 when val_accuracy fails to improve after 3 epochs\n",
        "\n",
        "  # compile model\n",
        "  model6.compile(loss='categorical_crossentropy', optimizer= adam, metrics=['accuracy']) \n",
        "\n",
        "  # fit model\n",
        "  model6.fit(X_train, y_train, epochs = 15, verbose=1,validation_split=.2, callbacks = [red_lr])"
      ]
    },
    {
      "cell_type": "code",
      "execution_count": null,
      "metadata": {
        "id": "SViaRThDPaly"
      },
      "outputs": [],
      "source": [
        "# save model6 as h5 file in case runtime restarts\n",
        "model6.save(\"model6.h5\", save_format=\"h5\")"
      ]
    },
    {
      "cell_type": "code",
      "execution_count": null,
      "metadata": {
        "id": "dsmN1NRcPhAv"
      },
      "outputs": [],
      "source": [
        "import pickle\n",
        "\n",
        "# reload X_test and y_test data (if runtime crashes)  \n",
        "with open('X_test.pkl', 'rb') as file:\n",
        "    X_test = pickle.load(file)\n",
        "\n",
        "with open('y_test.pkl', 'rb') as file:\n",
        "    y_test = pickle.load(file)"
      ]
    },
    {
      "cell_type": "code",
      "execution_count": null,
      "metadata": {
        "colab": {
          "base_uri": "https://localhost:8080/"
        },
        "id": "1Y4l-ccIPyl9",
        "outputId": "e4149a8f-661c-4daa-fc4f-0edfe4cc2721"
      },
      "outputs": [
        {
          "name": "stdout",
          "output_type": "stream",
          "text": [
            "11/11 [==============================] - 2s 169ms/step - loss: 0.2180 - accuracy: 0.9380\n",
            "[0.21800532937049866, 0.9380325078964233]\n"
          ]
        }
      ],
      "source": [
        "# evaluate model on test data\n",
        "model6_score = model6.evaluate(X_test, y_test, batch_size = 128)\n",
        "print(model6_score)"
      ]
    },
    {
      "cell_type": "code",
      "execution_count": null,
      "metadata": {
        "colab": {
          "base_uri": "https://localhost:8080/"
        },
        "id": "QE6_jWajP2cD",
        "outputId": "13d9c9ce-f30e-47b9-d531-0e7b9349f88e"
      },
      "outputs": [],
      "source": [
        "# In case runtime restarts, reload model6\n",
        "import tensorflow as tf\n",
        "\n",
        "from tensorflow.keras.optimizers import Adam\n",
        "adam = Adam(learning_rate = 0.001)\n",
        "\n",
        "model6 = tf.keras.models.load_model('model6.h5',compile=False)\n",
        "model6.compile(\n",
        "    optimizer= adam,\n",
        "    loss= 'categorical_crossentropy',\n",
        "    metrics=['accuracy'])\n",
        "model6.summary()"
      ]
    },
    {
      "cell_type": "code",
      "execution_count": null,
      "metadata": {
        "id": "mj4Z03-_P9dL"
      },
      "outputs": [],
      "source": [
        "# save model6 to local ONNX file\n",
        "from aimodelshare.aimsonnx import model_to_onnx\n",
        "onnx_model6 = model_to_onnx(model6, framework='keras',\n",
        "                          transfer_learning=True,\n",
        "                          deep_learning=True)\n",
        "\n",
        "with open(\"model6.onnx\", \"wb\") as f:\n",
        "    f.write(onnx_model6.SerializeToString())"
      ]
    },
    {
      "cell_type": "code",
      "execution_count": null,
      "metadata": {
        "colab": {
          "base_uri": "https://localhost:8080/"
        },
        "id": "WLrVDGHdQCFX",
        "outputId": "8178c378-b9cb-4aef-987b-35f22241bac6"
      },
      "outputs": [
        {
          "name": "stdout",
          "output_type": "stream",
          "text": [
            "41/41 [==============================] - 4s 51ms/step\n"
          ]
        }
      ],
      "source": [
        "#Use X_test data to generate model predictions and make leaderboard submission\n",
        "prediction_column_index6=model6.predict(X_test).argmax(axis=1)\n",
        "\n",
        "# extract correct prediction labels \n",
        "prediction_labels6 = [y_train.columns[i] for i in prediction_column_index6]"
      ]
    },
    {
      "cell_type": "code",
      "execution_count": null,
      "metadata": {
        "colab": {
          "base_uri": "https://localhost:8080/"
        },
        "id": "uarTD59znTD9",
        "outputId": "4c78d1f9-ed13-4c29-8196-9e52dac6270c"
      },
      "outputs": [
        {
          "name": "stdout",
          "output_type": "stream",
          "text": [
            "Insert search tags to help users find your model (optional): \n",
            "Provide any useful notes about your model (optional): \n",
            "\n",
            "Your model has been submitted as model version 18\n",
            "\n",
            "To submit code used to create this model or to view current leaderboard navigate to Model Playground: \n",
            "\n",
            " https://www.modelshare.org/detail/model:3340\n"
          ]
        }
      ],
      "source": [
        "# Submit model6 to Competition Leaderboard\n",
        "experiment.submit_model(model_filepath = \"model6.onnx\",\n",
        "                                 preprocessor_filepath=\"preprocessor.zip\",\n",
        "                                 prediction_submission=prediction_labels6)"
      ]
    },
    {
      "cell_type": "markdown",
      "metadata": {
        "id": "jQjiYqxRQiS-"
      },
      "source": [
        "### Inception with Unfrozen Layers Performance\n",
        "\n",
        "As expected, allowing the weights of the Inception model to vary significantly improved model performance, producing the best-performing model of all the architectures tested thus far - this 6th model correctly classified 93.80% of test observations.\n",
        "\n",
        "![image.png](data:image/png;base64,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)"
      ]
    },
    {
      "cell_type": "markdown",
      "metadata": {
        "id": "NDThZxpwQoYo"
      },
      "source": [
        "## Model 7 - Inception with Augmented Data\n",
        "\n",
        "For my 7th and final model, I decided to see if my best-performing model could be improved any further by augmenting the data used to train it. Using Keras' ImageDataGenerator, images fed to the model were randomly either zoomed into, flipped (horizontally or vertically), or kept the same. Theoretically, this would be beneficial to the model's ultimate performance since this would artificially increase the size and variation of the data set used to train the model."
      ]
    },
    {
      "cell_type": "code",
      "execution_count": null,
      "metadata": {
        "id": "ZqL_kLvubUzi"
      },
      "outputs": [],
      "source": [
        "from tensorflow.keras.preprocessing.image import ImageDataGenerator\n",
        "from tensorflow.keras.preprocessing import image\n",
        "from tensorflow.keras.preprocessing.image import load_img\n",
        "\n",
        "# create list of file names\n",
        "filenamelist=fnames[0]+fnames[1]+fnames[2]\n",
        "\n",
        "# recreate y data labels made up of correctly ordered labels\n",
        "from itertools import repeat\n",
        "covid=list(repeat(\"COVID\", 1344))\n",
        "normal=list(repeat(\"NORMAL\", 1344))\n",
        "pneumonia=list(repeat(\"PNEUMONIA\", 1344))\n",
        "\n",
        "#combine into single list of y labels\n",
        "y_labels = covid+normal+pneumonia"
      ]
    },
    {
      "cell_type": "code",
      "execution_count": null,
      "metadata": {
        "id": "ZW8CBo3QcwL0"
      },
      "outputs": [],
      "source": [
        "# train test split data again, without preprocessing\n",
        "from sklearn.model_selection import train_test_split\n",
        "\n",
        "X_train2, X_test2, y_train2, y_test2 = train_test_split(filenamelist,\n",
        "                                                   y_labels,\n",
        "                                                   stratify = y_labels,\n",
        "                                                   test_size = 0.32,\n",
        "                                                   random_state = 1987)"
      ]
    },
    {
      "cell_type": "code",
      "execution_count": null,
      "metadata": {
        "id": "7EzHFVjPlL2o"
      },
      "outputs": [],
      "source": [
        "#Save out new train-test split in cases runtime restarts\n",
        "import pickle\n",
        "\n",
        "# Open files and use dump()\n",
        "with open('X_train2.pkl', 'wb') as file:\n",
        "    pickle.dump(X_train2, file)\n",
        "\n",
        "with open('X_test2.pkl', 'wb') as file:\n",
        "    pickle.dump(X_test2, file)\n",
        "\n",
        "with open('y_train2.pkl', 'wb') as file:\n",
        "    pickle.dump(y_train2, file)\n",
        "\n",
        "with open('y_test2.pkl', 'wb') as file:\n",
        "    pickle.dump(y_test2, file)"
      ]
    },
    {
      "cell_type": "code",
      "execution_count": null,
      "metadata": {
        "id": "24cXQ4EedIlD"
      },
      "outputs": [],
      "source": [
        "# put filenames into dataframe with labels\n",
        "# to facilitate augmentation using ImageDataGenerator\n",
        "import pandas as pd\n",
        "trainingdata=pd.DataFrame.from_dict({'X': X_train2, 'y': y_train2})\n",
        "testdata=pd.DataFrame.from_dict({'X': X_test2, 'y': y_test2})"
      ]
    },
    {
      "cell_type": "code",
      "execution_count": null,
      "metadata": {
        "colab": {
          "base_uri": "https://localhost:8080/"
        },
        "id": "ZeW7Lx2RdjI_",
        "outputId": "1f896638-fb15-4199-e9d6-52d7cdc1611c"
      },
      "outputs": [
        {
          "name": "stdout",
          "output_type": "stream",
          "text": [
            "Found 2193 validated image filenames belonging to 3 classes.\n",
            "Found 548 validated image filenames belonging to 3 classes.\n",
            "Found 1291 validated image filenames belonging to 3 classes.\n"
          ]
        }
      ],
      "source": [
        "# instantiate image data generators\n",
        "train_datagen = ImageDataGenerator(\n",
        "        rescale=1./255,\n",
        "        zoom_range=0.5,\n",
        "        horizontal_flip=True,\n",
        "        vertical_flip=True,\n",
        "        validation_split = .2)\n",
        "\n",
        "test_datagen = ImageDataGenerator(rescale=1./255)\n",
        "\n",
        "# read training data into generator\n",
        "train_generator = train_datagen.flow_from_dataframe(\n",
        "        dataframe=trainingdata,\n",
        "        subset = 'training',\n",
        "        directory=None,\n",
        "        x_col=\"X\",\n",
        "        y_col=\"y\",\n",
        "        target_size= (192, 192),\n",
        "        class_mode='categorical',\n",
        "        shuffle=True)\n",
        "\n",
        "# create a separate generator for validation data,\n",
        "# to be used when training the model\n",
        "val_generator = train_datagen.flow_from_dataframe(\n",
        "        dataframe=trainingdata,\n",
        "        subset = 'validation',\n",
        "        directory=None,\n",
        "        x_col=\"X\",\n",
        "        y_col=\"y\",\n",
        "        target_size= (192, 192),\n",
        "        class_mode='categorical',\n",
        "        shuffle=True)\n",
        "\n",
        "# create generator for held out test data\n",
        "test_generator = test_datagen.flow_from_dataframe(\n",
        "        dataframe=testdata,\n",
        "        directory=None,\n",
        "        x_col=\"X\",\n",
        "        y_col=\"y\",\n",
        "        target_size=(192, 192),\n",
        "        class_mode='categorical')"
      ]
    },
    {
      "cell_type": "code",
      "execution_count": null,
      "metadata": {
        "id": "eRJpoN3VeMZD"
      },
      "outputs": [],
      "source": [
        "# rerun Inception model with partially frozen layers\n",
        "import tensorflow as tf\n",
        "from tensorflow.keras.applications import InceptionV3\n",
        "from tensorflow.keras.models import Sequential,Model\n",
        "from tensorflow.keras.preprocessing import image\n",
        "from tensorflow.keras.models import Model\n",
        "from tensorflow.keras.layers import Dense, GlobalAveragePooling2D, Flatten\n",
        "from tensorflow.keras import backend as K\n",
        "\n",
        "# Create new base model from the pre-trained model VGG16\n",
        "base_model5 = InceptionV3(input_shape= (192, 192, 3), include_top=False, weights='imagenet')\n",
        "\n",
        "# fine tune first 20 layers, freeze all subsequent layers\n",
        "freeze_layers_after = 20\n",
        "for layer in base_model5.layers[freeze_layers_after:]:\n",
        "  layer.trainable =  False\n",
        "\n",
        "# create new classifier layer\n",
        "gap5 = GlobalAveragePooling2D()(base_model5.layers[-1].output)\n",
        "output = Dense(3, activation='softmax')(gap5)\n",
        "\n",
        "# define new model\n",
        "model7 = Model(inputs=base_model5.inputs, outputs=output)"
      ]
    },
    {
      "cell_type": "code",
      "execution_count": null,
      "metadata": {
        "colab": {
          "base_uri": "https://localhost:8080/"
        },
        "id": "sQfNeEV_fF39",
        "outputId": "af1f4dd3-fe0f-46a6-f89c-d10853d027a7"
      },
      "outputs": [
        {
          "name": "stdout",
          "output_type": "stream",
          "text": [
            "Epoch 1/15\n",
            "68/68 [==============================] - 48s 586ms/step - loss: 0.7751 - accuracy: 0.6598 - val_loss: 0.9902 - val_accuracy: 0.5748 - lr: 0.0010\n",
            "Epoch 2/15\n",
            "68/68 [==============================] - 31s 457ms/step - loss: 0.5575 - accuracy: 0.7679 - val_loss: 0.6864 - val_accuracy: 0.6916 - lr: 0.0010\n",
            "Epoch 3/15\n",
            "68/68 [==============================] - 31s 446ms/step - loss: 0.4768 - accuracy: 0.7971 - val_loss: 0.8235 - val_accuracy: 0.6697 - lr: 0.0010\n",
            "Epoch 4/15\n",
            "68/68 [==============================] - 31s 452ms/step - loss: 0.4755 - accuracy: 0.8030 - val_loss: 0.7649 - val_accuracy: 0.7080 - lr: 0.0010\n",
            "Epoch 5/15\n",
            "68/68 [==============================] - 33s 473ms/step - loss: 0.4559 - accuracy: 0.8176 - val_loss: 0.5479 - val_accuracy: 0.7792 - lr: 0.0010\n",
            "Epoch 6/15\n",
            "68/68 [==============================] - 31s 445ms/step - loss: 0.4155 - accuracy: 0.8354 - val_loss: 0.7659 - val_accuracy: 0.6880 - lr: 0.0010\n",
            "Epoch 7/15\n",
            "68/68 [==============================] - 31s 446ms/step - loss: 0.4174 - accuracy: 0.8226 - val_loss: 0.5240 - val_accuracy: 0.7755 - lr: 0.0010\n",
            "Epoch 8/15\n",
            "68/68 [==============================] - 36s 519ms/step - loss: 0.4304 - accuracy: 0.8317 - val_loss: 0.5355 - val_accuracy: 0.7664 - lr: 0.0010\n",
            "Epoch 9/15\n",
            "68/68 [==============================] - 31s 446ms/step - loss: 0.3941 - accuracy: 0.8399 - val_loss: 0.5261 - val_accuracy: 0.7792 - lr: 0.0010\n",
            "Epoch 10/15\n",
            "69/68 [==============================] - ETA: 0s - loss: 0.3860 - accuracy: 0.8523\n",
            "Epoch 00010: ReduceLROnPlateau reducing learning rate to 0.00010000000474974513.\n",
            "68/68 [==============================] - 32s 472ms/step - loss: 0.3860 - accuracy: 0.8523 - val_loss: 0.8347 - val_accuracy: 0.6971 - lr: 0.0010\n",
            "Epoch 11/15\n",
            "68/68 [==============================] - 35s 507ms/step - loss: 0.3414 - accuracy: 0.8618 - val_loss: 0.4239 - val_accuracy: 0.8084 - lr: 1.0000e-04\n",
            "Epoch 12/15\n",
            "68/68 [==============================] - 32s 467ms/step - loss: 0.3178 - accuracy: 0.8741 - val_loss: 0.2766 - val_accuracy: 0.8704 - lr: 1.0000e-04\n",
            "Epoch 13/15\n",
            "68/68 [==============================] - 36s 519ms/step - loss: 0.2947 - accuracy: 0.8824 - val_loss: 0.2581 - val_accuracy: 0.8832 - lr: 1.0000e-04\n",
            "Epoch 14/15\n",
            "68/68 [==============================] - 32s 464ms/step - loss: 0.3074 - accuracy: 0.8741 - val_loss: 0.3205 - val_accuracy: 0.8668 - lr: 1.0000e-04\n",
            "Epoch 15/15\n",
            "68/68 [==============================] - 35s 516ms/step - loss: 0.2783 - accuracy: 0.8860 - val_loss: 0.2588 - val_accuracy: 0.8887 - lr: 1.0000e-04\n"
          ]
        }
      ],
      "source": [
        "# Fit inception model with partially frozen imagenet weights and new output layer to augmented data\n",
        "\n",
        "with tf.device('/device:GPU:0'):\n",
        "  \n",
        "  # set lr = 0.001 for adam optimizer\n",
        "  from tensorflow.keras.optimizers import Adam\n",
        "  adam = Adam(learning_rate = 0.001)\n",
        "\n",
        "  # set callback to reduce lr when val_loss plateaus\n",
        "  from tensorflow.python.keras.callbacks import ReduceLROnPlateau\n",
        "  red_lr= ReduceLROnPlateau(monitor='val_loss',patience=3,verbose=1,factor=0.1) # dividing lr by 10 when val_accuracy fails to improve after 3 epochs\n",
        "\n",
        "  # compile model\n",
        "  model7.compile(loss='categorical_crossentropy', optimizer= adam, metrics=['accuracy']) \n",
        "\n",
        "  # fit model\n",
        "  model7.fit(train_generator,\n",
        "             steps_per_epoch = (.8 * len(trainingdata)) / 32,\n",
        "             epochs = 15, \n",
        "             verbose=1,\n",
        "             validation_data=val_generator,\n",
        "             callbacks = [red_lr])"
      ]
    },
    {
      "cell_type": "code",
      "execution_count": null,
      "metadata": {
        "id": "BNxOnFGyjNvr"
      },
      "outputs": [],
      "source": [
        "# save model7 as h5 file in case runtime restarts\n",
        "model7.save(\"model7.h5\", save_format=\"h5\")"
      ]
    },
    {
      "cell_type": "code",
      "execution_count": null,
      "metadata": {
        "colab": {
          "base_uri": "https://localhost:8080/"
        },
        "id": "QkiWRZxcj8kR",
        "outputId": "f89a2957-73c0-418f-b20a-0725ceb13073"
      },
      "outputs": [
        {
          "name": "stdout",
          "output_type": "stream",
          "text": [
            "41/41 [==============================] - 5s 123ms/step - loss: 0.2588 - accuracy: 0.9001\n",
            "[0.2587527334690094, 0.9000774621963501]\n"
          ]
        }
      ],
      "source": [
        "# evaluate model on test_generator data\n",
        "model7_score = model7.evaluate(test_generator, batch_size = 128)\n",
        "print(model7_score)"
      ]
    },
    {
      "cell_type": "code",
      "execution_count": null,
      "metadata": {
        "colab": {
          "base_uri": "https://localhost:8080/"
        },
        "id": "2XHqA4G7Vxip",
        "outputId": "43e31b7c-2421-4b6c-f774-ef8817e20f4b"
      },
      "outputs": [
        {
          "name": "stdout",
          "output_type": "stream",
          "text": [
            "11/11 [==============================] - 4s 163ms/step - loss: 0.2417 - accuracy: 0.9086\n",
            "[0.24168607592582703, 0.908598005771637]\n"
          ]
        }
      ],
      "source": [
        "# also evaluate model on X_test data - check if there is any difference\n",
        "model7_score = model7.evaluate(X_test, y_test, batch_size = 128)\n",
        "print(model7_score)"
      ]
    },
    {
      "cell_type": "code",
      "execution_count": null,
      "metadata": {
        "colab": {
          "base_uri": "https://localhost:8080/"
        },
        "id": "AREYSs0SkH1H",
        "outputId": "6cc5ce81-e0be-48a8-b88e-f55446c37fe1"
      },
      "outputs": [],
      "source": [
        "# In case runtime restarts, reload model7\n",
        "import tensorflow as tf\n",
        "\n",
        "from tensorflow.keras.optimizers import Adam\n",
        "adam = Adam(learning_rate = 0.001)\n",
        "\n",
        "model7 = tf.keras.models.load_model('model7.h5',compile=False)\n",
        "model7.compile(\n",
        "    optimizer= adam,\n",
        "    loss= 'categorical_crossentropy',\n",
        "    metrics=['accuracy'])\n",
        "model7.summary()"
      ]
    },
    {
      "cell_type": "code",
      "execution_count": null,
      "metadata": {
        "id": "Tz0kAmsC0FEZ"
      },
      "outputs": [],
      "source": [
        "# save model7 to local ONNX file\n",
        "from aimodelshare.aimsonnx import model_to_onnx\n",
        "onnx_model7 = model_to_onnx(model7, framework='keras',\n",
        "                          transfer_learning=True,\n",
        "                          deep_learning=True)\n",
        "\n",
        "with open(\"model7.onnx\", \"wb\") as f:\n",
        "    f.write(onnx_model7.SerializeToString())"
      ]
    },
    {
      "cell_type": "code",
      "execution_count": null,
      "metadata": {
        "id": "sxdVy_zUmEc0"
      },
      "outputs": [],
      "source": [
        "import pickle\n",
        "\n",
        "# reload X_test data (if runtime crashes)  \n",
        "with open('X_test.pkl', 'rb') as file:\n",
        "    X_test = pickle.load(file)"
      ]
    },
    {
      "cell_type": "code",
      "execution_count": null,
      "metadata": {
        "colab": {
          "base_uri": "https://localhost:8080/"
        },
        "id": "1BSIJMtCmW4P",
        "outputId": "f99f6dad-7433-449e-a356-0bde7f01d10c"
      },
      "outputs": [
        {
          "name": "stdout",
          "output_type": "stream",
          "text": [
            "41/41 [==============================] - 2s 52ms/step\n"
          ]
        }
      ],
      "source": [
        "#Use X_test data to generate model predictions and make leaderboard submission\n",
        "prediction_column_index7=model7.predict(X_test).argmax(axis=1)\n",
        "\n",
        "# extract correct prediction labels \n",
        "prediction_labels7 = [y_train.columns[i] for i in prediction_column_index7]"
      ]
    },
    {
      "cell_type": "code",
      "execution_count": null,
      "metadata": {
        "colab": {
          "base_uri": "https://localhost:8080/"
        },
        "id": "UxtTRIbYnW1e",
        "outputId": "dbbe7592-7b2f-4390-daf4-0b5db6174ac0"
      },
      "outputs": [
        {
          "name": "stdout",
          "output_type": "stream",
          "text": [
            "Insert search tags to help users find your model (optional): \n",
            "Provide any useful notes about your model (optional): \n",
            "\n",
            "Your model has been submitted as model version 19\n",
            "\n",
            "To submit code used to create this model or to view current leaderboard navigate to Model Playground: \n",
            "\n",
            " https://www.modelshare.org/detail/model:3340\n"
          ]
        }
      ],
      "source": [
        "# Submit model7 to Competition Leaderboard\n",
        "experiment.submit_model(model_filepath = \"model7.onnx\",\n",
        "                                 preprocessor_filepath=\"preprocessor.zip\",\n",
        "                                 prediction_submission=prediction_labels7)"
      ]
    },
    {
      "cell_type": "markdown",
      "metadata": {
        "id": "ZsUdtwTpj8P2"
      },
      "source": [
        "### Inception with Augmented Data Performance\n",
        "Interestingly, though the model with augmented data performed better than the MLP, ResNet, and VGG16 architectures, it performed worse than the Inception model without augmented data, and worse than the CNN network - it correctly classified 90.86% of held out test observations.\n",
        "\n",
        "This is perhaps not entirely unexpected. Since the model was trained using the same number of epochs as the other models tested thus far, this means that the total amount of training data seen by this 7th model is the *same* as that seen by the other models. At the same time, the variance in the training data has increased - while the raw data has a fairly uniform appearance (see the visualizations produced earlier in this notebook) the flipped and zoomed-into augmented data will appear quite distinct. There is litle reason to suspect that the model would perform better on a dataset that is of the same size, but that has more variance in the data. The benefits of data augmentation might be more visible if the model were trained on a larger absolute quantity of data - i.e., increasing the number of epochs over which the model is trained.\n",
        "\n",
        "![image.png](data:image/png;base64,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)"
      ]
    },
    {
      "cell_type": "markdown",
      "metadata": {
        "id": "aV6hgnGBwy7A"
      },
      "source": [
        "## Conclusion\n",
        "\n",
        "In summary, in this notebook, I explored using deep learning architectures (MLP, CNN, ResNet, VGG16, and Inception) to predict COVID positivity from X-ray images of patients' lungs. This exercise has demonstrated that such methods may be a viable means of detecting COVID-19 - a model based on the Inception architecture was able to correctly classify COVID-19 cases for 93.80% of held-out test data.\n",
        "\n",
        "Interestingly, two of the three transfer learning methods I explored (ResNet and VGG16) performed worse than the fairly simple MLP and CNN models employed. This is likely due to the fact that the models were only trained over a relatively small number of epochs (15) - further training might have seen better results. The Inception model also interestingly performed worse when trained on augmented data, though again this is likely because of the fact that the model only received a limited amount of training. Increasing the number of epochs that each model is trained for (and training these models on augmented data) could be a viable direction for further exploration, and lead to improvement of model performance."
      ]
    }
  ],
  "metadata": {
    "accelerator": "GPU",
    "colab": {
      "collapsed_sections": [
        "pGU_eOLsX4SV"
      ],
      "provenance": []
    },
    "gpuClass": "standard",
    "kernelspec": {
      "display_name": "Python 3",
      "name": "python3"
    },
    "language_info": {
      "name": "python"
    }
  },
  "nbformat": 4,
  "nbformat_minor": 0
}
